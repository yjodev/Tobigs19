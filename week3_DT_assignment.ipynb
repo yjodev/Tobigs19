{
  "cells": [
    {
      "cell_type": "markdown",
      "metadata": {
        "id": "view-in-github",
        "colab_type": "text"
      },
      "source": [
        "<a href=\"https://colab.research.google.com/github/yjodev/Tobigs19/blob/main/week3_DT_assignment.ipynb\" target=\"_parent\"><img src=\"https://colab.research.google.com/assets/colab-badge.svg\" alt=\"Open In Colab\"/></a>"
      ]
    },
    {
      "cell_type": "markdown",
      "metadata": {
        "id": "LnCJYE3nqkoX"
      },
      "source": [
        "# DT Assignment"
      ]
    },
    {
      "cell_type": "markdown",
      "metadata": {
        "id": "4dVp_UAbqkob"
      },
      "source": [
        "# Data Loading"
      ]
    },
    {
      "cell_type": "code",
      "execution_count": 1,
      "metadata": {
        "id": "v3bneZCIqkob"
      },
      "outputs": [],
      "source": [
        "import pandas as pd \n",
        "import numpy as np"
      ]
    },
    {
      "cell_type": "code",
      "execution_count": 3,
      "metadata": {
        "colab": {
          "base_uri": "https://localhost:8080/",
          "height": 483
        },
        "id": "PIMlC6gIqkod",
        "outputId": "2b562e00-3d1f-4b84-be9e-e12722464bb7"
      },
      "outputs": [
        {
          "output_type": "execute_result",
          "data": {
            "text/plain": [
              "            age  income student credit_rating class_buys_computer\n",
              "0         youth    high      no          fair                  no\n",
              "1         youth    high      no     excellent                  no\n",
              "2   middle_aged    high      no          fair                 yes\n",
              "3        senior  medium      no          fair                 yes\n",
              "4        senior     low     yes          fair                 yes\n",
              "5        senior     low     yes     excellent                  no\n",
              "6   middle_aged     low     yes     excellent                 yes\n",
              "7         youth  medium      no          fair                  no\n",
              "8         youth     low     yes          fair                 yes\n",
              "9        senior  medium     yes          fair                 yes\n",
              "10        youth  medium     yes     excellent                 yes\n",
              "11  middle_aged  medium      no     excellent                 yes\n",
              "12  middle_aged    high     yes          fair                 yes\n",
              "13       senior  medium      no     excellent                  no"
            ],
            "text/html": [
              "\n",
              "  <div id=\"df-9f523fc9-f6df-4702-b74e-b5bc9276e4bf\">\n",
              "    <div class=\"colab-df-container\">\n",
              "      <div>\n",
              "<style scoped>\n",
              "    .dataframe tbody tr th:only-of-type {\n",
              "        vertical-align: middle;\n",
              "    }\n",
              "\n",
              "    .dataframe tbody tr th {\n",
              "        vertical-align: top;\n",
              "    }\n",
              "\n",
              "    .dataframe thead th {\n",
              "        text-align: right;\n",
              "    }\n",
              "</style>\n",
              "<table border=\"1\" class=\"dataframe\">\n",
              "  <thead>\n",
              "    <tr style=\"text-align: right;\">\n",
              "      <th></th>\n",
              "      <th>age</th>\n",
              "      <th>income</th>\n",
              "      <th>student</th>\n",
              "      <th>credit_rating</th>\n",
              "      <th>class_buys_computer</th>\n",
              "    </tr>\n",
              "  </thead>\n",
              "  <tbody>\n",
              "    <tr>\n",
              "      <th>0</th>\n",
              "      <td>youth</td>\n",
              "      <td>high</td>\n",
              "      <td>no</td>\n",
              "      <td>fair</td>\n",
              "      <td>no</td>\n",
              "    </tr>\n",
              "    <tr>\n",
              "      <th>1</th>\n",
              "      <td>youth</td>\n",
              "      <td>high</td>\n",
              "      <td>no</td>\n",
              "      <td>excellent</td>\n",
              "      <td>no</td>\n",
              "    </tr>\n",
              "    <tr>\n",
              "      <th>2</th>\n",
              "      <td>middle_aged</td>\n",
              "      <td>high</td>\n",
              "      <td>no</td>\n",
              "      <td>fair</td>\n",
              "      <td>yes</td>\n",
              "    </tr>\n",
              "    <tr>\n",
              "      <th>3</th>\n",
              "      <td>senior</td>\n",
              "      <td>medium</td>\n",
              "      <td>no</td>\n",
              "      <td>fair</td>\n",
              "      <td>yes</td>\n",
              "    </tr>\n",
              "    <tr>\n",
              "      <th>4</th>\n",
              "      <td>senior</td>\n",
              "      <td>low</td>\n",
              "      <td>yes</td>\n",
              "      <td>fair</td>\n",
              "      <td>yes</td>\n",
              "    </tr>\n",
              "    <tr>\n",
              "      <th>5</th>\n",
              "      <td>senior</td>\n",
              "      <td>low</td>\n",
              "      <td>yes</td>\n",
              "      <td>excellent</td>\n",
              "      <td>no</td>\n",
              "    </tr>\n",
              "    <tr>\n",
              "      <th>6</th>\n",
              "      <td>middle_aged</td>\n",
              "      <td>low</td>\n",
              "      <td>yes</td>\n",
              "      <td>excellent</td>\n",
              "      <td>yes</td>\n",
              "    </tr>\n",
              "    <tr>\n",
              "      <th>7</th>\n",
              "      <td>youth</td>\n",
              "      <td>medium</td>\n",
              "      <td>no</td>\n",
              "      <td>fair</td>\n",
              "      <td>no</td>\n",
              "    </tr>\n",
              "    <tr>\n",
              "      <th>8</th>\n",
              "      <td>youth</td>\n",
              "      <td>low</td>\n",
              "      <td>yes</td>\n",
              "      <td>fair</td>\n",
              "      <td>yes</td>\n",
              "    </tr>\n",
              "    <tr>\n",
              "      <th>9</th>\n",
              "      <td>senior</td>\n",
              "      <td>medium</td>\n",
              "      <td>yes</td>\n",
              "      <td>fair</td>\n",
              "      <td>yes</td>\n",
              "    </tr>\n",
              "    <tr>\n",
              "      <th>10</th>\n",
              "      <td>youth</td>\n",
              "      <td>medium</td>\n",
              "      <td>yes</td>\n",
              "      <td>excellent</td>\n",
              "      <td>yes</td>\n",
              "    </tr>\n",
              "    <tr>\n",
              "      <th>11</th>\n",
              "      <td>middle_aged</td>\n",
              "      <td>medium</td>\n",
              "      <td>no</td>\n",
              "      <td>excellent</td>\n",
              "      <td>yes</td>\n",
              "    </tr>\n",
              "    <tr>\n",
              "      <th>12</th>\n",
              "      <td>middle_aged</td>\n",
              "      <td>high</td>\n",
              "      <td>yes</td>\n",
              "      <td>fair</td>\n",
              "      <td>yes</td>\n",
              "    </tr>\n",
              "    <tr>\n",
              "      <th>13</th>\n",
              "      <td>senior</td>\n",
              "      <td>medium</td>\n",
              "      <td>no</td>\n",
              "      <td>excellent</td>\n",
              "      <td>no</td>\n",
              "    </tr>\n",
              "  </tbody>\n",
              "</table>\n",
              "</div>\n",
              "      <button class=\"colab-df-convert\" onclick=\"convertToInteractive('df-9f523fc9-f6df-4702-b74e-b5bc9276e4bf')\"\n",
              "              title=\"Convert this dataframe to an interactive table.\"\n",
              "              style=\"display:none;\">\n",
              "        \n",
              "  <svg xmlns=\"http://www.w3.org/2000/svg\" height=\"24px\"viewBox=\"0 0 24 24\"\n",
              "       width=\"24px\">\n",
              "    <path d=\"M0 0h24v24H0V0z\" fill=\"none\"/>\n",
              "    <path d=\"M18.56 5.44l.94 2.06.94-2.06 2.06-.94-2.06-.94-.94-2.06-.94 2.06-2.06.94zm-11 1L8.5 8.5l.94-2.06 2.06-.94-2.06-.94L8.5 2.5l-.94 2.06-2.06.94zm10 10l.94 2.06.94-2.06 2.06-.94-2.06-.94-.94-2.06-.94 2.06-2.06.94z\"/><path d=\"M17.41 7.96l-1.37-1.37c-.4-.4-.92-.59-1.43-.59-.52 0-1.04.2-1.43.59L10.3 9.45l-7.72 7.72c-.78.78-.78 2.05 0 2.83L4 21.41c.39.39.9.59 1.41.59.51 0 1.02-.2 1.41-.59l7.78-7.78 2.81-2.81c.8-.78.8-2.07 0-2.86zM5.41 20L4 18.59l7.72-7.72 1.47 1.35L5.41 20z\"/>\n",
              "  </svg>\n",
              "      </button>\n",
              "      \n",
              "  <style>\n",
              "    .colab-df-container {\n",
              "      display:flex;\n",
              "      flex-wrap:wrap;\n",
              "      gap: 12px;\n",
              "    }\n",
              "\n",
              "    .colab-df-convert {\n",
              "      background-color: #E8F0FE;\n",
              "      border: none;\n",
              "      border-radius: 50%;\n",
              "      cursor: pointer;\n",
              "      display: none;\n",
              "      fill: #1967D2;\n",
              "      height: 32px;\n",
              "      padding: 0 0 0 0;\n",
              "      width: 32px;\n",
              "    }\n",
              "\n",
              "    .colab-df-convert:hover {\n",
              "      background-color: #E2EBFA;\n",
              "      box-shadow: 0px 1px 2px rgba(60, 64, 67, 0.3), 0px 1px 3px 1px rgba(60, 64, 67, 0.15);\n",
              "      fill: #174EA6;\n",
              "    }\n",
              "\n",
              "    [theme=dark] .colab-df-convert {\n",
              "      background-color: #3B4455;\n",
              "      fill: #D2E3FC;\n",
              "    }\n",
              "\n",
              "    [theme=dark] .colab-df-convert:hover {\n",
              "      background-color: #434B5C;\n",
              "      box-shadow: 0px 1px 3px 1px rgba(0, 0, 0, 0.15);\n",
              "      filter: drop-shadow(0px 1px 2px rgba(0, 0, 0, 0.3));\n",
              "      fill: #FFFFFF;\n",
              "    }\n",
              "  </style>\n",
              "\n",
              "      <script>\n",
              "        const buttonEl =\n",
              "          document.querySelector('#df-9f523fc9-f6df-4702-b74e-b5bc9276e4bf button.colab-df-convert');\n",
              "        buttonEl.style.display =\n",
              "          google.colab.kernel.accessAllowed ? 'block' : 'none';\n",
              "\n",
              "        async function convertToInteractive(key) {\n",
              "          const element = document.querySelector('#df-9f523fc9-f6df-4702-b74e-b5bc9276e4bf');\n",
              "          const dataTable =\n",
              "            await google.colab.kernel.invokeFunction('convertToInteractive',\n",
              "                                                     [key], {});\n",
              "          if (!dataTable) return;\n",
              "\n",
              "          const docLinkHtml = 'Like what you see? Visit the ' +\n",
              "            '<a target=\"_blank\" href=https://colab.research.google.com/notebooks/data_table.ipynb>data table notebook</a>'\n",
              "            + ' to learn more about interactive tables.';\n",
              "          element.innerHTML = '';\n",
              "          dataTable['output_type'] = 'display_data';\n",
              "          await google.colab.output.renderOutput(dataTable, element);\n",
              "          const docLink = document.createElement('div');\n",
              "          docLink.innerHTML = docLinkHtml;\n",
              "          element.appendChild(docLink);\n",
              "        }\n",
              "      </script>\n",
              "    </div>\n",
              "  </div>\n",
              "  "
            ]
          },
          "metadata": {},
          "execution_count": 3
        }
      ],
      "source": [
        "pd_data = pd.read_csv('https://raw.githubusercontent.com/AugustLONG/ML01/master/01decisiontree/AllElectronics.csv')\n",
        "pd_data.drop(\"RID\",axis=1, inplace = True) #RID는 그냥 순서라서 삭제\n",
        "pd_data"
      ]
    },
    {
      "cell_type": "code",
      "source": [
        "pd_data.shape"
      ],
      "metadata": {
        "colab": {
          "base_uri": "https://localhost:8080/"
        },
        "id": "rxKYKRWDrn-A",
        "outputId": "a93a4bbc-de0c-46d2-9583-44aee07b59f4"
      },
      "execution_count": 8,
      "outputs": [
        {
          "output_type": "execute_result",
          "data": {
            "text/plain": [
              "(14, 5)"
            ]
          },
          "metadata": {},
          "execution_count": 8
        }
      ]
    },
    {
      "cell_type": "markdown",
      "metadata": {
        "id": "zq6JKGRAqkoe"
      },
      "source": [
        "## Gini 계수를 구하는 함수 만들기"
      ]
    },
    {
      "cell_type": "markdown",
      "metadata": {
        "id": "0HT7a7lHqkoe"
      },
      "source": [
        "<img src=\"gini.png\" width=\"200\">\n",
        "\n",
        "- Input: df(데이터), label(타겟변수명)\n",
        "- 해당 결과는 아래와 같이 나와야 합니다.\n",
        "\n",
        "- 지니계수는 데이터의 통계적 분산 정도를 정량화 해서 표현한 값이다.\n",
        "- 어떤 집합의 gini index가 높을수록 그 집단의 데이터가 분산되어 있음을 확인할 수 있다."
      ]
    },
    {
      "cell_type": "code",
      "execution_count": 9,
      "metadata": {
        "id": "JRalSRNBqkof"
      },
      "outputs": [],
      "source": [
        "def get_gini(df, label):\n",
        "    \n",
        "    n = df.shape[0] # 데이터 수\n",
        "    \n",
        "    # label 값\n",
        "    label_value = np.unique(df[label])\n",
        "    \n",
        "    # 첫번째 레이블 수\n",
        "    label1 = np.sum(df[label] == label_value[0])\n",
        "    \n",
        "    # 두번째 레이블 수(binary classification이므로 첫 번째 라벨이 아니면 두번째 라벨)\n",
        "    label2 = n - label1 \n",
        "    \n",
        "    # 지니 계수 계산식\n",
        "    gini = 1 - (label1 / n) ** 2 - (label2 / n) ** 2\n",
        "        \n",
        "    return gini"
      ]
    },
    {
      "cell_type": "code",
      "execution_count": 10,
      "metadata": {
        "colab": {
          "base_uri": "https://localhost:8080/"
        },
        "id": "oPm-3hX8qkof",
        "outputId": "0b2ab9d6-5f9f-4d95-adf1-b28ee89d8ea9"
      },
      "outputs": [
        {
          "output_type": "execute_result",
          "data": {
            "text/plain": [
              "0.4591836734693877"
            ]
          },
          "metadata": {},
          "execution_count": 10
        }
      ],
      "source": [
        "get_gini(pd_data,'class_buys_computer')"
      ]
    },
    {
      "cell_type": "markdown",
      "metadata": {
        "id": "HOmmpJj4qkof"
      },
      "source": [
        "## Feature의 Class를 이진 분류로 만들기\n",
        "- ex) {A,B,C} -> ({A}, {B,C}), ({B}, {A,C}), ({C}, {A,B})"
      ]
    },
    {
      "cell_type": "markdown",
      "metadata": {
        "id": "CqB93zX6qkog"
      },
      "source": [
        "- Input: df(데이터), attribute(Gini index를 구하고자 하는 변수명)\n",
        "- Income 변수를 결과로 출력해주세요."
      ]
    },
    {
      "cell_type": "code",
      "source": [
        "print(pd_data[\"age\"].unique())\n",
        "print(len(pd_data[\"age\"].unique()))"
      ],
      "metadata": {
        "colab": {
          "base_uri": "https://localhost:8080/"
        },
        "id": "1cy3hJWDs2n9",
        "outputId": "28a57a38-1565-4f57-c1fb-708d8f8ce895"
      },
      "execution_count": 20,
      "outputs": [
        {
          "output_type": "stream",
          "name": "stdout",
          "text": [
            "['youth' 'middle_aged' 'senior']\n",
            "3\n"
          ]
        }
      ]
    },
    {
      "cell_type": "code",
      "source": [
        "for i in range(3,5):\n",
        "  print(i)"
      ],
      "metadata": {
        "colab": {
          "base_uri": "https://localhost:8080/"
        },
        "id": "e9Fx1hQ8tkZC",
        "outputId": "56a91f9d-1d4b-476b-9ae9-734539e823ba"
      },
      "execution_count": 24,
      "outputs": [
        {
          "output_type": "stream",
          "name": "stdout",
          "text": [
            "3\n",
            "4\n"
          ]
        }
      ]
    },
    {
      "cell_type": "code",
      "execution_count": 25,
      "metadata": {
        "id": "TYBYMvJOqkog"
      },
      "outputs": [],
      "source": [
        "from itertools import combinations\n",
        "\n",
        "def get_binary_split(df, attribute): # 이진 분류 만들기\n",
        "    \n",
        "    uniques = list(df[attribute].unique()) # attribute열의 고유값 리스트 \n",
        "    \n",
        "    result = [] # 결과값 리스트 초기화\n",
        "\n",
        "    for i in range(1, len(uniques)): # 1부터 attribute 열의 고유값의 개수-1만큼 반복 \n",
        "        for att in combinations(uniques, i):\n",
        "            result.append(list(att))\n",
        "        # combination: 하나의 리스트에서 모든 조합 구하기. 조합의 원소의 수는 1부터 선택한 열의 고유값 개수 -1까지 반복\n",
        "        \n",
        "    \n",
        "    return result"
      ]
    },
    {
      "cell_type": "code",
      "execution_count": 28,
      "metadata": {
        "colab": {
          "base_uri": "https://localhost:8080/"
        },
        "id": "06rBecw8qkog",
        "outputId": "2f2cbebd-b852-4b62-a146-36168f5a2af5"
      },
      "outputs": [
        {
          "output_type": "execute_result",
          "data": {
            "text/plain": [
              "[['high'],\n",
              " ['medium'],\n",
              " ['low'],\n",
              " ['high', 'medium'],\n",
              " ['high', 'low'],\n",
              " ['medium', 'low']]"
            ]
          },
          "metadata": {},
          "execution_count": 28
        }
      ],
      "source": [
        "get_binary_split(pd_data,'income')"
      ]
    },
    {
      "cell_type": "markdown",
      "metadata": {
        "id": "W8YWx_k9qkoh"
      },
      "source": [
        "## 모든 이진분류의 경우의 Gini index를 구하는 함수 만들기\n",
        "- 위에서 완성한 두 함수를 사용하여 만들어주세요!\n",
        "- 해당 결과는 아래와 같이 나와야 합니다."
      ]
    },
    {
      "cell_type": "code",
      "source": [
        "for splits in get_binary_split(pd_data, \"income\"):\n",
        "  a = np.array(list(map(lambda x : x in splits, pd_data[\"income\"])))\n",
        "  print(a)"
      ],
      "metadata": {
        "colab": {
          "base_uri": "https://localhost:8080/"
        },
        "id": "pluz65n1ynn8",
        "outputId": "45c79d1b-add3-4864-d82d-5d962bec1a6e"
      },
      "execution_count": 37,
      "outputs": [
        {
          "output_type": "stream",
          "name": "stdout",
          "text": [
            "[ True  True  True False False False False False False False False False\n",
            "  True False]\n",
            "[False False False  True False False False  True False  True  True  True\n",
            " False  True]\n",
            "[False False False False  True  True  True False  True False False False\n",
            " False False]\n",
            "[ True  True  True  True False False False  True False  True  True  True\n",
            "  True  True]\n",
            "[ True  True  True False  True  True  True False  True False False False\n",
            "  True False]\n",
            "[False False False  True  True  True  True  True  True  True  True  True\n",
            " False  True]\n"
          ]
        }
      ]
    },
    {
      "cell_type": "code",
      "execution_count": 41,
      "metadata": {
        "id": "Xi87Ugo5qkoh"
      },
      "outputs": [],
      "source": [
        "def get_attribute_gini_index(df, attribute, label):\n",
        "    \n",
        "    result = {} # 결과 리스트 초기화\n",
        "    binary_split = get_binary_split(df, attribute) # 열의 고유값으로 이진 분류\n",
        "    n = len(df) # 데이터 개수\n",
        "    \n",
        "    for splits in binary_split: # 이진분류한 조합들마다 반복하라\n",
        "        split_key = \"_\".join(splits) # dictionary의 key값 (2개 이상이면 _로 구분)\n",
        "        \n",
        "        mask = np.array(list(map(lambda x : x in splits, df[attribute])))\n",
        "        # lambda x: x in splits : x값이 splits와 같은지 T/F\n",
        "        # list(map( 함수 , 리스트 )): 리스트로부터 원소를 하나씩 꺼내어 함수값 계산 후 함수값을 새로운 리스트에 담음\n",
        "        # 뒤에 나오는 뒤집기 연산 (~)을 위해 numpy array 형식으로 저장\n",
        "\n",
        "        # 원하는 DataFrame만 뽑아주기(t = target, r = rest)\n",
        "        data_t = df.loc[mask, :]\n",
        "        data_r = df.loc[~mask, :]        \n",
        "\n",
        "        # gini계수 계산\n",
        "        gini_t = get_gini(data_t, label)\n",
        "        gini_r = get_gini(data_r, label)\n",
        "        \n",
        "        gini = len(data_t) / n * gini_t + len(data_r) / n * gini_r\n",
        "        \n",
        "        # dictionary의 value값에 대응하여 저장\n",
        "        result[split_key] = gini\n",
        "    \n",
        "    return result"
      ]
    },
    {
      "cell_type": "code",
      "execution_count": 40,
      "metadata": {
        "colab": {
          "base_uri": "https://localhost:8080/"
        },
        "id": "tsjlSaBvqkoi",
        "outputId": "5c21b6f6-9d12-4d24-fe1c-de2d3cc8b61a"
      },
      "outputs": [
        {
          "output_type": "execute_result",
          "data": {
            "text/plain": [
              "{'high': 0.44285714285714295,\n",
              " 'medium': 0.4583333333333333,\n",
              " 'low': 0.45,\n",
              " 'high_medium': 0.45,\n",
              " 'high_low': 0.4583333333333333,\n",
              " 'medium_low': 0.44285714285714295}"
            ]
          },
          "metadata": {},
          "execution_count": 40
        }
      ],
      "source": [
        "get_attribute_gini_index(pd_data, 'income', 'class_buys_computer')"
      ]
    },
    {
      "cell_type": "markdown",
      "metadata": {
        "id": "F-IwV0A3qkoi"
      },
      "source": [
        "- 여기서 가장 작은 Gini index값을 가지는 class를 확인합니다."
      ]
    },
    {
      "cell_type": "code",
      "execution_count": 42,
      "metadata": {
        "colab": {
          "base_uri": "https://localhost:8080/"
        },
        "id": "VOUpYGTwqkoi",
        "outputId": "5a05809e-c224-4edd-e0d3-3aa854c7105c"
      },
      "outputs": [
        {
          "output_type": "execute_result",
          "data": {
            "text/plain": [
              "('high', 0.44285714285714295)"
            ]
          },
          "metadata": {},
          "execution_count": 42
        }
      ],
      "source": [
        "min(get_attribute_gini_index(pd_data, 'income', 'class_buys_computer').items())"
      ]
    },
    {
      "cell_type": "code",
      "execution_count": 43,
      "metadata": {
        "colab": {
          "base_uri": "https://localhost:8080/",
          "height": 37
        },
        "id": "0kJW66Adqkoj",
        "outputId": "320edda5-9510-4913-ae94-e0db3215739d"
      },
      "outputs": [
        {
          "output_type": "execute_result",
          "data": {
            "text/plain": [
              "'high'"
            ],
            "application/vnd.google.colaboratory.intrinsic+json": {
              "type": "string"
            }
          },
          "metadata": {},
          "execution_count": 43
        }
      ],
      "source": [
        "min(get_attribute_gini_index(pd_data, 'income', 'class_buys_computer').items())[0]"
      ]
    },
    {
      "cell_type": "markdown",
      "metadata": {
        "id": "kthzpyOHqkoj"
      },
      "source": [
        "## 분류를 하는 데 가장 중요한 변수를 선정하고, 해당 변수의 Gini index를 제시해주세요.\n",
        "- 모든 변수에 대한 Gini index(최소)를 출력해주세요.\n",
        "- 해당 결과는 아래와 같이 나와야 합니다."
      ]
    },
    {
      "cell_type": "code",
      "execution_count": 47,
      "metadata": {
        "colab": {
          "base_uri": "https://localhost:8080/"
        },
        "id": "2DVbVVcvqkok",
        "outputId": "ffb66c1e-3164-43b8-849c-db87ad5b7685"
      },
      "outputs": [
        {
          "output_type": "stream",
          "name": "stdout",
          "text": [
            "Minimum Gini index of age : 0.3571\n",
            "Minimum Gini index of income : 0.4429\n",
            "Minimum Gini index of student : 0.3673\n",
            "Minimum Gini index of credit_rating : 0.4286\n"
          ]
        }
      ],
      "source": [
        "# 변수명 중 마지막에 위치한 label 컬럼 얻기\n",
        "label = pd_data.columns[-1]\n",
        "# label 변수를 제외한 변수명 얻기\n",
        "features = list(pd_data.columns[:-1])\n",
        "\n",
        "# 각 변수를 대상으로 반복문 수행(해당 변수 중 가장 낮은 gini 계수와 변수 출력)\n",
        "for feature in features:\n",
        "    lowest_gini = min(get_attribute_gini_index(pd_data, feature, label).items())[1]\n",
        "    print(f\"Minimum Gini index of {feature} : {lowest_gini:.4f}\")"
      ]
    },
    {
      "cell_type": "markdown",
      "metadata": {
        "id": "IP1bgrjfqkok"
      },
      "source": [
        "gini index가 가장 작게 나온 'age'를 가장 중요한 변수로 선정합니다.\n",
        "\n",
        "이어서 해당 변수의 이진 분류된 각 class에 대해 Gini index도 계산합니다."
      ]
    },
    {
      "cell_type": "code",
      "execution_count": 48,
      "metadata": {
        "colab": {
          "base_uri": "https://localhost:8080/"
        },
        "id": "W21fRiQmqkok",
        "outputId": "95c171fb-2c65-416e-d904-4483be5be72e"
      },
      "outputs": [
        {
          "output_type": "execute_result",
          "data": {
            "text/plain": [
              "{'youth': 0.3936507936507937,\n",
              " 'middle_aged': 0.35714285714285715,\n",
              " 'senior': 0.45714285714285713,\n",
              " 'youth_middle_aged': 0.45714285714285713,\n",
              " 'youth_senior': 0.35714285714285715,\n",
              " 'middle_aged_senior': 0.3936507936507937}"
            ]
          },
          "metadata": {},
          "execution_count": 48
        }
      ],
      "source": [
        "get_attribute_gini_index(pd_data, 'age', 'class_buys_computer')"
      ]
    },
    {
      "cell_type": "markdown",
      "metadata": {
        "id": "yQqca6F-qkok"
      },
      "source": [
        "'age' 변수에서 gini index가 가장 작게 나온 'middle_aged' class를 선정합니다."
      ]
    },
    {
      "cell_type": "markdown",
      "metadata": {
        "id": "5Sx7na-Iqkol"
      },
      "source": [
        "## Entropy 를 구하는 함수 만들기\n",
        "\n",
        "<img src = https://miro.medium.com/max/1122/0*DkWdyGidNSfdT1Nu.png width = \"350\">"
      ]
    },
    {
      "cell_type": "code",
      "execution_count": 49,
      "metadata": {
        "id": "tJzd7dIpqkol"
      },
      "outputs": [],
      "source": [
        "from math import log2\n",
        "\n",
        "def getEntropy(df, feature) :\n",
        "    \n",
        "    entropy = 0 # for문 돌기 전 entropy 초기화\n",
        "    p_is = df[feature].value_counts() / len(df) \n",
        "    # value_counts함수를 이용하여 feature의 class별 확률 p_i를 계산\n",
        "\n",
        "    for p_i in p_is:\n",
        "        entropy -= p_i * np.log2(p_i)\n",
        "        # entropy에 각각의 i별로 p * log2(p)를 구한값을 빼서 업데이트\n",
        "    return entropy\n"
      ]
    },
    {
      "cell_type": "code",
      "execution_count": 50,
      "metadata": {
        "colab": {
          "base_uri": "https://localhost:8080/"
        },
        "id": "J5e11_uQqkol",
        "outputId": "bc441ba6-c87a-444e-c47c-8bdf54052fad"
      },
      "outputs": [
        {
          "output_type": "execute_result",
          "data": {
            "text/plain": [
              "0.9402859586706311"
            ]
          },
          "metadata": {},
          "execution_count": 50
        }
      ],
      "source": [
        "getEntropy(pd_data, \"class_buys_computer\")"
      ]
    },
    {
      "cell_type": "code",
      "execution_count": 57,
      "metadata": {
        "id": "pPNuHSuoqkom"
      },
      "outputs": [],
      "source": [
        "# 가장 중요한 변수로 선정된 목표변수를 제외한 다른 변수들에 대해\n",
        "# 각 칼럼별로 엔트로피를 구해주는 함수를 작성해주세요.\n",
        "\n",
        "def getGainA(df, feature) :\n",
        "        \n",
        "    result = {} # 빈 dictionary로 초기화\n",
        "\n",
        "    # 타겟 변수 제외한 엔트로피 계산\n",
        "    def getEntropy_lower(df, feature, other_feature):\n",
        "        entropy = 0 # entropy값 0으로 초기화\n",
        "        n = len(df) # 데이터의 개수\n",
        "        unique = df[other_feature].unique()\n",
        "        # other_feature의 고유값을 저장\n",
        "        \n",
        "        for i in unique: # other_feature의 고유값별로 반복\n",
        "            tmp_df = df[df[other_feature].isin([i])] \n",
        "            # isin함수를 사용하여 other_feature의 class가 i인 것만 저장\n",
        "            entropy += len(tmp_df) / n * getEntropy(tmp_df, feature)\n",
        "            # 개별 엔트로피 계산 함수인 getEntropy함수를 통해 target feature의 entropy를 가중평균함\n",
        "        return entropy\n",
        "        \n",
        "    info_Target = getEntropy(df, feature) # 타겟 Feature에 대한 Entropy를 구함\n",
        "    other_features = list(df.loc[:, df.columns != feature])\n",
        "    # 타겟변수를 제외한 나머지 설명변수들을 리스트 형태로 저장\n",
        "    \n",
        "    for other_feature in other_features:\n",
        "        result[other_feature] = info_Target - getEntropy_lower(df, feature, other_feature)\n",
        "        # getEntropy_lower함수를 이용하여 타겟 feature 제외한 feature의 entropy를 계산한 후 info_Target에서 빼서 information gain을 계산\n",
        "    return result"
      ]
    },
    {
      "cell_type": "code",
      "execution_count": 58,
      "metadata": {
        "scrolled": true,
        "colab": {
          "base_uri": "https://localhost:8080/"
        },
        "id": "B7dzDu1Aqkom",
        "outputId": "82550f72-a4c2-4a41-b01f-87d0ec4b9a5f"
      },
      "outputs": [
        {
          "output_type": "execute_result",
          "data": {
            "text/plain": [
              "{'age': 0.24674981977443933,\n",
              " 'income': 0.02922256565895487,\n",
              " 'student': 0.15183550136234159,\n",
              " 'credit_rating': 0.04812703040826949}"
            ]
          },
          "metadata": {},
          "execution_count": 58
        }
      ],
      "source": [
        "getGainA(pd_data, \"class_buys_computer\")"
      ]
    },
    {
      "cell_type": "code",
      "source": [],
      "metadata": {
        "id": "0PMkN31d3tn3"
      },
      "execution_count": null,
      "outputs": []
    }
  ],
  "metadata": {
    "kernelspec": {
      "display_name": "Python 3 (ipykernel)",
      "language": "python",
      "name": "python3"
    },
    "language_info": {
      "codemirror_mode": {
        "name": "ipython",
        "version": 3
      },
      "file_extension": ".py",
      "mimetype": "text/x-python",
      "name": "python",
      "nbconvert_exporter": "python",
      "pygments_lexer": "ipython3",
      "version": "3.9.12"
    },
    "toc": {
      "base_numbering": 1,
      "nav_menu": {},
      "number_sections": true,
      "sideBar": true,
      "skip_h1_title": false,
      "title_cell": "Table of Contents",
      "title_sidebar": "Contents",
      "toc_cell": false,
      "toc_position": {},
      "toc_section_display": true,
      "toc_window_display": false
    },
    "colab": {
      "provenance": [],
      "include_colab_link": true
    }
  },
  "nbformat": 4,
  "nbformat_minor": 0
}