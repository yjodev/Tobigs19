{
  "cells": [
    {
      "cell_type": "markdown",
      "metadata": {
        "id": "view-in-github",
        "colab_type": "text"
      },
      "source": [
        "<a href=\"https://colab.research.google.com/github/yjodev/Tobigs19/blob/main/W2_Regression_%EA%B3%BC%EC%A0%9C_3.ipynb\" target=\"_parent\"><img src=\"https://colab.research.google.com/assets/colab-badge.svg\" alt=\"Open In Colab\"/></a>"
      ]
    },
    {
      "cell_type": "markdown",
      "metadata": {
        "id": "fu39oBW0RVn5"
      },
      "source": [
        "# [과제 3] 로지스틱 회귀분석\n",
        "### - sklearn 패키지를 사용해 로지스틱 회귀분석을 진행해주세요.\n",
        "### - 성능지표를 계산하고 이에 대해 해석해주세요.\n",
        "### - 성능 개선을 시도해주세요. (어떠한 성능지표를 기준으로 개선을 시도했는지, 그 이유도 함께 적어주세요.)\n",
        "### - 주석으로 설명 및 근거 자세하게 달아주시면 감사하겠습니다. :)"
      ]
    },
    {
      "cell_type": "markdown",
      "metadata": {
        "id": "8rN2SWezRVn_"
      },
      "source": [
        "## Data "
      ]
    },
    {
      "cell_type": "markdown",
      "metadata": {
        "id": "Y7SYKNvQRVn_"
      },
      "source": [
        "출처 : https://www.kaggle.com/mlg-ulb/creditcardfraud\n",
        "\n",
        "\n",
        "* V1 ~ V28 : 비식별화 된 개인정보 \n",
        "* **Class** : Target 변수  \n",
        "  - 1 : fraudulent transactions (사기)\n",
        "  - 0 : otherwise "
      ]
    },
    {
      "cell_type": "code",
      "execution_count": 1,
      "metadata": {
        "id": "Uvjw2fTCRVoA"
      },
      "outputs": [],
      "source": [
        "import pandas as pd\n",
        "import numpy as np\n",
        "import seaborn as sns\n",
        "import matplotlib.pyplot as plt\n",
        "import warnings\n",
        "warnings.filterwarnings(action='ignore')"
      ]
    },
    {
      "cell_type": "code",
      "source": [
        "from google.colab import drive\n",
        "drive.mount('/content/drive') "
      ],
      "metadata": {
        "colab": {
          "base_uri": "https://localhost:8080/"
        },
        "id": "tYcZFuzLEVZC",
        "outputId": "18a72848-2cca-4e6f-b96a-5f70b6912a5f"
      },
      "execution_count": 2,
      "outputs": [
        {
          "output_type": "stream",
          "name": "stdout",
          "text": [
            "Mounted at /content/drive\n"
          ]
        }
      ]
    },
    {
      "cell_type": "code",
      "source": [
        "filepath = 'drive/MyDrive/투빅스/과제/W2_Regression/'\n",
        "data = pd.read_csv(filepath + \"assignment3_creditcard.csv\")"
      ],
      "metadata": {
        "id": "c-D7lyyDEV_a"
      },
      "execution_count": 3,
      "outputs": []
    },
    {
      "cell_type": "code",
      "execution_count": 4,
      "metadata": {
        "colab": {
          "base_uri": "https://localhost:8080/",
          "height": 299
        },
        "id": "v98OeXW5RVoB",
        "outputId": "c59ec29a-7c03-4b27-cd12-b8be6c0a0d9d"
      },
      "outputs": [
        {
          "output_type": "execute_result",
          "data": {
            "text/plain": [
              "         V1        V2        V3        V4        V5        V6        V7  \\\n",
              "0 -1.848212  2.384900  0.379573  1.048381 -0.845070  2.537837 -4.542983   \n",
              "1  2.071805 -0.477943 -1.444444 -0.548657  0.010036 -0.582242 -0.042878   \n",
              "2 -2.985294 -2.747472  1.194068 -0.003036 -1.151041 -0.263559  0.553500   \n",
              "3 -1.479452  1.542874  0.290895  0.838142 -0.529290 -0.717661  0.484516   \n",
              "4 -0.281976 -0.309699 -2.162299 -0.851514  0.106167 -1.483888  1.930994   \n",
              "\n",
              "          V8        V9       V10  ...       V20       V21       V22       V23  \\\n",
              "0 -10.201458 -1.504967 -2.234167  ...  2.585817 -5.291690  0.859364  0.423231   \n",
              "1  -0.247160  1.171923 -0.342382  ... -0.077306  0.042858  0.390125  0.041569   \n",
              "2   0.635600  0.438545 -1.806488  ...  1.345776  0.373760 -0.385777  1.197596   \n",
              "3   0.545092 -0.780767  0.324804  ...  0.038397  0.116771  0.405560 -0.116453   \n",
              "4  -0.843049 -1.249272  1.079608  ... -0.875516 -0.004199  1.015108 -0.026748   \n",
              "\n",
              "        V24       V25       V26       V27       V28  Class  \n",
              "0 -0.506985  1.020052 -0.627751 -0.017753  0.280982      0  \n",
              "1  0.598427  0.098803  0.979686 -0.093244 -0.065615      0  \n",
              "2  0.407229  0.008013  0.762362 -0.299024 -0.303929      0  \n",
              "3  0.541275 -0.216665 -0.415578  0.027126 -0.150347      0  \n",
              "4  0.077115 -1.468822  0.751700  0.496732  0.331001      0  \n",
              "\n",
              "[5 rows x 29 columns]"
            ],
            "text/html": [
              "\n",
              "  <div id=\"df-d3efeff7-85ff-4fc9-97b3-a4d189696364\">\n",
              "    <div class=\"colab-df-container\">\n",
              "      <div>\n",
              "<style scoped>\n",
              "    .dataframe tbody tr th:only-of-type {\n",
              "        vertical-align: middle;\n",
              "    }\n",
              "\n",
              "    .dataframe tbody tr th {\n",
              "        vertical-align: top;\n",
              "    }\n",
              "\n",
              "    .dataframe thead th {\n",
              "        text-align: right;\n",
              "    }\n",
              "</style>\n",
              "<table border=\"1\" class=\"dataframe\">\n",
              "  <thead>\n",
              "    <tr style=\"text-align: right;\">\n",
              "      <th></th>\n",
              "      <th>V1</th>\n",
              "      <th>V2</th>\n",
              "      <th>V3</th>\n",
              "      <th>V4</th>\n",
              "      <th>V5</th>\n",
              "      <th>V6</th>\n",
              "      <th>V7</th>\n",
              "      <th>V8</th>\n",
              "      <th>V9</th>\n",
              "      <th>V10</th>\n",
              "      <th>...</th>\n",
              "      <th>V20</th>\n",
              "      <th>V21</th>\n",
              "      <th>V22</th>\n",
              "      <th>V23</th>\n",
              "      <th>V24</th>\n",
              "      <th>V25</th>\n",
              "      <th>V26</th>\n",
              "      <th>V27</th>\n",
              "      <th>V28</th>\n",
              "      <th>Class</th>\n",
              "    </tr>\n",
              "  </thead>\n",
              "  <tbody>\n",
              "    <tr>\n",
              "      <th>0</th>\n",
              "      <td>-1.848212</td>\n",
              "      <td>2.384900</td>\n",
              "      <td>0.379573</td>\n",
              "      <td>1.048381</td>\n",
              "      <td>-0.845070</td>\n",
              "      <td>2.537837</td>\n",
              "      <td>-4.542983</td>\n",
              "      <td>-10.201458</td>\n",
              "      <td>-1.504967</td>\n",
              "      <td>-2.234167</td>\n",
              "      <td>...</td>\n",
              "      <td>2.585817</td>\n",
              "      <td>-5.291690</td>\n",
              "      <td>0.859364</td>\n",
              "      <td>0.423231</td>\n",
              "      <td>-0.506985</td>\n",
              "      <td>1.020052</td>\n",
              "      <td>-0.627751</td>\n",
              "      <td>-0.017753</td>\n",
              "      <td>0.280982</td>\n",
              "      <td>0</td>\n",
              "    </tr>\n",
              "    <tr>\n",
              "      <th>1</th>\n",
              "      <td>2.071805</td>\n",
              "      <td>-0.477943</td>\n",
              "      <td>-1.444444</td>\n",
              "      <td>-0.548657</td>\n",
              "      <td>0.010036</td>\n",
              "      <td>-0.582242</td>\n",
              "      <td>-0.042878</td>\n",
              "      <td>-0.247160</td>\n",
              "      <td>1.171923</td>\n",
              "      <td>-0.342382</td>\n",
              "      <td>...</td>\n",
              "      <td>-0.077306</td>\n",
              "      <td>0.042858</td>\n",
              "      <td>0.390125</td>\n",
              "      <td>0.041569</td>\n",
              "      <td>0.598427</td>\n",
              "      <td>0.098803</td>\n",
              "      <td>0.979686</td>\n",
              "      <td>-0.093244</td>\n",
              "      <td>-0.065615</td>\n",
              "      <td>0</td>\n",
              "    </tr>\n",
              "    <tr>\n",
              "      <th>2</th>\n",
              "      <td>-2.985294</td>\n",
              "      <td>-2.747472</td>\n",
              "      <td>1.194068</td>\n",
              "      <td>-0.003036</td>\n",
              "      <td>-1.151041</td>\n",
              "      <td>-0.263559</td>\n",
              "      <td>0.553500</td>\n",
              "      <td>0.635600</td>\n",
              "      <td>0.438545</td>\n",
              "      <td>-1.806488</td>\n",
              "      <td>...</td>\n",
              "      <td>1.345776</td>\n",
              "      <td>0.373760</td>\n",
              "      <td>-0.385777</td>\n",
              "      <td>1.197596</td>\n",
              "      <td>0.407229</td>\n",
              "      <td>0.008013</td>\n",
              "      <td>0.762362</td>\n",
              "      <td>-0.299024</td>\n",
              "      <td>-0.303929</td>\n",
              "      <td>0</td>\n",
              "    </tr>\n",
              "    <tr>\n",
              "      <th>3</th>\n",
              "      <td>-1.479452</td>\n",
              "      <td>1.542874</td>\n",
              "      <td>0.290895</td>\n",
              "      <td>0.838142</td>\n",
              "      <td>-0.529290</td>\n",
              "      <td>-0.717661</td>\n",
              "      <td>0.484516</td>\n",
              "      <td>0.545092</td>\n",
              "      <td>-0.780767</td>\n",
              "      <td>0.324804</td>\n",
              "      <td>...</td>\n",
              "      <td>0.038397</td>\n",
              "      <td>0.116771</td>\n",
              "      <td>0.405560</td>\n",
              "      <td>-0.116453</td>\n",
              "      <td>0.541275</td>\n",
              "      <td>-0.216665</td>\n",
              "      <td>-0.415578</td>\n",
              "      <td>0.027126</td>\n",
              "      <td>-0.150347</td>\n",
              "      <td>0</td>\n",
              "    </tr>\n",
              "    <tr>\n",
              "      <th>4</th>\n",
              "      <td>-0.281976</td>\n",
              "      <td>-0.309699</td>\n",
              "      <td>-2.162299</td>\n",
              "      <td>-0.851514</td>\n",
              "      <td>0.106167</td>\n",
              "      <td>-1.483888</td>\n",
              "      <td>1.930994</td>\n",
              "      <td>-0.843049</td>\n",
              "      <td>-1.249272</td>\n",
              "      <td>1.079608</td>\n",
              "      <td>...</td>\n",
              "      <td>-0.875516</td>\n",
              "      <td>-0.004199</td>\n",
              "      <td>1.015108</td>\n",
              "      <td>-0.026748</td>\n",
              "      <td>0.077115</td>\n",
              "      <td>-1.468822</td>\n",
              "      <td>0.751700</td>\n",
              "      <td>0.496732</td>\n",
              "      <td>0.331001</td>\n",
              "      <td>0</td>\n",
              "    </tr>\n",
              "  </tbody>\n",
              "</table>\n",
              "<p>5 rows × 29 columns</p>\n",
              "</div>\n",
              "      <button class=\"colab-df-convert\" onclick=\"convertToInteractive('df-d3efeff7-85ff-4fc9-97b3-a4d189696364')\"\n",
              "              title=\"Convert this dataframe to an interactive table.\"\n",
              "              style=\"display:none;\">\n",
              "        \n",
              "  <svg xmlns=\"http://www.w3.org/2000/svg\" height=\"24px\"viewBox=\"0 0 24 24\"\n",
              "       width=\"24px\">\n",
              "    <path d=\"M0 0h24v24H0V0z\" fill=\"none\"/>\n",
              "    <path d=\"M18.56 5.44l.94 2.06.94-2.06 2.06-.94-2.06-.94-.94-2.06-.94 2.06-2.06.94zm-11 1L8.5 8.5l.94-2.06 2.06-.94-2.06-.94L8.5 2.5l-.94 2.06-2.06.94zm10 10l.94 2.06.94-2.06 2.06-.94-2.06-.94-.94-2.06-.94 2.06-2.06.94z\"/><path d=\"M17.41 7.96l-1.37-1.37c-.4-.4-.92-.59-1.43-.59-.52 0-1.04.2-1.43.59L10.3 9.45l-7.72 7.72c-.78.78-.78 2.05 0 2.83L4 21.41c.39.39.9.59 1.41.59.51 0 1.02-.2 1.41-.59l7.78-7.78 2.81-2.81c.8-.78.8-2.07 0-2.86zM5.41 20L4 18.59l7.72-7.72 1.47 1.35L5.41 20z\"/>\n",
              "  </svg>\n",
              "      </button>\n",
              "      \n",
              "  <style>\n",
              "    .colab-df-container {\n",
              "      display:flex;\n",
              "      flex-wrap:wrap;\n",
              "      gap: 12px;\n",
              "    }\n",
              "\n",
              "    .colab-df-convert {\n",
              "      background-color: #E8F0FE;\n",
              "      border: none;\n",
              "      border-radius: 50%;\n",
              "      cursor: pointer;\n",
              "      display: none;\n",
              "      fill: #1967D2;\n",
              "      height: 32px;\n",
              "      padding: 0 0 0 0;\n",
              "      width: 32px;\n",
              "    }\n",
              "\n",
              "    .colab-df-convert:hover {\n",
              "      background-color: #E2EBFA;\n",
              "      box-shadow: 0px 1px 2px rgba(60, 64, 67, 0.3), 0px 1px 3px 1px rgba(60, 64, 67, 0.15);\n",
              "      fill: #174EA6;\n",
              "    }\n",
              "\n",
              "    [theme=dark] .colab-df-convert {\n",
              "      background-color: #3B4455;\n",
              "      fill: #D2E3FC;\n",
              "    }\n",
              "\n",
              "    [theme=dark] .colab-df-convert:hover {\n",
              "      background-color: #434B5C;\n",
              "      box-shadow: 0px 1px 3px 1px rgba(0, 0, 0, 0.15);\n",
              "      filter: drop-shadow(0px 1px 2px rgba(0, 0, 0, 0.3));\n",
              "      fill: #FFFFFF;\n",
              "    }\n",
              "  </style>\n",
              "\n",
              "      <script>\n",
              "        const buttonEl =\n",
              "          document.querySelector('#df-d3efeff7-85ff-4fc9-97b3-a4d189696364 button.colab-df-convert');\n",
              "        buttonEl.style.display =\n",
              "          google.colab.kernel.accessAllowed ? 'block' : 'none';\n",
              "\n",
              "        async function convertToInteractive(key) {\n",
              "          const element = document.querySelector('#df-d3efeff7-85ff-4fc9-97b3-a4d189696364');\n",
              "          const dataTable =\n",
              "            await google.colab.kernel.invokeFunction('convertToInteractive',\n",
              "                                                     [key], {});\n",
              "          if (!dataTable) return;\n",
              "\n",
              "          const docLinkHtml = 'Like what you see? Visit the ' +\n",
              "            '<a target=\"_blank\" href=https://colab.research.google.com/notebooks/data_table.ipynb>data table notebook</a>'\n",
              "            + ' to learn more about interactive tables.';\n",
              "          element.innerHTML = '';\n",
              "          dataTable['output_type'] = 'display_data';\n",
              "          await google.colab.output.renderOutput(dataTable, element);\n",
              "          const docLink = document.createElement('div');\n",
              "          docLink.innerHTML = docLinkHtml;\n",
              "          element.appendChild(docLink);\n",
              "        }\n",
              "      </script>\n",
              "    </div>\n",
              "  </div>\n",
              "  "
            ]
          },
          "metadata": {},
          "execution_count": 4
        }
      ],
      "source": [
        "data.head()"
      ]
    },
    {
      "cell_type": "code",
      "source": [
        "# Class 열을 범주형 변수화한다\n",
        "data[\"Class\"] = pd.Series(data[\"Class\"], dtype = \"category\")"
      ],
      "metadata": {
        "id": "Mz7ZmydpEnjZ"
      },
      "execution_count": 5,
      "outputs": []
    },
    {
      "cell_type": "code",
      "source": [
        "x = data.iloc[:, :-1]\n",
        "y = data.iloc[:, -1]"
      ],
      "metadata": {
        "id": "PhPjftmaEz1D"
      },
      "execution_count": 6,
      "outputs": []
    },
    {
      "cell_type": "code",
      "source": [
        "data.describe()\n",
        "# scaling이 필요하다"
      ],
      "metadata": {
        "colab": {
          "base_uri": "https://localhost:8080/",
          "height": 393
        },
        "id": "BEcfv05JE4Dz",
        "outputId": "84fbbafa-e2ac-43c1-93a3-42172f3d7785"
      },
      "execution_count": 8,
      "outputs": [
        {
          "output_type": "execute_result",
          "data": {
            "text/plain": [
              "                 V1            V2            V3            V4            V5  \\\n",
              "count  28678.000000  28678.000000  28678.000000  28678.000000  28678.000000   \n",
              "mean      -0.015438      0.053653     -0.046031      0.037348     -0.033724   \n",
              "std        2.031529      1.616186      1.758169      1.482109      1.486998   \n",
              "min      -30.552380    -42.172688    -31.103685     -5.560118    -42.147898   \n",
              "25%       -0.916927     -0.575381     -0.899872     -0.843321     -0.714901   \n",
              "50%        0.020050      0.075358      0.180610     -0.008844     -0.060040   \n",
              "75%        1.317461      0.806957      1.029928      0.771958      0.613328   \n",
              "max        2.399484     21.467203      4.069865     11.927512     32.911462   \n",
              "\n",
              "                 V6            V7            V8            V9           V10  \\\n",
              "count  28678.000000  28678.000000  28678.000000  28678.000000  28678.000000   \n",
              "mean      -0.003299     -0.051054      0.006064     -0.018530     -0.041149   \n",
              "std        1.339259      1.454827      1.364342      1.134065      1.252593   \n",
              "min      -21.929312    -41.506796    -39.267378    -13.434066    -24.403185   \n",
              "25%       -0.763757     -0.568146     -0.206103     -0.661909     -0.543450   \n",
              "50%       -0.271363      0.036107      0.022463     -0.055095     -0.097390   \n",
              "75%        0.397269      0.559409      0.329606      0.605704      0.460681   \n",
              "max       22.529298     36.677268     20.007208      8.113152     15.236028   \n",
              "\n",
              "       ...           V19           V20           V21           V22  \\\n",
              "count  ...  28678.000000  28678.000000  28678.000000  28678.000000   \n",
              "mean   ...      0.007183      0.002633      0.010289     -0.000656   \n",
              "std    ...      0.827420      0.720307      0.847152      0.739469   \n",
              "min    ...     -4.619034    -21.387122    -21.453736     -8.887017   \n",
              "25%    ...     -0.459073     -0.209678     -0.225520     -0.539244   \n",
              "50%    ...      0.002111     -0.062792     -0.028778      0.007302   \n",
              "75%    ...      0.467781      0.131199      0.184312      0.526358   \n",
              "max    ...      5.228342     26.237391     27.202839      8.361985   \n",
              "\n",
              "                V23           V24           V25           V26           V27  \\\n",
              "count  28678.000000  28678.000000  28678.000000  28678.000000  28678.000000   \n",
              "mean      -0.004800     -0.000897     -0.001989     -0.000765      0.000948   \n",
              "std        0.593663      0.603349      0.517968      0.483852      0.397075   \n",
              "min      -36.666000     -2.718024     -6.712624     -2.241620     -7.418878   \n",
              "25%       -0.160583     -0.356047     -0.318619     -0.327343     -0.070558   \n",
              "50%       -0.011199      0.040006      0.019770     -0.056260      0.002049   \n",
              "75%        0.146835      0.437146      0.352717      0.240713      0.091637   \n",
              "max        9.637187      3.948061      2.510401      3.122747     11.135740   \n",
              "\n",
              "                V28  \n",
              "count  28678.000000  \n",
              "mean       0.001535  \n",
              "std        0.296736  \n",
              "min       -9.617915  \n",
              "25%       -0.052189  \n",
              "50%        0.011075  \n",
              "75%        0.078911  \n",
              "max       14.929133  \n",
              "\n",
              "[8 rows x 28 columns]"
            ],
            "text/html": [
              "\n",
              "  <div id=\"df-30fd0bc2-e8c5-4d6c-84a7-5a69d2994819\">\n",
              "    <div class=\"colab-df-container\">\n",
              "      <div>\n",
              "<style scoped>\n",
              "    .dataframe tbody tr th:only-of-type {\n",
              "        vertical-align: middle;\n",
              "    }\n",
              "\n",
              "    .dataframe tbody tr th {\n",
              "        vertical-align: top;\n",
              "    }\n",
              "\n",
              "    .dataframe thead th {\n",
              "        text-align: right;\n",
              "    }\n",
              "</style>\n",
              "<table border=\"1\" class=\"dataframe\">\n",
              "  <thead>\n",
              "    <tr style=\"text-align: right;\">\n",
              "      <th></th>\n",
              "      <th>V1</th>\n",
              "      <th>V2</th>\n",
              "      <th>V3</th>\n",
              "      <th>V4</th>\n",
              "      <th>V5</th>\n",
              "      <th>V6</th>\n",
              "      <th>V7</th>\n",
              "      <th>V8</th>\n",
              "      <th>V9</th>\n",
              "      <th>V10</th>\n",
              "      <th>...</th>\n",
              "      <th>V19</th>\n",
              "      <th>V20</th>\n",
              "      <th>V21</th>\n",
              "      <th>V22</th>\n",
              "      <th>V23</th>\n",
              "      <th>V24</th>\n",
              "      <th>V25</th>\n",
              "      <th>V26</th>\n",
              "      <th>V27</th>\n",
              "      <th>V28</th>\n",
              "    </tr>\n",
              "  </thead>\n",
              "  <tbody>\n",
              "    <tr>\n",
              "      <th>count</th>\n",
              "      <td>28678.000000</td>\n",
              "      <td>28678.000000</td>\n",
              "      <td>28678.000000</td>\n",
              "      <td>28678.000000</td>\n",
              "      <td>28678.000000</td>\n",
              "      <td>28678.000000</td>\n",
              "      <td>28678.000000</td>\n",
              "      <td>28678.000000</td>\n",
              "      <td>28678.000000</td>\n",
              "      <td>28678.000000</td>\n",
              "      <td>...</td>\n",
              "      <td>28678.000000</td>\n",
              "      <td>28678.000000</td>\n",
              "      <td>28678.000000</td>\n",
              "      <td>28678.000000</td>\n",
              "      <td>28678.000000</td>\n",
              "      <td>28678.000000</td>\n",
              "      <td>28678.000000</td>\n",
              "      <td>28678.000000</td>\n",
              "      <td>28678.000000</td>\n",
              "      <td>28678.000000</td>\n",
              "    </tr>\n",
              "    <tr>\n",
              "      <th>mean</th>\n",
              "      <td>-0.015438</td>\n",
              "      <td>0.053653</td>\n",
              "      <td>-0.046031</td>\n",
              "      <td>0.037348</td>\n",
              "      <td>-0.033724</td>\n",
              "      <td>-0.003299</td>\n",
              "      <td>-0.051054</td>\n",
              "      <td>0.006064</td>\n",
              "      <td>-0.018530</td>\n",
              "      <td>-0.041149</td>\n",
              "      <td>...</td>\n",
              "      <td>0.007183</td>\n",
              "      <td>0.002633</td>\n",
              "      <td>0.010289</td>\n",
              "      <td>-0.000656</td>\n",
              "      <td>-0.004800</td>\n",
              "      <td>-0.000897</td>\n",
              "      <td>-0.001989</td>\n",
              "      <td>-0.000765</td>\n",
              "      <td>0.000948</td>\n",
              "      <td>0.001535</td>\n",
              "    </tr>\n",
              "    <tr>\n",
              "      <th>std</th>\n",
              "      <td>2.031529</td>\n",
              "      <td>1.616186</td>\n",
              "      <td>1.758169</td>\n",
              "      <td>1.482109</td>\n",
              "      <td>1.486998</td>\n",
              "      <td>1.339259</td>\n",
              "      <td>1.454827</td>\n",
              "      <td>1.364342</td>\n",
              "      <td>1.134065</td>\n",
              "      <td>1.252593</td>\n",
              "      <td>...</td>\n",
              "      <td>0.827420</td>\n",
              "      <td>0.720307</td>\n",
              "      <td>0.847152</td>\n",
              "      <td>0.739469</td>\n",
              "      <td>0.593663</td>\n",
              "      <td>0.603349</td>\n",
              "      <td>0.517968</td>\n",
              "      <td>0.483852</td>\n",
              "      <td>0.397075</td>\n",
              "      <td>0.296736</td>\n",
              "    </tr>\n",
              "    <tr>\n",
              "      <th>min</th>\n",
              "      <td>-30.552380</td>\n",
              "      <td>-42.172688</td>\n",
              "      <td>-31.103685</td>\n",
              "      <td>-5.560118</td>\n",
              "      <td>-42.147898</td>\n",
              "      <td>-21.929312</td>\n",
              "      <td>-41.506796</td>\n",
              "      <td>-39.267378</td>\n",
              "      <td>-13.434066</td>\n",
              "      <td>-24.403185</td>\n",
              "      <td>...</td>\n",
              "      <td>-4.619034</td>\n",
              "      <td>-21.387122</td>\n",
              "      <td>-21.453736</td>\n",
              "      <td>-8.887017</td>\n",
              "      <td>-36.666000</td>\n",
              "      <td>-2.718024</td>\n",
              "      <td>-6.712624</td>\n",
              "      <td>-2.241620</td>\n",
              "      <td>-7.418878</td>\n",
              "      <td>-9.617915</td>\n",
              "    </tr>\n",
              "    <tr>\n",
              "      <th>25%</th>\n",
              "      <td>-0.916927</td>\n",
              "      <td>-0.575381</td>\n",
              "      <td>-0.899872</td>\n",
              "      <td>-0.843321</td>\n",
              "      <td>-0.714901</td>\n",
              "      <td>-0.763757</td>\n",
              "      <td>-0.568146</td>\n",
              "      <td>-0.206103</td>\n",
              "      <td>-0.661909</td>\n",
              "      <td>-0.543450</td>\n",
              "      <td>...</td>\n",
              "      <td>-0.459073</td>\n",
              "      <td>-0.209678</td>\n",
              "      <td>-0.225520</td>\n",
              "      <td>-0.539244</td>\n",
              "      <td>-0.160583</td>\n",
              "      <td>-0.356047</td>\n",
              "      <td>-0.318619</td>\n",
              "      <td>-0.327343</td>\n",
              "      <td>-0.070558</td>\n",
              "      <td>-0.052189</td>\n",
              "    </tr>\n",
              "    <tr>\n",
              "      <th>50%</th>\n",
              "      <td>0.020050</td>\n",
              "      <td>0.075358</td>\n",
              "      <td>0.180610</td>\n",
              "      <td>-0.008844</td>\n",
              "      <td>-0.060040</td>\n",
              "      <td>-0.271363</td>\n",
              "      <td>0.036107</td>\n",
              "      <td>0.022463</td>\n",
              "      <td>-0.055095</td>\n",
              "      <td>-0.097390</td>\n",
              "      <td>...</td>\n",
              "      <td>0.002111</td>\n",
              "      <td>-0.062792</td>\n",
              "      <td>-0.028778</td>\n",
              "      <td>0.007302</td>\n",
              "      <td>-0.011199</td>\n",
              "      <td>0.040006</td>\n",
              "      <td>0.019770</td>\n",
              "      <td>-0.056260</td>\n",
              "      <td>0.002049</td>\n",
              "      <td>0.011075</td>\n",
              "    </tr>\n",
              "    <tr>\n",
              "      <th>75%</th>\n",
              "      <td>1.317461</td>\n",
              "      <td>0.806957</td>\n",
              "      <td>1.029928</td>\n",
              "      <td>0.771958</td>\n",
              "      <td>0.613328</td>\n",
              "      <td>0.397269</td>\n",
              "      <td>0.559409</td>\n",
              "      <td>0.329606</td>\n",
              "      <td>0.605704</td>\n",
              "      <td>0.460681</td>\n",
              "      <td>...</td>\n",
              "      <td>0.467781</td>\n",
              "      <td>0.131199</td>\n",
              "      <td>0.184312</td>\n",
              "      <td>0.526358</td>\n",
              "      <td>0.146835</td>\n",
              "      <td>0.437146</td>\n",
              "      <td>0.352717</td>\n",
              "      <td>0.240713</td>\n",
              "      <td>0.091637</td>\n",
              "      <td>0.078911</td>\n",
              "    </tr>\n",
              "    <tr>\n",
              "      <th>max</th>\n",
              "      <td>2.399484</td>\n",
              "      <td>21.467203</td>\n",
              "      <td>4.069865</td>\n",
              "      <td>11.927512</td>\n",
              "      <td>32.911462</td>\n",
              "      <td>22.529298</td>\n",
              "      <td>36.677268</td>\n",
              "      <td>20.007208</td>\n",
              "      <td>8.113152</td>\n",
              "      <td>15.236028</td>\n",
              "      <td>...</td>\n",
              "      <td>5.228342</td>\n",
              "      <td>26.237391</td>\n",
              "      <td>27.202839</td>\n",
              "      <td>8.361985</td>\n",
              "      <td>9.637187</td>\n",
              "      <td>3.948061</td>\n",
              "      <td>2.510401</td>\n",
              "      <td>3.122747</td>\n",
              "      <td>11.135740</td>\n",
              "      <td>14.929133</td>\n",
              "    </tr>\n",
              "  </tbody>\n",
              "</table>\n",
              "<p>8 rows × 28 columns</p>\n",
              "</div>\n",
              "      <button class=\"colab-df-convert\" onclick=\"convertToInteractive('df-30fd0bc2-e8c5-4d6c-84a7-5a69d2994819')\"\n",
              "              title=\"Convert this dataframe to an interactive table.\"\n",
              "              style=\"display:none;\">\n",
              "        \n",
              "  <svg xmlns=\"http://www.w3.org/2000/svg\" height=\"24px\"viewBox=\"0 0 24 24\"\n",
              "       width=\"24px\">\n",
              "    <path d=\"M0 0h24v24H0V0z\" fill=\"none\"/>\n",
              "    <path d=\"M18.56 5.44l.94 2.06.94-2.06 2.06-.94-2.06-.94-.94-2.06-.94 2.06-2.06.94zm-11 1L8.5 8.5l.94-2.06 2.06-.94-2.06-.94L8.5 2.5l-.94 2.06-2.06.94zm10 10l.94 2.06.94-2.06 2.06-.94-2.06-.94-.94-2.06-.94 2.06-2.06.94z\"/><path d=\"M17.41 7.96l-1.37-1.37c-.4-.4-.92-.59-1.43-.59-.52 0-1.04.2-1.43.59L10.3 9.45l-7.72 7.72c-.78.78-.78 2.05 0 2.83L4 21.41c.39.39.9.59 1.41.59.51 0 1.02-.2 1.41-.59l7.78-7.78 2.81-2.81c.8-.78.8-2.07 0-2.86zM5.41 20L4 18.59l7.72-7.72 1.47 1.35L5.41 20z\"/>\n",
              "  </svg>\n",
              "      </button>\n",
              "      \n",
              "  <style>\n",
              "    .colab-df-container {\n",
              "      display:flex;\n",
              "      flex-wrap:wrap;\n",
              "      gap: 12px;\n",
              "    }\n",
              "\n",
              "    .colab-df-convert {\n",
              "      background-color: #E8F0FE;\n",
              "      border: none;\n",
              "      border-radius: 50%;\n",
              "      cursor: pointer;\n",
              "      display: none;\n",
              "      fill: #1967D2;\n",
              "      height: 32px;\n",
              "      padding: 0 0 0 0;\n",
              "      width: 32px;\n",
              "    }\n",
              "\n",
              "    .colab-df-convert:hover {\n",
              "      background-color: #E2EBFA;\n",
              "      box-shadow: 0px 1px 2px rgba(60, 64, 67, 0.3), 0px 1px 3px 1px rgba(60, 64, 67, 0.15);\n",
              "      fill: #174EA6;\n",
              "    }\n",
              "\n",
              "    [theme=dark] .colab-df-convert {\n",
              "      background-color: #3B4455;\n",
              "      fill: #D2E3FC;\n",
              "    }\n",
              "\n",
              "    [theme=dark] .colab-df-convert:hover {\n",
              "      background-color: #434B5C;\n",
              "      box-shadow: 0px 1px 3px 1px rgba(0, 0, 0, 0.15);\n",
              "      filter: drop-shadow(0px 1px 2px rgba(0, 0, 0, 0.3));\n",
              "      fill: #FFFFFF;\n",
              "    }\n",
              "  </style>\n",
              "\n",
              "      <script>\n",
              "        const buttonEl =\n",
              "          document.querySelector('#df-30fd0bc2-e8c5-4d6c-84a7-5a69d2994819 button.colab-df-convert');\n",
              "        buttonEl.style.display =\n",
              "          google.colab.kernel.accessAllowed ? 'block' : 'none';\n",
              "\n",
              "        async function convertToInteractive(key) {\n",
              "          const element = document.querySelector('#df-30fd0bc2-e8c5-4d6c-84a7-5a69d2994819');\n",
              "          const dataTable =\n",
              "            await google.colab.kernel.invokeFunction('convertToInteractive',\n",
              "                                                     [key], {});\n",
              "          if (!dataTable) return;\n",
              "\n",
              "          const docLinkHtml = 'Like what you see? Visit the ' +\n",
              "            '<a target=\"_blank\" href=https://colab.research.google.com/notebooks/data_table.ipynb>data table notebook</a>'\n",
              "            + ' to learn more about interactive tables.';\n",
              "          element.innerHTML = '';\n",
              "          dataTable['output_type'] = 'display_data';\n",
              "          await google.colab.output.renderOutput(dataTable, element);\n",
              "          const docLink = document.createElement('div');\n",
              "          docLink.innerHTML = docLinkHtml;\n",
              "          element.appendChild(docLink);\n",
              "        }\n",
              "      </script>\n",
              "    </div>\n",
              "  </div>\n",
              "  "
            ]
          },
          "metadata": {},
          "execution_count": 8
        }
      ]
    },
    {
      "cell_type": "markdown",
      "source": [
        "# Scaling"
      ],
      "metadata": {
        "id": "deaX2tlGFEkq"
      }
    },
    {
      "cell_type": "code",
      "source": [
        "from sklearn.model_selection import train_test_split\n",
        "X_train, X_test, y_train, y_test = train_test_split(x, y, test_size = 0.25, random_state = 0)\n"
      ],
      "metadata": {
        "id": "BTYEv61GFdSR"
      },
      "execution_count": 9,
      "outputs": []
    },
    {
      "cell_type": "code",
      "source": [
        "X_train.shape, X_test.shape, y_train.shape, y_test.shape\n"
      ],
      "metadata": {
        "colab": {
          "base_uri": "https://localhost:8080/"
        },
        "id": "Eo88eQx_FlKI",
        "outputId": "7c17fad8-2d38-41a7-9501-3fffb7985f9c"
      },
      "execution_count": 10,
      "outputs": [
        {
          "output_type": "execute_result",
          "data": {
            "text/plain": [
              "((21508, 28), (7170, 28), (21508,), (7170,))"
            ]
          },
          "metadata": {},
          "execution_count": 10
        }
      ]
    },
    {
      "cell_type": "code",
      "source": [
        "from sklearn.preprocessing import StandardScaler\n",
        "scaler = StandardScaler() # 평균 0, 분산 1로 조정\n",
        "X_train = pd.DataFrame(scaler.fit_transform(X_train), columns = X_train.columns)\n",
        "# X_train data를 scaled 된 data로 저장. 기존 column명 사용\n",
        "X_train.head()"
      ],
      "metadata": {
        "colab": {
          "base_uri": "https://localhost:8080/",
          "height": 299
        },
        "id": "JgvcDXySE5a5",
        "outputId": "648386a3-8ba0-4e1c-bed8-15658718863f"
      },
      "execution_count": 11,
      "outputs": [
        {
          "output_type": "execute_result",
          "data": {
            "text/plain": [
              "         V1        V2        V3        V4        V5        V6        V7  \\\n",
              "0 -0.325593  0.574378  0.052199  0.060309  1.200907 -1.116495  1.153906   \n",
              "1  0.679228 -0.389079  0.245032 -0.447803 -0.726651 -0.797593 -0.289088   \n",
              "2 -0.065628  0.233976  1.048914  0.011105  0.217549  0.574530  0.101356   \n",
              "3  0.992426 -0.058177 -0.415138  0.205064 -0.144376 -0.881869  0.134564   \n",
              "4  0.939575 -0.260967 -0.226647  0.907480 -0.168543  0.298768 -0.324591   \n",
              "\n",
              "         V8        V9       V10  ...       V19       V20       V21       V22  \\\n",
              "0 -0.385993 -1.288142 -0.278995  ...  1.325607  0.246580  0.355098  1.290349   \n",
              "1 -0.169371 -0.654869  0.532457  ...  0.609887  0.161016  0.173485  0.433910   \n",
              "2  0.139912 -0.143811  0.057379  ...  0.871268  0.129216 -0.084699 -0.080292   \n",
              "3 -0.238284  0.540998 -0.052758  ... -0.007296 -0.194761 -0.478900 -1.527376   \n",
              "4  0.240727  1.062690  0.190708  ...  0.528888 -0.531223 -0.586560 -1.725562   \n",
              "\n",
              "        V23       V24       V25       V26       V27       V28  \n",
              "0 -1.193983  0.085077  2.626317  2.138393 -0.178480  0.082706  \n",
              "1 -0.096171  0.683450  0.929846 -0.432348 -0.007872  0.060221  \n",
              "2 -0.256860 -1.418187 -0.502001  0.700057 -0.382665 -0.806101  \n",
              "3  0.778746 -0.037943 -0.947528 -1.823692  0.006528 -0.107006  \n",
              "4  0.805679  0.938744 -0.794002 -2.374972  0.089148 -0.129810  \n",
              "\n",
              "[5 rows x 28 columns]"
            ],
            "text/html": [
              "\n",
              "  <div id=\"df-f628fa70-3d3c-4f51-bf95-e2f07a50fbb5\">\n",
              "    <div class=\"colab-df-container\">\n",
              "      <div>\n",
              "<style scoped>\n",
              "    .dataframe tbody tr th:only-of-type {\n",
              "        vertical-align: middle;\n",
              "    }\n",
              "\n",
              "    .dataframe tbody tr th {\n",
              "        vertical-align: top;\n",
              "    }\n",
              "\n",
              "    .dataframe thead th {\n",
              "        text-align: right;\n",
              "    }\n",
              "</style>\n",
              "<table border=\"1\" class=\"dataframe\">\n",
              "  <thead>\n",
              "    <tr style=\"text-align: right;\">\n",
              "      <th></th>\n",
              "      <th>V1</th>\n",
              "      <th>V2</th>\n",
              "      <th>V3</th>\n",
              "      <th>V4</th>\n",
              "      <th>V5</th>\n",
              "      <th>V6</th>\n",
              "      <th>V7</th>\n",
              "      <th>V8</th>\n",
              "      <th>V9</th>\n",
              "      <th>V10</th>\n",
              "      <th>...</th>\n",
              "      <th>V19</th>\n",
              "      <th>V20</th>\n",
              "      <th>V21</th>\n",
              "      <th>V22</th>\n",
              "      <th>V23</th>\n",
              "      <th>V24</th>\n",
              "      <th>V25</th>\n",
              "      <th>V26</th>\n",
              "      <th>V27</th>\n",
              "      <th>V28</th>\n",
              "    </tr>\n",
              "  </thead>\n",
              "  <tbody>\n",
              "    <tr>\n",
              "      <th>0</th>\n",
              "      <td>-0.325593</td>\n",
              "      <td>0.574378</td>\n",
              "      <td>0.052199</td>\n",
              "      <td>0.060309</td>\n",
              "      <td>1.200907</td>\n",
              "      <td>-1.116495</td>\n",
              "      <td>1.153906</td>\n",
              "      <td>-0.385993</td>\n",
              "      <td>-1.288142</td>\n",
              "      <td>-0.278995</td>\n",
              "      <td>...</td>\n",
              "      <td>1.325607</td>\n",
              "      <td>0.246580</td>\n",
              "      <td>0.355098</td>\n",
              "      <td>1.290349</td>\n",
              "      <td>-1.193983</td>\n",
              "      <td>0.085077</td>\n",
              "      <td>2.626317</td>\n",
              "      <td>2.138393</td>\n",
              "      <td>-0.178480</td>\n",
              "      <td>0.082706</td>\n",
              "    </tr>\n",
              "    <tr>\n",
              "      <th>1</th>\n",
              "      <td>0.679228</td>\n",
              "      <td>-0.389079</td>\n",
              "      <td>0.245032</td>\n",
              "      <td>-0.447803</td>\n",
              "      <td>-0.726651</td>\n",
              "      <td>-0.797593</td>\n",
              "      <td>-0.289088</td>\n",
              "      <td>-0.169371</td>\n",
              "      <td>-0.654869</td>\n",
              "      <td>0.532457</td>\n",
              "      <td>...</td>\n",
              "      <td>0.609887</td>\n",
              "      <td>0.161016</td>\n",
              "      <td>0.173485</td>\n",
              "      <td>0.433910</td>\n",
              "      <td>-0.096171</td>\n",
              "      <td>0.683450</td>\n",
              "      <td>0.929846</td>\n",
              "      <td>-0.432348</td>\n",
              "      <td>-0.007872</td>\n",
              "      <td>0.060221</td>\n",
              "    </tr>\n",
              "    <tr>\n",
              "      <th>2</th>\n",
              "      <td>-0.065628</td>\n",
              "      <td>0.233976</td>\n",
              "      <td>1.048914</td>\n",
              "      <td>0.011105</td>\n",
              "      <td>0.217549</td>\n",
              "      <td>0.574530</td>\n",
              "      <td>0.101356</td>\n",
              "      <td>0.139912</td>\n",
              "      <td>-0.143811</td>\n",
              "      <td>0.057379</td>\n",
              "      <td>...</td>\n",
              "      <td>0.871268</td>\n",
              "      <td>0.129216</td>\n",
              "      <td>-0.084699</td>\n",
              "      <td>-0.080292</td>\n",
              "      <td>-0.256860</td>\n",
              "      <td>-1.418187</td>\n",
              "      <td>-0.502001</td>\n",
              "      <td>0.700057</td>\n",
              "      <td>-0.382665</td>\n",
              "      <td>-0.806101</td>\n",
              "    </tr>\n",
              "    <tr>\n",
              "      <th>3</th>\n",
              "      <td>0.992426</td>\n",
              "      <td>-0.058177</td>\n",
              "      <td>-0.415138</td>\n",
              "      <td>0.205064</td>\n",
              "      <td>-0.144376</td>\n",
              "      <td>-0.881869</td>\n",
              "      <td>0.134564</td>\n",
              "      <td>-0.238284</td>\n",
              "      <td>0.540998</td>\n",
              "      <td>-0.052758</td>\n",
              "      <td>...</td>\n",
              "      <td>-0.007296</td>\n",
              "      <td>-0.194761</td>\n",
              "      <td>-0.478900</td>\n",
              "      <td>-1.527376</td>\n",
              "      <td>0.778746</td>\n",
              "      <td>-0.037943</td>\n",
              "      <td>-0.947528</td>\n",
              "      <td>-1.823692</td>\n",
              "      <td>0.006528</td>\n",
              "      <td>-0.107006</td>\n",
              "    </tr>\n",
              "    <tr>\n",
              "      <th>4</th>\n",
              "      <td>0.939575</td>\n",
              "      <td>-0.260967</td>\n",
              "      <td>-0.226647</td>\n",
              "      <td>0.907480</td>\n",
              "      <td>-0.168543</td>\n",
              "      <td>0.298768</td>\n",
              "      <td>-0.324591</td>\n",
              "      <td>0.240727</td>\n",
              "      <td>1.062690</td>\n",
              "      <td>0.190708</td>\n",
              "      <td>...</td>\n",
              "      <td>0.528888</td>\n",
              "      <td>-0.531223</td>\n",
              "      <td>-0.586560</td>\n",
              "      <td>-1.725562</td>\n",
              "      <td>0.805679</td>\n",
              "      <td>0.938744</td>\n",
              "      <td>-0.794002</td>\n",
              "      <td>-2.374972</td>\n",
              "      <td>0.089148</td>\n",
              "      <td>-0.129810</td>\n",
              "    </tr>\n",
              "  </tbody>\n",
              "</table>\n",
              "<p>5 rows × 28 columns</p>\n",
              "</div>\n",
              "      <button class=\"colab-df-convert\" onclick=\"convertToInteractive('df-f628fa70-3d3c-4f51-bf95-e2f07a50fbb5')\"\n",
              "              title=\"Convert this dataframe to an interactive table.\"\n",
              "              style=\"display:none;\">\n",
              "        \n",
              "  <svg xmlns=\"http://www.w3.org/2000/svg\" height=\"24px\"viewBox=\"0 0 24 24\"\n",
              "       width=\"24px\">\n",
              "    <path d=\"M0 0h24v24H0V0z\" fill=\"none\"/>\n",
              "    <path d=\"M18.56 5.44l.94 2.06.94-2.06 2.06-.94-2.06-.94-.94-2.06-.94 2.06-2.06.94zm-11 1L8.5 8.5l.94-2.06 2.06-.94-2.06-.94L8.5 2.5l-.94 2.06-2.06.94zm10 10l.94 2.06.94-2.06 2.06-.94-2.06-.94-.94-2.06-.94 2.06-2.06.94z\"/><path d=\"M17.41 7.96l-1.37-1.37c-.4-.4-.92-.59-1.43-.59-.52 0-1.04.2-1.43.59L10.3 9.45l-7.72 7.72c-.78.78-.78 2.05 0 2.83L4 21.41c.39.39.9.59 1.41.59.51 0 1.02-.2 1.41-.59l7.78-7.78 2.81-2.81c.8-.78.8-2.07 0-2.86zM5.41 20L4 18.59l7.72-7.72 1.47 1.35L5.41 20z\"/>\n",
              "  </svg>\n",
              "      </button>\n",
              "      \n",
              "  <style>\n",
              "    .colab-df-container {\n",
              "      display:flex;\n",
              "      flex-wrap:wrap;\n",
              "      gap: 12px;\n",
              "    }\n",
              "\n",
              "    .colab-df-convert {\n",
              "      background-color: #E8F0FE;\n",
              "      border: none;\n",
              "      border-radius: 50%;\n",
              "      cursor: pointer;\n",
              "      display: none;\n",
              "      fill: #1967D2;\n",
              "      height: 32px;\n",
              "      padding: 0 0 0 0;\n",
              "      width: 32px;\n",
              "    }\n",
              "\n",
              "    .colab-df-convert:hover {\n",
              "      background-color: #E2EBFA;\n",
              "      box-shadow: 0px 1px 2px rgba(60, 64, 67, 0.3), 0px 1px 3px 1px rgba(60, 64, 67, 0.15);\n",
              "      fill: #174EA6;\n",
              "    }\n",
              "\n",
              "    [theme=dark] .colab-df-convert {\n",
              "      background-color: #3B4455;\n",
              "      fill: #D2E3FC;\n",
              "    }\n",
              "\n",
              "    [theme=dark] .colab-df-convert:hover {\n",
              "      background-color: #434B5C;\n",
              "      box-shadow: 0px 1px 3px 1px rgba(0, 0, 0, 0.15);\n",
              "      filter: drop-shadow(0px 1px 2px rgba(0, 0, 0, 0.3));\n",
              "      fill: #FFFFFF;\n",
              "    }\n",
              "  </style>\n",
              "\n",
              "      <script>\n",
              "        const buttonEl =\n",
              "          document.querySelector('#df-f628fa70-3d3c-4f51-bf95-e2f07a50fbb5 button.colab-df-convert');\n",
              "        buttonEl.style.display =\n",
              "          google.colab.kernel.accessAllowed ? 'block' : 'none';\n",
              "\n",
              "        async function convertToInteractive(key) {\n",
              "          const element = document.querySelector('#df-f628fa70-3d3c-4f51-bf95-e2f07a50fbb5');\n",
              "          const dataTable =\n",
              "            await google.colab.kernel.invokeFunction('convertToInteractive',\n",
              "                                                     [key], {});\n",
              "          if (!dataTable) return;\n",
              "\n",
              "          const docLinkHtml = 'Like what you see? Visit the ' +\n",
              "            '<a target=\"_blank\" href=https://colab.research.google.com/notebooks/data_table.ipynb>data table notebook</a>'\n",
              "            + ' to learn more about interactive tables.';\n",
              "          element.innerHTML = '';\n",
              "          dataTable['output_type'] = 'display_data';\n",
              "          await google.colab.output.renderOutput(dataTable, element);\n",
              "          const docLink = document.createElement('div');\n",
              "          docLink.innerHTML = docLinkHtml;\n",
              "          element.appendChild(docLink);\n",
              "        }\n",
              "      </script>\n",
              "    </div>\n",
              "  </div>\n",
              "  "
            ]
          },
          "metadata": {},
          "execution_count": 11
        }
      ]
    },
    {
      "cell_type": "code",
      "source": [
        "# X_train data의 전처리 과정과 동일하다. \n",
        "# scaling시 fit_transform이 아니라 transform만 한다.\n",
        "X_test = pd.DataFrame(scaler.transform(X_test), columns = X_test.columns)\n",
        "X_test.head()"
      ],
      "metadata": {
        "colab": {
          "base_uri": "https://localhost:8080/",
          "height": 299
        },
        "id": "ayl4STJAFtR6",
        "outputId": "fcc32ae4-b9d0-4b01-f6c4-44c9efe1d91c"
      },
      "execution_count": 12,
      "outputs": [
        {
          "output_type": "execute_result",
          "data": {
            "text/plain": [
              "         V1        V2        V3        V4        V5        V6        V7  \\\n",
              "0  0.536270 -0.325982  0.718891  0.065985 -0.653250  0.242654 -0.471467   \n",
              "1 -0.001142 -0.090335  0.264597 -0.328537  1.737487 -1.367655 -1.504108   \n",
              "2 -0.145076  0.304413  0.010803  2.130016 -0.090001  0.911819  0.453249   \n",
              "3  0.647227  0.065172 -0.222531  0.057005  0.467144  0.522065 -0.083930   \n",
              "4  0.933435 -0.983654 -1.163216 -0.820549 -0.039010  0.011376 -0.175220   \n",
              "\n",
              "         V8        V9       V10  ...       V19       V20       V21       V22  \\\n",
              "0  0.194132  0.716241 -0.255216  ...  0.364618 -0.012034 -0.152577 -0.114897   \n",
              "1 -0.558540  0.250936  0.146402  ...  0.165514 -0.775019  0.563894 -2.309850   \n",
              "2  0.535452 -0.856761  0.473586  ... -1.623783 -0.079397  0.588778  1.638375   \n",
              "3  0.165038  0.009438 -0.073446  ...  0.463875 -0.133864 -0.400373 -1.315650   \n",
              "4 -0.091113 -0.523760  0.801182  ...  1.261463  0.588830  0.614641  1.370994   \n",
              "\n",
              "        V23       V24       V25       V26       V27       V28  \n",
              "0  0.163673  0.554008  0.057509  1.940556 -0.049695  0.020662  \n",
              "1 -6.359472 -0.545745 -0.733293  0.379523  0.719416  1.104299  \n",
              "2  0.696830  1.229137 -0.727464  0.185689 -0.334240 -0.125347  \n",
              "3 -0.081458 -2.947639  0.622165  0.450472 -0.044243 -0.013952  \n",
              "4 -0.465628 -0.498611  0.435535  0.145692 -0.225193 -0.154308  \n",
              "\n",
              "[5 rows x 28 columns]"
            ],
            "text/html": [
              "\n",
              "  <div id=\"df-96a24a31-db29-49b2-b781-574672ae9a5b\">\n",
              "    <div class=\"colab-df-container\">\n",
              "      <div>\n",
              "<style scoped>\n",
              "    .dataframe tbody tr th:only-of-type {\n",
              "        vertical-align: middle;\n",
              "    }\n",
              "\n",
              "    .dataframe tbody tr th {\n",
              "        vertical-align: top;\n",
              "    }\n",
              "\n",
              "    .dataframe thead th {\n",
              "        text-align: right;\n",
              "    }\n",
              "</style>\n",
              "<table border=\"1\" class=\"dataframe\">\n",
              "  <thead>\n",
              "    <tr style=\"text-align: right;\">\n",
              "      <th></th>\n",
              "      <th>V1</th>\n",
              "      <th>V2</th>\n",
              "      <th>V3</th>\n",
              "      <th>V4</th>\n",
              "      <th>V5</th>\n",
              "      <th>V6</th>\n",
              "      <th>V7</th>\n",
              "      <th>V8</th>\n",
              "      <th>V9</th>\n",
              "      <th>V10</th>\n",
              "      <th>...</th>\n",
              "      <th>V19</th>\n",
              "      <th>V20</th>\n",
              "      <th>V21</th>\n",
              "      <th>V22</th>\n",
              "      <th>V23</th>\n",
              "      <th>V24</th>\n",
              "      <th>V25</th>\n",
              "      <th>V26</th>\n",
              "      <th>V27</th>\n",
              "      <th>V28</th>\n",
              "    </tr>\n",
              "  </thead>\n",
              "  <tbody>\n",
              "    <tr>\n",
              "      <th>0</th>\n",
              "      <td>0.536270</td>\n",
              "      <td>-0.325982</td>\n",
              "      <td>0.718891</td>\n",
              "      <td>0.065985</td>\n",
              "      <td>-0.653250</td>\n",
              "      <td>0.242654</td>\n",
              "      <td>-0.471467</td>\n",
              "      <td>0.194132</td>\n",
              "      <td>0.716241</td>\n",
              "      <td>-0.255216</td>\n",
              "      <td>...</td>\n",
              "      <td>0.364618</td>\n",
              "      <td>-0.012034</td>\n",
              "      <td>-0.152577</td>\n",
              "      <td>-0.114897</td>\n",
              "      <td>0.163673</td>\n",
              "      <td>0.554008</td>\n",
              "      <td>0.057509</td>\n",
              "      <td>1.940556</td>\n",
              "      <td>-0.049695</td>\n",
              "      <td>0.020662</td>\n",
              "    </tr>\n",
              "    <tr>\n",
              "      <th>1</th>\n",
              "      <td>-0.001142</td>\n",
              "      <td>-0.090335</td>\n",
              "      <td>0.264597</td>\n",
              "      <td>-0.328537</td>\n",
              "      <td>1.737487</td>\n",
              "      <td>-1.367655</td>\n",
              "      <td>-1.504108</td>\n",
              "      <td>-0.558540</td>\n",
              "      <td>0.250936</td>\n",
              "      <td>0.146402</td>\n",
              "      <td>...</td>\n",
              "      <td>0.165514</td>\n",
              "      <td>-0.775019</td>\n",
              "      <td>0.563894</td>\n",
              "      <td>-2.309850</td>\n",
              "      <td>-6.359472</td>\n",
              "      <td>-0.545745</td>\n",
              "      <td>-0.733293</td>\n",
              "      <td>0.379523</td>\n",
              "      <td>0.719416</td>\n",
              "      <td>1.104299</td>\n",
              "    </tr>\n",
              "    <tr>\n",
              "      <th>2</th>\n",
              "      <td>-0.145076</td>\n",
              "      <td>0.304413</td>\n",
              "      <td>0.010803</td>\n",
              "      <td>2.130016</td>\n",
              "      <td>-0.090001</td>\n",
              "      <td>0.911819</td>\n",
              "      <td>0.453249</td>\n",
              "      <td>0.535452</td>\n",
              "      <td>-0.856761</td>\n",
              "      <td>0.473586</td>\n",
              "      <td>...</td>\n",
              "      <td>-1.623783</td>\n",
              "      <td>-0.079397</td>\n",
              "      <td>0.588778</td>\n",
              "      <td>1.638375</td>\n",
              "      <td>0.696830</td>\n",
              "      <td>1.229137</td>\n",
              "      <td>-0.727464</td>\n",
              "      <td>0.185689</td>\n",
              "      <td>-0.334240</td>\n",
              "      <td>-0.125347</td>\n",
              "    </tr>\n",
              "    <tr>\n",
              "      <th>3</th>\n",
              "      <td>0.647227</td>\n",
              "      <td>0.065172</td>\n",
              "      <td>-0.222531</td>\n",
              "      <td>0.057005</td>\n",
              "      <td>0.467144</td>\n",
              "      <td>0.522065</td>\n",
              "      <td>-0.083930</td>\n",
              "      <td>0.165038</td>\n",
              "      <td>0.009438</td>\n",
              "      <td>-0.073446</td>\n",
              "      <td>...</td>\n",
              "      <td>0.463875</td>\n",
              "      <td>-0.133864</td>\n",
              "      <td>-0.400373</td>\n",
              "      <td>-1.315650</td>\n",
              "      <td>-0.081458</td>\n",
              "      <td>-2.947639</td>\n",
              "      <td>0.622165</td>\n",
              "      <td>0.450472</td>\n",
              "      <td>-0.044243</td>\n",
              "      <td>-0.013952</td>\n",
              "    </tr>\n",
              "    <tr>\n",
              "      <th>4</th>\n",
              "      <td>0.933435</td>\n",
              "      <td>-0.983654</td>\n",
              "      <td>-1.163216</td>\n",
              "      <td>-0.820549</td>\n",
              "      <td>-0.039010</td>\n",
              "      <td>0.011376</td>\n",
              "      <td>-0.175220</td>\n",
              "      <td>-0.091113</td>\n",
              "      <td>-0.523760</td>\n",
              "      <td>0.801182</td>\n",
              "      <td>...</td>\n",
              "      <td>1.261463</td>\n",
              "      <td>0.588830</td>\n",
              "      <td>0.614641</td>\n",
              "      <td>1.370994</td>\n",
              "      <td>-0.465628</td>\n",
              "      <td>-0.498611</td>\n",
              "      <td>0.435535</td>\n",
              "      <td>0.145692</td>\n",
              "      <td>-0.225193</td>\n",
              "      <td>-0.154308</td>\n",
              "    </tr>\n",
              "  </tbody>\n",
              "</table>\n",
              "<p>5 rows × 28 columns</p>\n",
              "</div>\n",
              "      <button class=\"colab-df-convert\" onclick=\"convertToInteractive('df-96a24a31-db29-49b2-b781-574672ae9a5b')\"\n",
              "              title=\"Convert this dataframe to an interactive table.\"\n",
              "              style=\"display:none;\">\n",
              "        \n",
              "  <svg xmlns=\"http://www.w3.org/2000/svg\" height=\"24px\"viewBox=\"0 0 24 24\"\n",
              "       width=\"24px\">\n",
              "    <path d=\"M0 0h24v24H0V0z\" fill=\"none\"/>\n",
              "    <path d=\"M18.56 5.44l.94 2.06.94-2.06 2.06-.94-2.06-.94-.94-2.06-.94 2.06-2.06.94zm-11 1L8.5 8.5l.94-2.06 2.06-.94-2.06-.94L8.5 2.5l-.94 2.06-2.06.94zm10 10l.94 2.06.94-2.06 2.06-.94-2.06-.94-.94-2.06-.94 2.06-2.06.94z\"/><path d=\"M17.41 7.96l-1.37-1.37c-.4-.4-.92-.59-1.43-.59-.52 0-1.04.2-1.43.59L10.3 9.45l-7.72 7.72c-.78.78-.78 2.05 0 2.83L4 21.41c.39.39.9.59 1.41.59.51 0 1.02-.2 1.41-.59l7.78-7.78 2.81-2.81c.8-.78.8-2.07 0-2.86zM5.41 20L4 18.59l7.72-7.72 1.47 1.35L5.41 20z\"/>\n",
              "  </svg>\n",
              "      </button>\n",
              "      \n",
              "  <style>\n",
              "    .colab-df-container {\n",
              "      display:flex;\n",
              "      flex-wrap:wrap;\n",
              "      gap: 12px;\n",
              "    }\n",
              "\n",
              "    .colab-df-convert {\n",
              "      background-color: #E8F0FE;\n",
              "      border: none;\n",
              "      border-radius: 50%;\n",
              "      cursor: pointer;\n",
              "      display: none;\n",
              "      fill: #1967D2;\n",
              "      height: 32px;\n",
              "      padding: 0 0 0 0;\n",
              "      width: 32px;\n",
              "    }\n",
              "\n",
              "    .colab-df-convert:hover {\n",
              "      background-color: #E2EBFA;\n",
              "      box-shadow: 0px 1px 2px rgba(60, 64, 67, 0.3), 0px 1px 3px 1px rgba(60, 64, 67, 0.15);\n",
              "      fill: #174EA6;\n",
              "    }\n",
              "\n",
              "    [theme=dark] .colab-df-convert {\n",
              "      background-color: #3B4455;\n",
              "      fill: #D2E3FC;\n",
              "    }\n",
              "\n",
              "    [theme=dark] .colab-df-convert:hover {\n",
              "      background-color: #434B5C;\n",
              "      box-shadow: 0px 1px 3px 1px rgba(0, 0, 0, 0.15);\n",
              "      filter: drop-shadow(0px 1px 2px rgba(0, 0, 0, 0.3));\n",
              "      fill: #FFFFFF;\n",
              "    }\n",
              "  </style>\n",
              "\n",
              "      <script>\n",
              "        const buttonEl =\n",
              "          document.querySelector('#df-96a24a31-db29-49b2-b781-574672ae9a5b button.colab-df-convert');\n",
              "        buttonEl.style.display =\n",
              "          google.colab.kernel.accessAllowed ? 'block' : 'none';\n",
              "\n",
              "        async function convertToInteractive(key) {\n",
              "          const element = document.querySelector('#df-96a24a31-db29-49b2-b781-574672ae9a5b');\n",
              "          const dataTable =\n",
              "            await google.colab.kernel.invokeFunction('convertToInteractive',\n",
              "                                                     [key], {});\n",
              "          if (!dataTable) return;\n",
              "\n",
              "          const docLinkHtml = 'Like what you see? Visit the ' +\n",
              "            '<a target=\"_blank\" href=https://colab.research.google.com/notebooks/data_table.ipynb>data table notebook</a>'\n",
              "            + ' to learn more about interactive tables.';\n",
              "          element.innerHTML = '';\n",
              "          dataTable['output_type'] = 'display_data';\n",
              "          await google.colab.output.renderOutput(dataTable, element);\n",
              "          const docLink = document.createElement('div');\n",
              "          docLink.innerHTML = docLinkHtml;\n",
              "          element.appendChild(docLink);\n",
              "        }\n",
              "      </script>\n",
              "    </div>\n",
              "  </div>\n",
              "  "
            ]
          },
          "metadata": {},
          "execution_count": 12
        }
      ]
    },
    {
      "cell_type": "code",
      "source": [
        "# parameter 개수 = 열의 개수\n",
        "N = len(X_train.loc[0]) # 첫번째 행의 길이 \n",
        "N"
      ],
      "metadata": {
        "colab": {
          "base_uri": "https://localhost:8080/"
        },
        "id": "z27E5pTHF04F",
        "outputId": "14b982b9-2f81-438d-f737-24821565b40e"
      },
      "execution_count": 13,
      "outputs": [
        {
          "output_type": "execute_result",
          "data": {
            "text/plain": [
              "28"
            ]
          },
          "metadata": {},
          "execution_count": 13
        }
      ]
    },
    {
      "cell_type": "code",
      "source": [
        "from sklearn.linear_model import LogisticRegression\n",
        "model = LogisticRegression()\n",
        "model.fit(X_train,y_train)\n"
      ],
      "metadata": {
        "colab": {
          "base_uri": "https://localhost:8080/"
        },
        "id": "1NvzLlfsF5Ob",
        "outputId": "e56e2337-d27c-42bf-a793-461bcfa08420"
      },
      "execution_count": 14,
      "outputs": [
        {
          "output_type": "execute_result",
          "data": {
            "text/plain": [
              "LogisticRegression()"
            ]
          },
          "metadata": {},
          "execution_count": 14
        }
      ]
    },
    {
      "cell_type": "code",
      "source": [
        "y_pred = model.predict(X_test) \n",
        "y_pred"
      ],
      "metadata": {
        "colab": {
          "base_uri": "https://localhost:8080/"
        },
        "id": "Esg_YKWjGCli",
        "outputId": "bcba233b-421f-4363-ec04-7fdb687211d1"
      },
      "execution_count": 15,
      "outputs": [
        {
          "output_type": "execute_result",
          "data": {
            "text/plain": [
              "array([0, 0, 0, ..., 0, 0, 0])"
            ]
          },
          "metadata": {},
          "execution_count": 15
        }
      ]
    },
    {
      "cell_type": "code",
      "source": [
        "pred_proba = model.predict_proba(X_test)[:, -1].reshape(-1,1)"
      ],
      "metadata": {
        "id": "Rz3FKYjAGFNx"
      },
      "execution_count": 18,
      "outputs": []
    },
    {
      "cell_type": "markdown",
      "source": [
        "# 성능 지표\n",
        "- Accuracy(정확도) : 전체 데이터중에서 맞게 분류된 데이터의 비율\n",
        "- Error Rate(오류율) : 전체 데이터 중에서 잘못 분류한 값의 비율\n",
        "- Recall(Sensitivity : 재현율) : 원래 positive 데이터에서 positive 로 분류된 수\n",
        "- Precision(정밀도) : Positive 로 예측한 데이터 중에 실제 positive 인 비율\n",
        "- Specificity(특이도) : negative로 판단한 내용 중에 실제 negative 인 비율\n",
        "- False Positive Rate (위양성률) : Negative 로 판단한 값 중에 잘못 판단한 비율(실제로는 positive)\n",
        "- f1_score : Recall과 Precision의 조화평균\n",
        "- ROC 커브 : ROC 커브는 모델의 임계값을 조정\n",
        "- AUC : AUC는 ROC 곡선 아래의 너비로, 1에 가까울 수록 좋은 모델\n",
        "\n"
      ],
      "metadata": {
        "id": "_rbUHvg2IdsU"
      }
    },
    {
      "cell_type": "code",
      "source": [
        "from sklearn.metrics import *\n"
      ],
      "metadata": {
        "colab": {
          "base_uri": "https://localhost:8080/"
        },
        "id": "4x7z1HgTGHUj",
        "outputId": "13cf391a-66f6-406e-e83c-e1c1c1645df5"
      },
      "execution_count": 17,
      "outputs": [
        {
          "output_type": "execute_result",
          "data": {
            "text/plain": [
              "0.845360824742268"
            ]
          },
          "metadata": {},
          "execution_count": 17
        }
      ]
    },
    {
      "cell_type": "code",
      "source": [
        "print(classification_report(y_pred,y_test))"
      ],
      "metadata": {
        "colab": {
          "base_uri": "https://localhost:8080/"
        },
        "id": "GKCHQNOnHLpM",
        "outputId": "753fc9e3-ba65-4a5f-9902-fb24568ae1a7"
      },
      "execution_count": 19,
      "outputs": [
        {
          "output_type": "stream",
          "name": "stdout",
          "text": [
            "              precision    recall  f1-score   support\n",
            "\n",
            "           0       1.00      1.00      1.00      7125\n",
            "           1       0.79      0.91      0.85        45\n",
            "\n",
            "    accuracy                           1.00      7170\n",
            "   macro avg       0.89      0.95      0.92      7170\n",
            "weighted avg       1.00      1.00      1.00      7170\n",
            "\n"
          ]
        }
      ]
    },
    {
      "cell_type": "code",
      "source": [
        "tn, fp, fn, tp = confusion_matrix(y_test, y_pred).ravel()\n",
        "\n",
        "p = fn + tp\n",
        "n = tn + fp"
      ],
      "metadata": {
        "id": "coVGumc6IFYG"
      },
      "execution_count": 20,
      "outputs": []
    },
    {
      "cell_type": "code",
      "source": [
        "accuracy = (tp + tn) / (p + n)\n",
        "print(\"Accuracy : \", accuracy) "
      ],
      "metadata": {
        "colab": {
          "base_uri": "https://localhost:8080/"
        },
        "id": "fAzmkBHvIK7E",
        "outputId": "99fec44c-4921-46db-a520-3c0b492bb5b9"
      },
      "execution_count": 21,
      "outputs": [
        {
          "output_type": "stream",
          "name": "stdout",
          "text": [
            "Accuracy :  0.997907949790795\n"
          ]
        }
      ]
    },
    {
      "cell_type": "code",
      "source": [
        "errorRate = (fn + fp) / (p+n)\n",
        "print(\"Error Rate : \", errorRate)"
      ],
      "metadata": {
        "colab": {
          "base_uri": "https://localhost:8080/"
        },
        "id": "e3A3HamxINmW",
        "outputId": "b7662c81-063c-453d-dc53-c8ae8b065e07"
      },
      "execution_count": 22,
      "outputs": [
        {
          "output_type": "stream",
          "name": "stdout",
          "text": [
            "Error Rate :  0.0020920502092050207\n"
          ]
        }
      ]
    },
    {
      "cell_type": "code",
      "source": [
        "recall = (tp) / p\n",
        "print(\"Recall : \", recall)"
      ],
      "metadata": {
        "colab": {
          "base_uri": "https://localhost:8080/"
        },
        "id": "l9lp-GZMIPyw",
        "outputId": "48eb0b4c-a8a3-4a41-cbed-4b82e05fe831"
      },
      "execution_count": 23,
      "outputs": [
        {
          "output_type": "stream",
          "name": "stdout",
          "text": [
            "Recall :  0.7884615384615384\n"
          ]
        }
      ]
    },
    {
      "cell_type": "code",
      "source": [
        "precision = tp/ (tp + fp)\n",
        "print(\"precision : \", precision)"
      ],
      "metadata": {
        "colab": {
          "base_uri": "https://localhost:8080/"
        },
        "id": "wMyb85AEISJB",
        "outputId": "fa86a548-35ee-4b54-dacd-1792a753b68b"
      },
      "execution_count": 24,
      "outputs": [
        {
          "output_type": "stream",
          "name": "stdout",
          "text": [
            "precision :  0.9111111111111111\n"
          ]
        }
      ]
    },
    {
      "cell_type": "code",
      "source": [
        "specificity =  tn / (tn + fp)\n",
        "print(\"specificity : \", specificity)"
      ],
      "metadata": {
        "colab": {
          "base_uri": "https://localhost:8080/"
        },
        "id": "HzucGHa5IT-h",
        "outputId": "98a33edc-8fa7-4b2c-ba26-e0a8a8a362c0"
      },
      "execution_count": 25,
      "outputs": [
        {
          "output_type": "stream",
          "name": "stdout",
          "text": [
            "specificity :  0.9994380443944928\n"
          ]
        }
      ]
    },
    {
      "cell_type": "code",
      "source": [
        "fpr = fp / n\n",
        "print(\"FPR : \", fpr) "
      ],
      "metadata": {
        "colab": {
          "base_uri": "https://localhost:8080/"
        },
        "id": "1QmZIetuIWnX",
        "outputId": "4dc9d9a2-6592-47a8-fd77-488f26ecad13"
      },
      "execution_count": 26,
      "outputs": [
        {
          "output_type": "stream",
          "name": "stdout",
          "text": [
            "FPR :  0.000561955605507165\n"
          ]
        }
      ]
    },
    {
      "cell_type": "code",
      "source": [
        "f1 = f1_score(y_pred, y_test)\n",
        "print(\"f1 : \", f1)"
      ],
      "metadata": {
        "colab": {
          "base_uri": "https://localhost:8080/"
        },
        "id": "2bXtxwPSIYLa",
        "outputId": "934d3e9f-d014-4476-d986-e2cf9df54e71"
      },
      "execution_count": 27,
      "outputs": [
        {
          "output_type": "stream",
          "name": "stdout",
          "text": [
            "f1 :  0.845360824742268\n"
          ]
        }
      ]
    },
    {
      "cell_type": "code",
      "source": [
        "# ROC Curve\n",
        "from sklearn.metrics import roc_curve\n",
        "fpr, tpr, thresholds = roc_curve(y_test, model.decision_function(X_test))\n",
        "\n",
        "import matplotlib.pyplot as plt\n",
        "\n",
        "plt.plot(fpr, tpr, 'o-', label=\"Logistic Regression\") \n",
        "plt.plot([0, 1], [0, 1], 'k--')\n",
        "plt.plot([1-specificity], [recall], 'ro', ms=10) # 현재 cutoff value 값 \n",
        "plt.xlabel('1-Specificity')\n",
        "plt.ylabel('Sensitivity')\n",
        "plt.show()"
      ],
      "metadata": {
        "colab": {
          "base_uri": "https://localhost:8080/",
          "height": 279
        },
        "id": "jakwIr0WIZq_",
        "outputId": "07fdf28b-b7a0-4d8e-f208-6c42b717f215"
      },
      "execution_count": 28,
      "outputs": [
        {
          "output_type": "display_data",
          "data": {
            "text/plain": [
              "<Figure size 432x288 with 1 Axes>"
            ],
            "image/png": "[encoded data removed]"
          },
          "metadata": {
            "needs_background": "light"
          }
        }
      ]
    },
    {
      "cell_type": "code",
      "source": [
        "from sklearn.metrics import auc\n",
        "print(\"auc : \", auc(fpr, tpr))"
      ],
      "metadata": {
        "colab": {
          "base_uri": "https://localhost:8080/"
        },
        "id": "5fUIQtlrIyuW",
        "outputId": "a994ac75-dd21-41ea-833d-d0d9accf8ed2"
      },
      "execution_count": 29,
      "outputs": [
        {
          "output_type": "stream",
          "name": "stdout",
          "text": [
            "auc :  0.9987950374997298\n"
          ]
        }
      ]
    },
    {
      "cell_type": "markdown",
      "source": [
        "# 성능 개선\n",
        "- cut-off value란?\n",
        "  - fpr = fall-out = 1-specificity\n",
        "  - tpr = sensitivity\n",
        "- target value는 사기 여부로, 사기에 해당하는 데이터의 개수가 매우 적다. 이런 binary분류의 성향을 갖는 경우 domain의 bias에 매우 예민하다. \n",
        "- 로지스틱 회귀로 구한 성능이 좋음에도 cut-off vlaue는 최적이 아니다.\n",
        "- cut-off값을 낮춰 새로 모델을 예측해야 한다. "
      ],
      "metadata": {
        "id": "-oMjAcjoJXJW"
      }
    },
    {
      "cell_type": "markdown",
      "source": [
        "# 최적 cut-off\n",
        "- 최적의 cut-off value는 접선의 기울기가 1인 지점이다. 기울기가 1인 y = x + k 인 접선을 바탕으로 곡선과 접하는 지점을 찾자\n",
        "- (sensitivity)-(1-specificity) = k 일 때, 가장 큰 k 값을 찾으면 된다. 그 k값을 바탕으로 새로운 cutoff value를 찾고 이를 기준으로 다시 y값들을 분류한다. \n"
      ],
      "metadata": {
        "id": "fHrY7_eIK8a_"
      }
    },
    {
      "cell_type": "code",
      "source": [
        "optimal_idx = np.argmax(tpr - fpr)\n",
        "optimal_threshold = thresholds[optimal_idx]"
      ],
      "metadata": {
        "id": "igXzou9pI1wA"
      },
      "execution_count": 30,
      "outputs": []
    },
    {
      "cell_type": "code",
      "source": [
        "predict_new = model.decision_function(X_test) > optimal_threshold"
      ],
      "metadata": {
        "id": "AlsfeOFdLM70"
      },
      "execution_count": 32,
      "outputs": []
    },
    {
      "cell_type": "code",
      "source": [
        "# 새로 구한 confusion matrix \n",
        "confusion_matrix(y_test, predict_new)"
      ],
      "metadata": {
        "colab": {
          "base_uri": "https://localhost:8080/"
        },
        "id": "vBIFQTJ1LONX",
        "outputId": "a51e8ad8-884b-45a3-ca57-33e8ac47d1fa"
      },
      "execution_count": 33,
      "outputs": [
        {
          "output_type": "execute_result",
          "data": {
            "text/plain": [
              "array([[6899,  219],\n",
              "       [   1,   51]])"
            ]
          },
          "metadata": {},
          "execution_count": 33
        }
      ]
    },
    {
      "cell_type": "code",
      "source": [
        "# 새로 구한 지표 \n",
        "accuracy = (tp+tn)/(tp+fn+fp+tn)\n",
        "precision = (tp)/(tp+fp)\n",
        "recall = (tp)/(tp+fn)\n",
        "specificity = (tn)/(fp+tn)\n",
        "f1_score = 2*(precision*recall)/(precision+recall)\n",
        "print(\"accuracy: \", accuracy)\n",
        "print(\"precision: \", precision)\n",
        "print(\"recall: \", recall)\n",
        "print(\"specificity: \", specificity)\n",
        "print(\"f1_score: \", f1_score)"
      ],
      "metadata": {
        "colab": {
          "base_uri": "https://localhost:8080/"
        },
        "id": "O-JN9MF0LbUX",
        "outputId": "c677e375-e2fa-4dbd-ab30-f5f15148727c"
      },
      "execution_count": 34,
      "outputs": [
        {
          "output_type": "stream",
          "name": "stdout",
          "text": [
            "accuracy:  0.997907949790795\n",
            "precision:  0.9111111111111111\n",
            "recall:  0.7884615384615384\n",
            "specificity:  0.9994380443944928\n",
            "f1_score:  0.845360824742268\n"
          ]
        }
      ]
    },
    {
      "cell_type": "code",
      "source": [
        "# 새로 구한 ROC curve\n",
        "plt.plot(fpr, tpr, 'o-', label=\"Logistic Regression\") \n",
        "plt.plot([0, 1], [0, 1], 'k--')\n",
        "plt.plot([1-(tn / (fp+tn))], [tp / (fn+tp)], 'ro', ms=10) # 현재 cutoff value 값 \n",
        "plt.xlabel('1-Specificity')\n",
        "plt.ylabel('Sensitivity')\n",
        "plt.show()"
      ],
      "metadata": {
        "colab": {
          "base_uri": "https://localhost:8080/",
          "height": 279
        },
        "id": "YgX9_uCyLivN",
        "outputId": "f0e2e137-df10-4723-9220-80e4bec7edaf"
      },
      "execution_count": 35,
      "outputs": [
        {
          "output_type": "display_data",
          "data": {
            "text/plain": [
              "<Figure size 432x288 with 1 Axes>"
            ],
            "image/png": "[encoded data removed]"
          },
          "metadata": {
            "needs_background": "light"
          }
        }
      ]
    },
    {
      "cell_type": "code",
      "source": [],
      "metadata": {
        "id": "iP4uvy9YLqjL"
      },
      "execution_count": null,
      "outputs": []
    }
  ],
  "metadata": {
    "colab": {
      "provenance": [],
      "include_colab_link": true
    },
    "kernelspec": {
      "display_name": "Python 3",
      "language": "python",
      "name": "python3"
    },
    "language_info": {
      "codemirror_mode": {
        "name": "ipython",
        "version": 3
      },
      "file_extension": ".py",
      "mimetype": "text/x-python",
      "name": "python",
      "nbconvert_exporter": "python",
      "pygments_lexer": "ipython3",
      "version": "3.8.5"
    }
  },
  "nbformat": 4,
  "nbformat_minor": 0
}