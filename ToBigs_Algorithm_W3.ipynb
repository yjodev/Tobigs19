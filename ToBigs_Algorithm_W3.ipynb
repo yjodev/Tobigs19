{
  "nbformat": 4,
  "nbformat_minor": 0,
  "metadata": {
    "colab": {
      "provenance": [],
      "toc_visible": true,
      "authorship_tag": "ABX9TyOQWhMTEKlghnva+v0QTb8i",
      "include_colab_link": true
    },
    "kernelspec": {
      "name": "python3",
      "display_name": "Python 3"
    },
    "language_info": {
      "name": "python"
    }
  },
  "cells": [
    {
      "cell_type": "markdown",
      "metadata": {
        "id": "view-in-github",
        "colab_type": "text"
      },
      "source": [
        "<a href=\"https://colab.research.google.com/github/yjodev/Tobigs19/blob/main/ToBigs_Algorithm_W3.ipynb\" target=\"_parent\"><img src=\"https://colab.research.google.com/assets/colab-badge.svg\" alt=\"Open In Colab\"/></a>"
      ]
    },
    {
      "cell_type": "markdown",
      "source": [
        "## 문제 1. 숫자 카드\n",
        "각 카드에는 양의 정수가 쓰여 있다. N장의 카드가 주어졌을 때, M을 넘지 않으면서 M에 최대한\n",
        "가까운 카드 3장의 합을 구해 출력하시오.\n",
        "\n",
        "[입력 조건]\n",
        "- 첫째 줄에 카드의 개수 N과 M이 주어진다. (단, 3 ≤ N ≤ 100 이며, 10 ≤ M ≤ 300,000 이다.)\n",
        "- 둘째 줄에는 카드에 쓰여 있는 수가 주어진다.\n",
        "- 합이 M을 넘지 않는 카드 3장을 찾을 수 있는 경우만 입력으로 주어진다.\n",
        "\n",
        "[출력 조건]\n",
        "- 첫째 줄에 M을 넘지 않으면서 M에 최대한 가까운 카드 3장의 합을 출력한다.\n",
        "\n",
        "[입력 예시] \n",
        "\n",
        "10 500 \n",
        "\n",
        "93 181 245 214 315 36 185 138 216 295\n",
        "\n",
        "[출력 예시]\n",
        "\n",
        "497"
      ],
      "metadata": {
        "id": "QWsPId3YWIKc"
      }
    },
    {
      "cell_type": "code",
      "execution_count": 28,
      "metadata": {
        "colab": {
          "base_uri": "https://localhost:8080/"
        },
        "id": "gWqOQ_ktV5Lw",
        "outputId": "adff08eb-106d-406d-b2fb-cc7987c41c89"
      },
      "outputs": [
        {
          "output_type": "stream",
          "name": "stdout",
          "text": [
            "10 500\n",
            "93 181 245 214 315 36 185 138 216 195\n",
            "497\n"
          ]
        }
      ],
      "source": [
        "N, M = map(int,input().split())   # 입력받은 값을 공백을 기준으로 분리\n",
        "Numlist = list(map(int,input().split())) # N개의 숫자 입력받기\n",
        "result = 0\n",
        "\n",
        "\n",
        "for i in range(N):\n",
        "  for j in range(i+1,N):\n",
        "    for k in range(j+1,N): # 3중 반복문\n",
        "      if Numlist[i]+Numlist[j]+Numlist[k] <= M :\n",
        "          result = max(result, Numlist[i]+Numlist[j]+Numlist[k])\n",
        "      else:\n",
        "          continue\n",
        "\n",
        "print(result)\n"
      ]
    },
    {
      "cell_type": "markdown",
      "source": [
        "##문제 2. 방탈출 게임\n",
        "기정이는 방탈출 게임을 하고 있다. 기정이가 서랍에서 한자리 숫자가 적힌 종이 조각들을 발견했다.\n",
        "흩어진 종이 조각을 붙여 소수를 몇 개 만들 수 있는지 알아내면 탈출을 위한 열쇠를 획득할 수 있다.\n",
        "각 종이 조각에 적힌 숫자들로 이루어진 문자열이 주어졌을 때, 종이 조각으로 만들 수 있는 소수가 몇 개인지\n",
        "출력하시오.\n",
        "\n",
        "[입력 조건]\n",
        "- 첫째 줄에 각 종이 조각에 적힌 숫자들로 이루어진 문자열이 주어진다.\n",
        "(단, 문자열의 길이는 1 이상 7 이하이고, 종이 조각에 적힌 각 숫자는 0~9로 이루어져 있다.)\n",
        "- \"025\"은 0, 2, 5 숫자가 적힌 종이 조각이 흩어져있다는 의미이다.\n",
        "\n",
        "[출력 조건]\n",
        "- 첫째 줄에 종이 조각으로 만들 수 있는 소수의 개수를 출력한다.\n",
        "\n",
        "[입력 예시1]\n",
        "\n",
        "“011” \n",
        "\n",
        "[출력 예시1]\n",
        "\n",
        "2\n",
        "\n",
        "[입력 예시2] \n",
        "\n",
        "“17” \n",
        "\n",
        "[출력 예시2]\n",
        "\n",
        "3"
      ],
      "metadata": {
        "id": "edJfVbQgWPPk"
      }
    },
    {
      "cell_type": "code",
      "source": [
        "from itertools import permutations\n",
        "\n",
        "nums = input() # 숫자조각 입력받기\n",
        "result = 0     # 결과(만들 수 있는 소수의 개수) 초기화\n",
        "results = []   # 결과(만들 수 있는 소수의 리스트) 초기화\n",
        "s =[]        # permutation 하여 만든 부분집합을 리스트로 변환한 것 초기화\n",
        "\n",
        "# 소수 판별 함수(2이상의 자연수에 대하여)\n",
        "def is_prime_number(x):\n",
        "    if x < 2:\n",
        "      return False\n",
        "    # 2부터 (x - 1)까지의 모든 수를 확인하며\n",
        "    for i in range(2, x):\n",
        "        # x가 해당 수로 나누어떨어진다면\n",
        "        if x % i == 0:\n",
        "            return False # 소수가 아님\n",
        "    return True # 소수임\n",
        "\n",
        "\n",
        "for i in range(1,len(nums)+1): \n",
        "  s = list(map(''.join,permutations(nums,i))) \n",
        "  # s: 숫자조각으로 만들 수 있는 가능한 모든 숫자의 부분집합, 리스트로 변환하여 순서 의미있음\n",
        "\n",
        "  \"\"\"\n",
        "  print(permutations(nums,i)) # permutation object, 출력안됨\n",
        "  print(list(permutations(nums,i))) \n",
        "  # [('0',), ('1',), ('1',)],[('0', '1'), ('0', '1'), ('1', '0'), ('1', '1'), ('1', '0'), ('1', '1')],[('0', '1', '1'), ('0', '1', '1'), ('1', '0', '1'), ('1', '1', '0'), ('1', '0', '1'), ('1', '1', '0')]\n",
        "\n",
        "  print(map(''.join,permutations(nums,i))) # map object, 출력안됨\n",
        "  print(list(map(''.join,permutations(nums,i)))) \n",
        "  # ['0', '1', '1'],['01', '01', '10', '11', '10', '11'],['011', '011', '101', '110', '101', '110']\n",
        "  \"\"\"\n",
        "  \n",
        "  for p in list(set(s)): \n",
        "  # 원래 s에는 중복된 숫자가 있는데, 집합으로 변환 후 리스트로 변환하여 중복 숫자를 제거함\n",
        "\n",
        "    \"\"\"\n",
        "    print(s) # 리스트\n",
        "    print(set(s)) # 집합(중복제거)\n",
        "    print(list(set(s))) # 리스트(중복제거)\n",
        "    \"\"\"\n",
        "\n",
        "    if is_prime_number(int(p)):\n",
        "      results.append(int(p))\n",
        "\n",
        "result = len(set(results))\n",
        "print(result)"
      ],
      "metadata": {
        "colab": {
          "base_uri": "https://localhost:8080/"
        },
        "id": "tVYjlBcXheQ0",
        "outputId": "a5e666cb-d642-4245-fbe6-f586a37405f6"
      },
      "execution_count": 17,
      "outputs": [
        {
          "output_type": "stream",
          "name": "stdout",
          "text": [
            "011\n",
            "2\n"
          ]
        }
      ]
    },
    {
      "cell_type": "markdown",
      "source": [
        "##문제 3. 티셔츠 갈아입기 게임\n",
        "투빅스에서 전 기수 엠티를 가서 대강당에서 게임을 한다. 총 M*N명의 투빅이들은 빨간 티셔츠 아니면 파\n",
        "란 티셔츠를 입고 있다. M × N 행렬의 형태로 M*N개의 의자가 놓여져 있는 강당에서 투빅이들은 무작위\n",
        "로 앉아 있다.\n",
        "\n",
        "[게임 룰]\n",
        "1. 64명의 투빅이들은 8 × 8 정사각형 형태로, 서로 다른 색깔의 티셔츠를 입고 번갈아 앉아있어야 한다.\n",
        "(이때, 8 × 8 정사각형의 위치에는 제약이 없다. M × N 행렬 내에만 들어가있으면 된다.)\n",
        "2. 8 × 8 정사각형 형태의 각 64개의 의자에 앉아 있는 투빅이들은 빨간 티셔츠나 파란 티셔츠 중 하나를\n",
        "입고 있어야 하고, 이웃하는 투빅이끼리는 서로 다른 색깔의 옷을 입고 있어야 한다.\n",
        "위 게임의 룰을 참고하여, 64명의 투빅이들이 알맞게 티셔츠를 입고 8 x 8 정사각형 형태로 앉아 있기 위\n",
        "해 티셔츠를 갈아입어야 하는 최소 횟수(명수)를 출력하시오.\n",
        "\n",
        "[입력 조건]\n",
        "- 첫째 줄에 M과 N이 주어진다. M과 N은 8보다 크거나 같고, 50보다 작거나 같은 자연수이다.\n",
        "- 둘째 줄부터 M × N 형태로 의자에 앉은 투빅이들의 옷 색깔 상태가 주어진다. R은 빨간색이며, B는\n",
        "파란색이다.\n",
        "\n",
        "[출력 조건]\n",
        "- 첫째 줄에, 64명의 투빅이들이 알맞게 티셔츠를 입고 8 x 8 정사각형 형태로 앉아 있기 위해 티셔츠를\n",
        "갈아입어야 하는 최소 횟수(명수)를 출력하시오.\n",
        "\n",
        "[입력 예시] \n",
        "\n",
        "10 13 \n",
        "\n",
        "RRRRRRRRBRBRB\n",
        "RRRRRRRRRBRBR\n",
        "RRRRRRRRBRBRB\n",
        "RRRRRRRRRBRBR\n",
        "RRRRRRRRBRBRB\n",
        "RRRRRRRRRBRBR\n",
        "RRRRRRRRBRBRB\n",
        "RRRRRRRRRBRBR\n",
        "BBBBBBBBBBRBR\n",
        "BBBBBBBBBBRBR\n",
        "\n",
        "[출력 예시]\n",
        "\n",
        "12"
      ],
      "metadata": {
        "id": "S9b8wgNbWScT"
      }
    },
    {
      "cell_type": "code",
      "source": [
        "N, M = map(int,input().split())\n",
        "seats = [] # 초기 좌석을 입력받기 위한 리스트 초기화\n",
        "repair = [] # 바뀐 좌석의 개수를 저장하기위한 리스트 초기화\n",
        "\n",
        "for _ in range(N):\n",
        "    seats.append(input())\n",
        "\n",
        "# print(seats) # 좌석 입력값 출력\n",
        "# print(seats[1][2]) # 좌석을 행렬처럼 바라볼 수 있다\n",
        "\n",
        "for i in range(N-7):\n",
        "    for j in range(M-7):\n",
        "    # i,j는 시작점을 잡기 위한 반복문. 최소 오른쪽으로 8칸, 아래로 8칸이 있어야 하므로 범위를 N-7, M-7로 설정\n",
        "        r_first = 0 # 첫 좌석이 빨간색 일 때 변경할 좌석 수 초기화\n",
        "        b_first = 0 # 첫 좌석이 파란색 일 때 변경할 좌석 수 초기화\n",
        "        # 8*8 좌석에 투빅이들이 색이 겹치지 않고 앉는 방법은 두가지 뿐이다. \n",
        "        # 첫번째 줄 가장 왼쪽 좌석에 빨간 티셔츠를 입는 방법, 그리고 첫번째 줄 가장 왼쪽 좌석에 파란 티셔츠를 입는 방법\n",
        "\n",
        "\n",
        "    # 시작점을 잡은 다음, 시작점으로부터 오른쪽으로 8칸, 아래로 8칸의 원소(A_kl)를 확인한다.\n",
        "        for k in range(i, i+8): \n",
        "            for l in range(j, j+8): # 8*8 칸 내의 원소 A_kl값마다 반복한다\n",
        "                if (k+l) % 2 == 0:  # 현재 k행 l열에 있을 때, k+l이 짝수이면 시작점의 색과 같아야 한다.\n",
        "                    if seats[k][l] != 'R':\n",
        "                        r_first += 1\n",
        "                    if seats[k][l] != 'B':\n",
        "                        b_first += 1\n",
        "                else: # k+l이 홀수라면, 시작점의 색과 다른색이어야 한다.\n",
        "                    if seats[k][l] != 'B':\n",
        "                        r_first += 1\n",
        "                    if seats[k][l] != 'R':\n",
        "                        b_first += 1\n",
        "\n",
        "        repair.append(r_first)\n",
        "        repair.append(b_first)\n",
        "\n",
        "# print(repair)\n",
        "print(min(repair)) \n",
        "# 시작점에 따라 r_first인 경우 repair할 횟수들과 b_first인 경우 repair할 횟수가 다름\n",
        "# 모든 경우의 reapair 횟수 중에서 가장 작은 값 출력\n"
      ],
      "metadata": {
        "colab": {
          "base_uri": "https://localhost:8080/"
        },
        "id": "Zmw55iwCqdmc",
        "outputId": "e156b120-ed31-4f59-a4ce-9ef000a70b2b"
      },
      "execution_count": 2,
      "outputs": [
        {
          "output_type": "stream",
          "name": "stdout",
          "text": [
            "10 13\n",
            "RRRRRRRRBRBRB\n",
            "RRRRRRRRRBRBR\n",
            "RRRRRRRRBRBRB\n",
            "RRRRRRRRRBRBR\n",
            "RRRRRRRRBRBRB\n",
            "RRRRRRRRRBRBR\n",
            "RRRRRRRRBRBRB\n",
            "RRRRRRRRRBRBR\n",
            "BBBBBBBBBBRBR\n",
            "BBBBBBBBBBRBR\n",
            "['RRRRRRRRBRBRB', 'RRRRRRRRRBRBR', 'RRRRRRRRBRBRB', 'RRRRRRRRRBRBR', 'RRRRRRRRBRBRB', 'RRRRRRRRRBRBR', 'RRRRRRRRBRBRB', 'RRRRRRRRRBRBR', 'BBBBBBBBBBRBR', 'BBBBBBBBBBRBR']\n",
            "R\n",
            "[32, 32, 36, 28, 40, 24, 44, 20, 48, 16, 52, 12, 32, 32, 35, 29, 39, 25, 41, 23, 45, 19, 47, 17, 32, 32, 35, 29, 38, 26, 41, 23, 44, 20, 47, 17]\n",
            "12\n"
          ]
        }
      ]
    },
    {
      "cell_type": "markdown",
      "source": [
        "## 문제 4. 일곱 투빅이들\n",
        "투빅스의 면접을 뚫고 총 7명의 투빅이들이 뽑혔다.\n",
        "그런데 정모를 했을 때 9명의 투빅이들이 모였다.\n",
        "9명의 투빅이들은 모두 자신이 투빅스의 일원이라고 주장했다.\n",
        "다행스럽게도 일곱 투빅이들의 키의 합이 1000이 됨을 기억해 냈다.\n",
        "아홉 투빅이들의 키가 주어졌을 때,\n",
        "진짜 일곱 투빅이들을 찾는 프로그램을 작성하시오.\n",
        "\n",
        "[입력 조건]\n",
        "\n",
        "아홉 개의 줄에 걸쳐 투빅이들의 키가 주어진다.\n",
        "주어지는 키는 1000을 넘지 않는 자연수이며,\n",
        "아홉 투빅이의 키는 모두 다르며,\n",
        "가능한 정답이 여러 가지인 경우는 없다.\n",
        "\n",
        "[출력 조건]\n",
        "\n",
        "일곱 투빅이의 키를 오름차순으로 출력한다.\n",
        "일곱 투빅이를 찾을 수 없는 경우는 없다.\n",
        "\n",
        "\n",
        "[입력 예시]\n",
        "\n",
        "200\n",
        "\n",
        "70\n",
        "\n",
        "230\n",
        "\n",
        "190\n",
        "\n",
        "100\n",
        "\n",
        "150\n",
        "\n",
        "250\n",
        "\n",
        "80\n",
        "\n",
        "130\n",
        "\n",
        "[출력 예시]\n",
        "\n",
        "70\n",
        "\n",
        "80\n",
        "\n",
        "100\n",
        "\n",
        "130\n",
        "\n",
        "190\n",
        "\n",
        "200\n",
        "\n",
        "230\n"
      ],
      "metadata": {
        "id": "IInS8gkPWXwb"
      }
    },
    {
      "cell_type": "code",
      "source": [
        "cm = []\n",
        "for i in range(9):\n",
        "    cm.append(int(input()))\n",
        "\n",
        "cm.sort()\n",
        "sum_cm = sum(cm)\n",
        "\n",
        "fake1 = 0\n",
        "fake2 = 0\n",
        "\n",
        "# 만약 모두다 더하고 2명을 뺐을 때 그 값이 100이라면 2개를 뺀 나머지 값들 출력\n",
        "for i in range(9):\n",
        "    for j in range(i + 1, 9):\n",
        "    # 두 명을 뺄 수 있는 경우 모두 확인\n",
        "        if sum_cm - cm[i] - cm[j] == 1000:\n",
        "            fake1 = cm[i]\n",
        "            fake2 = cm[j]\n",
        "            # print(fake1,fake2)\n",
        "            break\n",
        "\n",
        "cm.remove(fake1)\n",
        "cm.remove(fake2)\n",
        "\n",
        "for i in cm:\n",
        "    print(i)\n"
      ],
      "metadata": {
        "colab": {
          "base_uri": "https://localhost:8080/"
        },
        "id": "k41mBRVY_Tvs",
        "outputId": "543f3322-22a2-4a9c-b6c0-ee333451c07f"
      },
      "execution_count": 12,
      "outputs": [
        {
          "output_type": "stream",
          "name": "stdout",
          "text": [
            "200\n",
            "70\n",
            "230\n",
            "190\n",
            "100\n",
            "150\n",
            "250\n",
            "80\n",
            "130\n",
            "70\n",
            "80\n",
            "100\n",
            "130\n",
            "190\n",
            "200\n",
            "230\n"
          ]
        }
      ]
    },
    {
      "cell_type": "markdown",
      "source": [
        "## 문제 5. 단어 분할\n",
        "알파벳 소문자로 이루어진 단어를 가지고 아래와 같은 과정을 해 보려고 한다.\n",
        "\n",
        "먼저 단어에서 임의의 두 부분을 골라서 단어를 쪼갠다. 즉, 주어진 단어를 세 개의 더 작은 단어로 나누는 것이다. 각각은 적어도 길이가 1 이상인 단어여야 한다. 이제 이렇게 분할한 세 개의 작은 단어들을 앞뒤를 뒤집고, 이를 다시 원래의 순서대로 합친다.\n",
        "\n",
        "예를 들어,\n",
        "- 단어: tobigs\n",
        "- 세 단어로 분할: to/bi/gs\n",
        "- 각각 뒤집기: ot/ib/sg\n",
        "- 합치기: otibsg\n",
        "\n",
        "단어가 주어지면, 이렇게 만들 수 있는 단어 중에서 사전순으로 가장 앞서는 단어를 출력하는 프로그램을 작성하시오.\n",
        "\n",
        "[입력 조건]\n",
        "\n",
        "첫째 줄에 영어 소문자로 된 단어가 주어진다.\n",
        "길이는 3이상 50이하이다.\n",
        "\n",
        "[출력 조건]\n",
        "\n",
        "첫째 줄에 구하고자 하는 단어를 출력하면 된다.\n",
        "\n",
        "[입력 예시]\n",
        "\n",
        "tobigs -> tob/ig/s\n",
        "\n",
        "[출력 예시]\n",
        "\n",
        "botgis"
      ],
      "metadata": {
        "id": "fNcdWlAbBhrF"
      }
    },
    {
      "cell_type": "code",
      "source": [
        "word = list(input()) # 입력받은 단어를 문자 배열로 저장한다.\n",
        "answer = [] # 정답 (문자)배열 초기화\n",
        "tmp = [] # 임시 (문자)배열 초기화\n",
        "\n",
        "for i in range(1, len(word) - 1):\n",
        "    for j in range(i + 1, len(word) ):\n",
        "    # 이중 for문을 활용하여 단어를 세 부분으로 나눈다. i와 j는 슬라이싱을 할 경계선이다.\n",
        "    # 모든 가능한 경계선에 대하여\n",
        "        a = word[:i] # i 전부분 단어\n",
        "        b = word[i:j] # i부터 j까지 단어\n",
        "        c = word[j:] # j 뒷부분 단어\n",
        "        a.reverse() # a, b, c를 뒤집어준다.\n",
        "        b.reverse()\n",
        "        c.reverse()\n",
        "        tmp.append(a + b + c) # tmp 리스트에 뒤집은 세 단어를 저장한다.\n",
        "\n",
        "for a in tmp:\n",
        "    answer.append(''.join(a)) # tmp리스트에 따로 저장된 세 단어를 join을 이용해 하나로 만들고 sort한다.\n",
        "\n",
        "print(sorted(answer)[0]) # 가장 앞에 있는 단어를 출력"
      ],
      "metadata": {
        "colab": {
          "base_uri": "https://localhost:8080/"
        },
        "id": "Q4mEy5ffA14t",
        "outputId": "50ab5a0e-6844-4980-e3ff-be11bd6d04b8"
      },
      "execution_count": 13,
      "outputs": [
        {
          "output_type": "stream",
          "name": "stdout",
          "text": [
            "tobigs\n",
            "botgis\n"
          ]
        }
      ]
    },
    {
      "cell_type": "code",
      "source": [],
      "metadata": {
        "id": "kROZnNcwDzJ-"
      },
      "execution_count": null,
      "outputs": []
    }
  ]
}