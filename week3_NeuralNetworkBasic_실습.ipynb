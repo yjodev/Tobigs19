{
  "cells": [
    {
      "cell_type": "markdown",
      "metadata": {
        "id": "view-in-github",
        "colab_type": "text"
      },
      "source": [
        "<a href=\"https://colab.research.google.com/github/yjodev/Tobigs19/blob/main/week3_NeuralNetworkBasic_%EC%8B%A4%EC%8A%B5.ipynb\" target=\"_parent\"><img src=\"https://colab.research.google.com/assets/colab-badge.svg\" alt=\"Open In Colab\"/></a>"
      ]
    },
    {
      "cell_type": "markdown",
      "metadata": {
        "id": "00493e77"
      },
      "source": [
        "> # Neural Network Basic - Week3 과제\n"
      ],
      "id": "00493e77"
    },
    {
      "cell_type": "markdown",
      "metadata": {
        "id": "747656a3"
      },
      "source": [
        "## Import Library"
      ],
      "id": "747656a3"
    },
    {
      "cell_type": "code",
      "execution_count": null,
      "metadata": {
        "colab": {
          "base_uri": "https://localhost:8080/"
        },
        "id": "GI6tb7rSUtBl",
        "outputId": "a012d72e-41a5-4f44-ba0a-55d3a58f9fce"
      },
      "outputs": [
        {
          "name": "stdout",
          "output_type": "stream",
          "text": [
            "Mounted at /content/gdrive\n"
          ]
        }
      ],
      "source": [
        "from google.colab import drive\n",
        "drive.mount('/content/gdrive')"
      ],
      "id": "GI6tb7rSUtBl"
    },
    {
      "cell_type": "code",
      "execution_count": null,
      "metadata": {
        "id": "aEsd1QnMUySf"
      },
      "outputs": [],
      "source": [
        "data_path = '/content/gdrive/My Drive/투빅스/과제/W3_NNBasic_과제/'"
      ],
      "id": "aEsd1QnMUySf"
    },
    {
      "cell_type": "code",
      "execution_count": null,
      "metadata": {
        "id": "-SgDGSNCT0Hg"
      },
      "outputs": [],
      "source": [
        "import sys, os\n",
        "sys.path.append(data_path)"
      ],
      "id": "-SgDGSNCT0Hg"
    },
    {
      "cell_type": "code",
      "execution_count": null,
      "metadata": {
        "id": "2d4be987"
      },
      "outputs": [],
      "source": [
        "import numpy as np\n",
        "from matplotlib import pyplot as plt\n",
        "from dataset.mnist import load_mnist"
      ],
      "id": "2d4be987"
    },
    {
      "cell_type": "markdown",
      "metadata": {
        "id": "bbd9ddbb"
      },
      "source": [
        "## Load Dataset\n",
        "- MNIST "
      ],
      "id": "bbd9ddbb"
    },
    {
      "cell_type": "code",
      "execution_count": null,
      "metadata": {
        "id": "2813d656"
      },
      "outputs": [],
      "source": [
        "(X_train, Y_train), (X_test, Y_test) = \\\n",
        "    load_mnist(normalize=True, one_hot_label=False)"
      ],
      "id": "2813d656"
    },
    {
      "cell_type": "code",
      "execution_count": null,
      "metadata": {
        "colab": {
          "base_uri": "https://localhost:8080/"
        },
        "id": "2bd1d69a",
        "outputId": "5043d97b-8455-4576-e553-722ec508ca1f"
      },
      "outputs": [
        {
          "name": "stdout",
          "output_type": "stream",
          "text": [
            "X_train shape: (60000, 784)\n",
            "X_test shape: (10000, 784)\n",
            "Y_train shape: (60000,)\n",
            "Y_train shape: (10000,)\n"
          ]
        }
      ],
      "source": [
        "print(f'X_train shape: {X_train.shape}')\n",
        "print(f'X_test shape: {X_test.shape}')\n",
        "print(f'Y_train shape: {Y_train.shape}')\n",
        "print(f'Y_train shape: {Y_test.shape}')"
      ],
      "id": "2bd1d69a"
    },
    {
      "cell_type": "markdown",
      "metadata": {
        "id": "4581cc2e"
      },
      "source": [
        "## Activation Function \n",
        "- sigmoid & relu : hidden layer activation function \n",
        "- softmax : output layer activation function "
      ],
      "id": "4581cc2e"
    },
    {
      "cell_type": "code",
      "execution_count": null,
      "metadata": {
        "id": "a147a2b7"
      },
      "outputs": [],
      "source": [
        "class sigmoid:\n",
        "    # sigmoid 함수를 작성하세요 \n",
        "    def forward(x):\n",
        "        return 1 / (1+np.exp(-x))\n",
        "    \n",
        "    # sigmoid 함수의 미분을 작성하세요\n",
        "    def backward(x): # x는 역전파 계산시 입력된 값 \n",
        "        return x * (1 - x) # 시그모이드 function를 미분"
      ],
      "id": "a147a2b7"
    },
    {
      "cell_type": "code",
      "execution_count": null,
      "metadata": {
        "id": "f37afa8d"
      },
      "outputs": [],
      "source": [
        "class relu:\n",
        "    # relu 함수를 작성하세요\n",
        "    def forward(x):\n",
        "        return np.maximum(0, x) # 0 이하의 값은 0, 0 이상의 값은 그 값을 리턴\n",
        "    \n",
        "    # relu 함수의 미분을 작성하세요\n",
        "    def backward(x):\n",
        "        return np.where(x > 0, 1, 0) # 0 이하의 값은 0, 0 이상의 값은 1의 gradient"
      ],
      "id": "f37afa8d"
    },
    {
      "cell_type": "code",
      "execution_count": null,
      "metadata": {
        "id": "cb44b346"
      },
      "outputs": [],
      "source": [
        "class softmax:\n",
        "    def forward(z):\n",
        "        y = []\n",
        "        for zi in z:\n",
        "            c = np.max(zi)\n",
        "            exp_zi = np.exp(zi-c)\n",
        "            sum_exp_zi = np.sum(exp_zi)\n",
        "            yi = exp_zi / sum_exp_zi\n",
        "            y.append(yi)\n",
        "\n",
        "        return np.array(y)\n",
        "    \n",
        "    def backward(p, y) :\n",
        "        dp = p.copy()\n",
        "        for dpi, yi in zip(dp, y):\n",
        "            for k in range(dp.shape[1]):\n",
        "                if k == yi :\n",
        "                    dpi[k] -= 1\n",
        "        return dp"
      ],
      "id": "cb44b346"
    },
    {
      "cell_type": "markdown",
      "metadata": {
        "id": "36955740"
      },
      "source": [
        "## Loss Function"
      ],
      "id": "36955740"
    },
    {
      "cell_type": "code",
      "execution_count": null,
      "metadata": {
        "id": "44e0ad37"
      },
      "outputs": [],
      "source": [
        "def cross_entropy(p, y): # MSE가 아닌 또다른 Loss function\n",
        "    loss = []\n",
        "    for pi, yi in zip(p, y):\n",
        "        for k in range(p.shape[1]):\n",
        "            if k == yi:\n",
        "                loss.append((-1) * (np.log(pi[k] + 1e-8))) \n",
        "    return loss"
      ],
      "id": "44e0ad37"
    },
    {
      "cell_type": "markdown",
      "metadata": {
        "id": "0f9a7228"
      },
      "source": [
        "## Layer"
      ],
      "id": "0f9a7228"
    },
    {
      "cell_type": "code",
      "execution_count": null,
      "metadata": {
        "id": "668bda1a"
      },
      "outputs": [],
      "source": [
        "class Layer:\n",
        "    def __init__(self, input_size, output_size, std=1e-4) :\n",
        "        self.input_size = input_size\n",
        "        self.output_size = output_size\n",
        "        self.bias = np.random.randn(output_size)\n",
        "        self.weight = np.random.randn(input_size, output_size)*std"
      ],
      "id": "668bda1a"
    },
    {
      "cell_type": "markdown",
      "metadata": {
        "id": "a72dfcee"
      },
      "source": [
        "## Neural Network\n",
        "- 각 메소드와 변수들의 역할을 주석으로 달아주세요! "
      ],
      "id": "a72dfcee"
    },
    {
      "cell_type": "code",
      "execution_count": null,
      "metadata": {
        "id": "33125095"
      },
      "outputs": [],
      "source": [
        "class CustomNet:\n",
        "    # CustomNet을 선언할 때 생성되는 값들입니다.\n",
        "    def __init__(self, lr=0.0001, epoch=500, batch_size=200):\n",
        "        self.lr = lr # Gradient descent 학습률\n",
        "        self.epoch = epoch # 데이터셋 전체를 반복하여 학습할 횟수\n",
        "        self.batch_size = batch_size \n",
        "        # 데이터를 하나씩 학습하는 것이 아니라, 배치별로 행을 이루는 행렬을 만들어 학습하기 위함\n",
        "        # 배치 사이즈 = 행의 갯수\n",
        "        self.loss_function = cross_entropy # 모델의 성능은 Loss function의 값이 작을수록 좋다\n",
        "        self.layers = [] # Layer을 빈 배열로 초기화\n",
        "        self.activations = [softmax] # 활성화함수는 softmax를 사용한다\n",
        "        self.nodes = [] # Node를 빈 배열로 초기화\n",
        "    \n",
        "    # Layer를 추가할 때 호출합니다\n",
        "    def addLayer(self, Layer): \n",
        "        self.layers.append(Layer) # 입력받은 Layer를 빈 Layer list 에 추가한다\n",
        "        if not self.nodes: # node가 비어있다 = 처음 입력\n",
        "            self.nodes.append(np.zeros(Layer.input_size)) # input size와 같은 형태이고, 값이 0으로 채워진 행렬을 nodes에 추가한다\n",
        "        self.nodes.append(np.zeros(Layer.output_size)) # 첫 입력이 아닌 경우, output size와 같은 형태이고, 값이 0으로 채워진 행렬을 nodes에 추가한다.\n",
        "        \n",
        "    # Activation Function을 추가할 때 호출합니다\n",
        "    def addActivation(self, Activation):\n",
        "        tmp = self.activations.pop() # 가장 마지막 활성화 함수인 확률벡터를 리턴하는 softmax함수를 임시 변수로 추출한다.\n",
        "        self.activations.append(Activation) # 새로운 활성함수 추가\n",
        "        self.activations.append(tmp)  # 마지막 활성화 함수는 softmax함수가 되도록 앞서 저장한 tmp를 다시 append\n",
        "        \n",
        "    # 순전파 함수\n",
        "    def _forward(self, X): # X: 입력데이터\n",
        "        self.nodes[0] = X.copy() # 첫번째 노드값은 입력받은 X값이다. 이때, x.copy를 사용해서 추후 X값이 변하지 않도록 한다.\n",
        "        output = X.copy() # output값에도 입력값을 copy하여 넣는다.\n",
        "        for i in range(len(self.layers)): # layer수만큼 반복\n",
        "            Layer = self.layers[i] # i번째 layer\n",
        "            Activation = self.activations[i] #i번째 활성화함수\n",
        "            output = np.dot(self.nodes[i], Layer.weight) #i번째 노드와 weight행렬을 곱한다\n",
        "            output = output+ Layer.bias # 앞서 구한값에에 bias를 더하여 아파인계산\n",
        "            output = Activation.forward(output) #아파인계산값을 활성화함수에 입력\n",
        "            self.nodes[i+1] = output # 결과값을 새로운 node값으로 설정\n",
        "        return output   \n",
        "    \n",
        "    # 역전파 함수\n",
        "    def _backward(self, X, output, y) :\n",
        "        for i in reversed(range(len(self.layers))): # layer수만큼, 반대 순서로 반복\n",
        "            a = self.nodes[i+1] # 레이어+1의 노드값(활성화함수 적용 결과)을 a라고 하자.\n",
        "            Layer = self.layers[i] # 레이어의 인덱스는 그대로 사용\n",
        "            Activation = self.activations[i] # 활성화함수의 인덱스도 그대로 사용\n",
        "            \n",
        "            if i+1 == len(self.layers): # i+1 = layer수\n",
        "                error = Activation.backward(output, y) # error 계산\n",
        "            else:\n",
        "                error *= Activation.backward(a)\n",
        "            Layer.weight -= np.dot(error.T, self.nodes[i]).T*self.lr/X.shape[0]  # i번째 layer 업데이트\n",
        "            Layer.bias -= error.sum(axis=0)*self.lr/X.shape[0] # i번째 bias 업데이트\n",
        "            error = np.dot(error, Layer.weight.T) # error 계산\n",
        "            \n",
        "    # Accrucy를 반환합니다\n",
        "    def _accuracy(self, output, y):\n",
        "        pre_p = np.argmax(output, axis=1) # softmax 함수값(확률)이 가장 큰 인덱스\n",
        "        return np.sum(pre_p==y)/y.shape[0] # 분류가 올바른 비율\n",
        "    \n",
        "    # 데이터셋에 모델을 fit할때 호출합니다\n",
        "    def fit(self, X, y, val_X, val_y):\n",
        "        history = {'val_acc': [],'val_loss': []}\n",
        "        N = X.shape[0]\n",
        "        for i in range(self.epoch): # epoch = 데이터 전체를 몇 번 반복학습할 것인가\n",
        "            for j in range(N//self.batch_size): # 전체 데이터를 미니배치개수로 나누어 실행\n",
        "                batch_mask = np.random.choice(N, self.batch_size) # 미니배치는 랜덤반복추출\n",
        "                X_batch = X[batch_mask] # X배치 추출\n",
        "                y_batch = y[batch_mask] # y배치 추출\n",
        "                output = self._forward(X_batch) # 순전파\n",
        "                self._backward(X_batch, output, y_batch) # 역전파\n",
        "            \n",
        "            #accuracy와 loss를 기록해둡시다\n",
        "            output = self._forward(val_X) # 순전파 결과\n",
        "            history[\"val_acc\"].append(self._accuracy(output, val_y)) # 앞서 정의한 Accuracy 계산함수를 사용하여 에포크별로 정확도 기록\n",
        "            history[\"val_loss\"].append(sum(self.loss_function(output, val_y))) # Loss function(cross entropy)값도 에포크별로 기록\n",
        "            \n",
        "            #중간중간 기록을 찍어볼 때 사용. 적절히 조절해 쓰세요\n",
        "            if i % 10 == 0:\n",
        "                print(i, \"test accuracy :\", history[\"val_acc\"][-1])\n",
        "                print(i, \"test loss     :\", history[\"val_loss\"][-1])\n",
        "        return history"
      ],
      "id": "33125095"
    },
    {
      "cell_type": "markdown",
      "metadata": {
        "id": "e7787d0e"
      },
      "source": [
        "## Customizing\n",
        "- Network parameter, Layer architecture, Activation function .. 등등 다양한 하이퍼파라미터를 커스터마이징하여 높은 성능에 도달해 봅시다! "
      ],
      "id": "e7787d0e"
    },
    {
      "cell_type": "code",
      "execution_count": null,
      "metadata": {
        "id": "10d3d20c"
      },
      "outputs": [],
      "source": [
        "# 하이퍼파라미터를 적절히 조절해 뉴럴넷을 선언하세요\n",
        "nn = CustomNet(lr=0.005, epoch=200, batch_size=400)\n",
        "\n",
        "# 원하는 만큼 층과 활성화 함수를 쌓아 주세요. 기본적으로 2Layer를 예시로 적어드립니다\n",
        "nn.addLayer(Layer(784,100)) # 첫 레이어\n",
        "nn.addActivation(sigmoid)\n",
        "nn.addLayer(Layer(100,10))"
      ],
      "id": "10d3d20c"
    },
    {
      "cell_type": "code",
      "execution_count": null,
      "metadata": {
        "colab": {
          "base_uri": "https://localhost:8080/"
        },
        "id": "771766e2",
        "outputId": "cc9f52ff-27c6-47bb-b2c3-fc518b186b82"
      },
      "outputs": [
        {
          "name": "stdout",
          "output_type": "stream",
          "text": [
            "(784, 100) (100,)\n",
            "(100, 10) (10,)\n"
          ]
        }
      ],
      "source": [
        "# 선언한 뉴럴넷의 구조입니다\n",
        "for layer in nn.layers:\n",
        "    print(layer.weight.shape, layer.bias.shape)"
      ],
      "id": "771766e2"
    },
    {
      "cell_type": "code",
      "execution_count": null,
      "metadata": {
        "colab": {
          "background_save": true,
          "base_uri": "https://localhost:8080/"
        },
        "id": "b2c1018a",
        "outputId": "ba95f195-ad20-4a9b-de48-37ec093ebc58"
      },
      "outputs": [
        {
          "name": "stdout",
          "output_type": "stream",
          "text": [
            "0 test accuracy : 0.1135\n",
            "0 test loss     : 23132.0037483293\n",
            "10 test accuracy : 0.1914\n",
            "10 test loss     : 22865.459884263593\n",
            "20 test accuracy : 0.2106\n",
            "20 test loss     : 22662.441576524594\n",
            "30 test accuracy : 0.2109\n",
            "30 test loss     : 22202.023739140226\n",
            "40 test accuracy : 0.2504\n",
            "40 test loss     : 21184.333689231004\n",
            "50 test accuracy : 0.3055\n",
            "50 test loss     : 19729.875109831835\n",
            "60 test accuracy : 0.3796\n",
            "60 test loss     : 18305.127177092454\n",
            "70 test accuracy : 0.4584\n",
            "70 test loss     : 16684.98562143541\n",
            "80 test accuracy : 0.5387\n",
            "80 test loss     : 14670.512611571065\n",
            "90 test accuracy : 0.5969\n",
            "90 test loss     : 13014.475355552911\n",
            "100 test accuracy : 0.651\n",
            "100 test loss     : 11601.318914569885\n",
            "110 test accuracy : 0.6985\n",
            "110 test loss     : 10284.824992345686\n",
            "120 test accuracy : 0.7334\n",
            "120 test loss     : 9200.172043939932\n",
            "130 test accuracy : 0.7682\n",
            "130 test loss     : 8329.726416779175\n",
            "140 test accuracy : 0.7904\n",
            "140 test loss     : 7609.561157349337\n",
            "150 test accuracy : 0.8129\n",
            "150 test loss     : 6992.659123237866\n",
            "160 test accuracy : 0.8279\n",
            "160 test loss     : 6472.172764579543\n",
            "170 test accuracy : 0.8368\n",
            "170 test loss     : 6031.746752101246\n",
            "180 test accuracy : 0.848\n",
            "180 test loss     : 5661.420276079625\n",
            "190 test accuracy : 0.8575\n",
            "190 test loss     : 5351.766669872604\n"
          ]
        }
      ],
      "source": [
        "history = nn.fit(X_train, Y_train, X_test, Y_test)"
      ],
      "id": "b2c1018a"
    },
    {
      "cell_type": "markdown",
      "metadata": {
        "id": "b76a6163"
      },
      "source": [
        "## Accuracy, Loss Visualization\n",
        "- 자유롭게 Accuracy나 Loss를 시각화하여 확인하고 결과를 확인해 보세요! "
      ],
      "id": "b76a6163"
    },
    {
      "cell_type": "code",
      "execution_count": 25,
      "metadata": {
        "id": "eb733190"
      },
      "outputs": [],
      "source": [
        "# 함수화 하기\n",
        "def plot_accuracy_loss(history, epoch):\n",
        "    fig = plt.figure()\n",
        "    ax_acc = fig.add_subplot(111)\n",
        "\n",
        "    # 에포크 숫자만큼 range(epoch)를 변경\n",
        "    ax_acc.plot(range(epoch), history['val_acc'], label='정확도(%)', color='darkred')\n",
        "    plt.xlabel('epochs')\n",
        "    plt.ylabel('Accuracy(%)')\n",
        "    ax_acc.grid(linestyle='--', color='lavender')\n",
        "    ax_loss = ax_acc.twinx()\n",
        "    ax_loss.plot(range(epoch), history['val_loss'], label='오차', color='darkblue')\n",
        "    plt.ylabel('Loss')\n",
        "    ax_loss.yaxis.tick_right()\n",
        "    ax_loss.grid(linestyle='--', color='lavender')\n",
        "\n",
        "    # 그래프 표시\n",
        "    plt.show()\n",
        "\n",
        "    # 최고 accuracy는?\n",
        "    print(\"Best Accuracy : \",max(history['val_acc']))\n",
        "\n",
        "\n",
        "    # 최소 loss function값은?\n",
        "    print(\"Lowest Loss : \",min(history['val_loss']))\n",
        "    "
      ],
      "id": "eb733190"
    },
    {
      "cell_type": "code",
      "execution_count": 26,
      "metadata": {
        "id": "8702d4f6",
        "colab": {
          "base_uri": "https://localhost:8080/",
          "height": 317
        },
        "outputId": "3aeed626-09c8-4b78-dcd3-71565eedb467"
      },
      "outputs": [
        {
          "output_type": "display_data",
          "data": {
            "text/plain": [
              "<Figure size 432x288 with 2 Axes>"
            ],
            "image/png": "[encoded data removed]"
          },
          "metadata": {
            "needs_background": "light"
          }
        },
        {
          "output_type": "stream",
          "name": "stdout",
          "text": [
            "Best Accuracy :  0.8643\n",
            "Lowest Loss :  5112.755683579848\n"
          ]
        }
      ],
      "source": [
        "plot_accuracy_loss(history, 200)"
      ],
      "id": "8702d4f6"
    },
    {
      "cell_type": "code",
      "source": [],
      "metadata": {
        "id": "DxQHLG7IkBkf"
      },
      "id": "DxQHLG7IkBkf",
      "execution_count": null,
      "outputs": []
    }
  ],
  "metadata": {
    "colab": {
      "provenance": [],
      "include_colab_link": true
    },
    "kernelspec": {
      "display_name": "Python 3 (ipykernel)",
      "language": "python",
      "name": "python3"
    },
    "language_info": {
      "codemirror_mode": {
        "name": "ipython",
        "version": 3
      },
      "file_extension": ".py",
      "mimetype": "text/x-python",
      "name": "python",
      "nbconvert_exporter": "python",
      "pygments_lexer": "ipython3",
      "version": "3.9.7"
    }
  },
  "nbformat": 4,
  "nbformat_minor": 5
}