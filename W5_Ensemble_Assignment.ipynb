{
 "cells": [
  {
   "cell_type": "markdown",
   "id": "78b113da",
   "metadata": {},
   "source": [
    "# 유전체 정보 품종 분류 AI 경진대회\n",
    "## [Private 1위] CatboostEncoder+OverSampling+VotingClassifier 코드 리뷰\n",
    "- 작성자: 국민대민쑤 외 2인\n",
    "\n",
    "- EDA: 클래스간 불균형이 존재하여 OverSamplig 및 UnderSampling을 진행하였고, 모델에서 class_weight와 sample_weight를 조절하며 실험한 결과 BorderlineSmote를 사용하는 것이 가장 효과적이었다. \n",
    "- 분석 방법: 데이터셋이 작고 multiclass인 특성으로 앙상블을 통해 일반화 성능을 높였다.\n",
    "- 인코딩: Catboost Encoder을 사용하였다. \n",
    "- 앙상블 모델: sklearn에 내장된 classifier 및 boosting 계열 모델과 딥러닝 모델 중 효과가 좋은 9개의 모델을 선별하여 사용하였다. 그 중딥러닝 모델은 성능이 좋지 않아 사용 모델에서 제외되었다.XGB classifier과 RandomForest classifier의 성능이 좋아 가중치를 높게 두었다. 최종적으로 모델들을 VotingClassifier를 이용하여 hard 앙상블을 이용하였다. "
   ]
  },
  {
   "cell_type": "markdown",
   "id": "Rx-Bz-cxK-MP",
   "metadata": {
    "id": "Rx-Bz-cxK-MP"
   },
   "source": [
    "## **코드 실행환경**"
   ]
  },
  {
   "cell_type": "markdown",
   "id": "Z0_NG9VGLZo_",
   "metadata": {
    "id": "Z0_NG9VGLZo_"
   },
   "source": [
    "\bGoogle Colab\n",
    "\n",
    "Sklearn 버전 : 1.0.2\n",
    "\n",
    "Pandas 버전 : 1.3.5\n",
    "\n",
    "Numpy 버전 : 1.21.6\n",
    "\n",
    "런타임 유형 : GPU\n",
    "\n",
    "Linux-5.10.147+-x86_64-with-glibc2.27\n",
    "\n",
    "Ubuntu 18.04.6 LTS\n",
    "\n",
    "Python 3.8.16\n",
    "\n",
    "GPU : NVIDIA-SMI 460.32.03 Driver Version: 460.32.03 CUDA Version: 11.2 Tesla T4"
   ]
  },
  {
   "cell_type": "code",
   "execution_count": 1,
   "id": "5tecz1eQK_TQ",
   "metadata": {
    "colab": {
     "base_uri": "https://localhost:8080/",
     "height": 35
    },
    "executionInfo": {
     "elapsed": 37,
     "status": "ok",
     "timestamp": 1673964951919,
     "user": {
      "displayName": "강민수",
      "userId": "02270149204876897928"
     },
     "user_tz": -540
    },
    "id": "5tecz1eQK_TQ",
    "outputId": "00c3e466-5bfb-4307-9a92-4990f823f56f"
   },
   "outputs": [
    {
     "data": {
      "text/plain": [
       "'macOS-10.16-x86_64-i386-64bit'"
      ]
     },
     "execution_count": 1,
     "metadata": {},
     "output_type": "execute_result"
    }
   ],
   "source": [
    "import platform\n",
    "platform.platform()"
   ]
  },
  {
   "cell_type": "code",
   "execution_count": 6,
   "id": "y6RgijfqK_V_",
   "metadata": {
    "colab": {
     "base_uri": "https://localhost:8080/"
    },
    "executionInfo": {
     "elapsed": 35,
     "status": "ok",
     "timestamp": 1673964951921,
     "user": {
      "displayName": "강민수",
      "userId": "02270149204876897928"
     },
     "user_tz": -540
    },
    "id": "y6RgijfqK_V_",
    "outputId": "552aa06c-2c15-4f97-f5d9-6eff86038d41"
   },
   "outputs": [
    {
     "name": "stdout",
     "output_type": "stream",
     "text": [
      "cat: /etc/issue.net: No such file or directory\r\n"
     ]
    }
   ],
   "source": [
    "!cat /etc/issue.net"
   ]
  },
  {
   "cell_type": "code",
   "execution_count": 7,
   "id": "2xWdiAENK_YW",
   "metadata": {
    "colab": {
     "base_uri": "https://localhost:8080/"
    },
    "executionInfo": {
     "elapsed": 30,
     "status": "ok",
     "timestamp": 1673964951923,
     "user": {
      "displayName": "강민수",
      "userId": "02270149204876897928"
     },
     "user_tz": -540
    },
    "id": "2xWdiAENK_YW",
    "outputId": "658201c2-15c6-4709-b6dc-b33c9a0731c6"
   },
   "outputs": [
    {
     "name": "stdout",
     "output_type": "stream",
     "text": [
      "Python 3.10.4\r\n"
     ]
    }
   ],
   "source": [
    "!python --version"
   ]
  },
  {
   "cell_type": "code",
   "execution_count": 8,
   "id": "zwxl60gtLhFw",
   "metadata": {
    "colab": {
     "base_uri": "https://localhost:8080/"
    },
    "executionInfo": {
     "elapsed": 26,
     "status": "ok",
     "timestamp": 1673964951925,
     "user": {
      "displayName": "강민수",
      "userId": "02270149204876897928"
     },
     "user_tz": -540
    },
    "id": "zwxl60gtLhFw",
    "outputId": "647bb8af-e39e-473f-a1a7-93d68e7a6280"
   },
   "outputs": [
    {
     "name": "stdout",
     "output_type": "stream",
     "text": [
      "zsh:1: command not found: nvidia-smi\r\n"
     ]
    }
   ],
   "source": [
    "!nvidia-smi"
   ]
  },
  {
   "cell_type": "markdown",
   "id": "rC00_JOCRD4Z",
   "metadata": {
    "id": "rC00_JOCRD4Z"
   },
   "source": [
    "구글 코랩 사용시 구글 드라이브 연결 사용"
   ]
  },
  {
   "cell_type": "code",
   "execution_count": 14,
   "id": "geXoFoRN948J",
   "metadata": {
    "colab": {
     "base_uri": "https://localhost:8080/"
    },
    "executionInfo": {
     "elapsed": 15460,
     "status": "ok",
     "timestamp": 1673964967364,
     "user": {
      "displayName": "강민수",
      "userId": "02270149204876897928"
     },
     "user_tz": -540
    },
    "id": "geXoFoRN948J",
    "outputId": "273c65be-6902-4c76-d505-5fb412d8a017"
   },
   "outputs": [],
   "source": [
    "DATA_PATH = 'open/'"
   ]
  },
  {
   "cell_type": "markdown",
   "id": "e3550806-e691-49de-8ed9-ebae92bd3867",
   "metadata": {
    "id": "e3550806-e691-49de-8ed9-ebae92bd3867"
   },
   "source": [
    "## Import & Install"
   ]
  },
  {
   "cell_type": "code",
   "execution_count": 4,
   "id": "Uvcw5kBP-U83",
   "metadata": {
    "colab": {
     "base_uri": "https://localhost:8080/"
    },
    "executionInfo": {
     "elapsed": 3206,
     "status": "ok",
     "timestamp": 1673964970564,
     "user": {
      "displayName": "강민수",
      "userId": "02270149204876897928"
     },
     "user_tz": -540
    },
    "id": "Uvcw5kBP-U83",
    "outputId": "158403bc-4c42-452c-c378-328aef454e1d"
   },
   "outputs": [
    {
     "name": "stdout",
     "output_type": "stream",
     "text": [
      "Collecting category_encoders\n",
      "  Downloading category_encoders-2.6.0-py2.py3-none-any.whl (81 kB)\n",
      "\u001b[2K     \u001b[90m━━━━━━━━━━━━━━━━━━━━━━━━━━━━━━━━━━━━━━━\u001b[0m \u001b[32m81.2/81.2 kB\u001b[0m \u001b[31m251.8 kB/s\u001b[0m eta \u001b[36m0:00:00\u001b[0m \u001b[36m0:00:01\u001b[0m\n",
      "\u001b[?25hRequirement already satisfied: statsmodels>=0.9.0 in /Users/oyujin/opt/anaconda3/envs/test/lib/python3.10/site-packages (from category_encoders) (0.13.5)\n",
      "Requirement already satisfied: scipy>=1.0.0 in /Users/oyujin/opt/anaconda3/envs/test/lib/python3.10/site-packages (from category_encoders) (1.7.3)\n",
      "Requirement already satisfied: scikit-learn>=0.20.0 in /Users/oyujin/opt/anaconda3/envs/test/lib/python3.10/site-packages (from category_encoders) (1.0.2)\n",
      "Requirement already satisfied: pandas>=1.0.5 in /Users/oyujin/opt/anaconda3/envs/test/lib/python3.10/site-packages (from category_encoders) (1.5.2)\n",
      "Requirement already satisfied: patsy>=0.5.1 in /Users/oyujin/opt/anaconda3/envs/test/lib/python3.10/site-packages (from category_encoders) (0.5.3)\n",
      "Requirement already satisfied: numpy>=1.14.0 in /Users/oyujin/opt/anaconda3/envs/test/lib/python3.10/site-packages (from category_encoders) (1.21.5)\n",
      "Requirement already satisfied: python-dateutil>=2.8.1 in /Users/oyujin/opt/anaconda3/envs/test/lib/python3.10/site-packages (from pandas>=1.0.5->category_encoders) (2.8.2)\n",
      "Requirement already satisfied: pytz>=2020.1 in /Users/oyujin/opt/anaconda3/envs/test/lib/python3.10/site-packages (from pandas>=1.0.5->category_encoders) (2022.7)\n",
      "Requirement already satisfied: six in /Users/oyujin/opt/anaconda3/envs/test/lib/python3.10/site-packages (from patsy>=0.5.1->category_encoders) (1.16.0)\n",
      "Requirement already satisfied: joblib>=0.11 in /Users/oyujin/opt/anaconda3/envs/test/lib/python3.10/site-packages (from scikit-learn>=0.20.0->category_encoders) (1.1.1)\n",
      "Requirement already satisfied: threadpoolctl>=2.0.0 in /Users/oyujin/opt/anaconda3/envs/test/lib/python3.10/site-packages (from scikit-learn>=0.20.0->category_encoders) (2.2.0)\n",
      "Requirement already satisfied: packaging>=21.3 in /Users/oyujin/opt/anaconda3/envs/test/lib/python3.10/site-packages (from statsmodels>=0.9.0->category_encoders) (22.0)\n",
      "Installing collected packages: category_encoders\n",
      "Successfully installed category_encoders-2.6.0\n"
     ]
    }
   ],
   "source": [
    "# 코랩 기준 필요 라이브러리 설치\n",
    "\n",
    "# Category_encoders 설치\n",
    "!pip install category_encoders"
   ]
  },
  {
   "cell_type": "code",
   "execution_count": 10,
   "id": "d2f1ce22",
   "metadata": {},
   "outputs": [
    {
     "name": "stdout",
     "output_type": "stream",
     "text": [
      "Collecting imblearn\n",
      "  Downloading imblearn-0.0-py2.py3-none-any.whl (1.9 kB)\n",
      "Collecting imbalanced-learn\n",
      "  Downloading imbalanced_learn-0.10.1-py3-none-any.whl (226 kB)\n",
      "\u001b[2K     \u001b[90m━━━━━━━━━━━━━━━━━━━━━━━━━━━━━━━━━━━━━━━\u001b[0m \u001b[32m226.0/226.0 kB\u001b[0m \u001b[31m1.4 MB/s\u001b[0m eta \u001b[36m0:00:00\u001b[0ma \u001b[36m0:00:01\u001b[0m\n",
      "\u001b[?25hRequirement already satisfied: scipy>=1.3.2 in /Users/oyujin/opt/anaconda3/envs/test/lib/python3.10/site-packages (from imbalanced-learn->imblearn) (1.7.3)\n",
      "Requirement already satisfied: joblib>=1.1.1 in /Users/oyujin/opt/anaconda3/envs/test/lib/python3.10/site-packages (from imbalanced-learn->imblearn) (1.1.1)\n",
      "Requirement already satisfied: scikit-learn>=1.0.2 in /Users/oyujin/opt/anaconda3/envs/test/lib/python3.10/site-packages (from imbalanced-learn->imblearn) (1.0.2)\n",
      "Requirement already satisfied: numpy>=1.17.3 in /Users/oyujin/opt/anaconda3/envs/test/lib/python3.10/site-packages (from imbalanced-learn->imblearn) (1.21.5)\n",
      "Requirement already satisfied: threadpoolctl>=2.0.0 in /Users/oyujin/opt/anaconda3/envs/test/lib/python3.10/site-packages (from imbalanced-learn->imblearn) (2.2.0)\n",
      "Installing collected packages: imbalanced-learn, imblearn\n",
      "Successfully installed imbalanced-learn-0.10.1 imblearn-0.0\n"
     ]
    }
   ],
   "source": [
    "!pip install imblearn"
   ]
  },
  {
   "cell_type": "code",
   "execution_count": 46,
   "id": "b813bb5b",
   "metadata": {},
   "outputs": [
    {
     "name": "stdout",
     "output_type": "stream",
     "text": [
      "Collecting lightgbm\n",
      "  Downloading lightgbm-3.3.5-py3-none-macosx_10_15_x86_64.macosx_11_6_x86_64.macosx_12_0_x86_64.whl (1.3 MB)\n",
      "\u001b[2K     \u001b[90m━━━━━━━━━━━━━━━━━━━━━━━━━━━━━━━━━━━━━━━━\u001b[0m \u001b[32m1.3/1.3 MB\u001b[0m \u001b[31m1.2 MB/s\u001b[0m eta \u001b[36m0:00:00\u001b[0m00:01\u001b[0m00:01\u001b[0m\n",
      "\u001b[?25hRequirement already satisfied: scikit-learn!=0.22.0 in /Users/oyujin/opt/anaconda3/envs/test/lib/python3.10/site-packages (from lightgbm) (1.0.2)\n",
      "Requirement already satisfied: scipy in /Users/oyujin/opt/anaconda3/envs/test/lib/python3.10/site-packages (from lightgbm) (1.7.3)\n",
      "Requirement already satisfied: numpy in /Users/oyujin/opt/anaconda3/envs/test/lib/python3.10/site-packages (from lightgbm) (1.21.5)\n",
      "Requirement already satisfied: wheel in /Users/oyujin/opt/anaconda3/envs/test/lib/python3.10/site-packages (from lightgbm) (0.35.1)\n",
      "Requirement already satisfied: threadpoolctl>=2.0.0 in /Users/oyujin/opt/anaconda3/envs/test/lib/python3.10/site-packages (from scikit-learn!=0.22.0->lightgbm) (2.2.0)\n",
      "Requirement already satisfied: joblib>=0.11 in /Users/oyujin/opt/anaconda3/envs/test/lib/python3.10/site-packages (from scikit-learn!=0.22.0->lightgbm) (1.1.1)\n",
      "Installing collected packages: lightgbm\n",
      "Successfully installed lightgbm-3.3.5\n"
     ]
    }
   ],
   "source": [
    "!pip install lightgbm"
   ]
  },
  {
   "cell_type": "code",
   "execution_count": 52,
   "id": "83fdf713",
   "metadata": {},
   "outputs": [
    {
     "name": "stdout",
     "output_type": "stream",
     "text": [
      "Collecting xgboost\n",
      "  Downloading xgboost-1.7.4-py3-none-macosx_10_15_x86_64.macosx_11_0_x86_64.macosx_12_0_x86_64.whl (1.8 MB)\n",
      "\u001b[2K     \u001b[90m━━━━━━━━━━━━━━━━━━━━━━━━━━━━━━━━━━━━━━━━\u001b[0m \u001b[32m1.8/1.8 MB\u001b[0m \u001b[31m1.2 MB/s\u001b[0m eta \u001b[36m0:00:00\u001b[0m00:01\u001b[0m00:01\u001b[0m\n",
      "\u001b[?25hRequirement already satisfied: scipy in /Users/oyujin/opt/anaconda3/envs/test/lib/python3.10/site-packages (from xgboost) (1.7.3)\n",
      "Requirement already satisfied: numpy in /Users/oyujin/opt/anaconda3/envs/test/lib/python3.10/site-packages (from xgboost) (1.21.5)\n",
      "Installing collected packages: xgboost\n",
      "Successfully installed xgboost-1.7.4\n"
     ]
    }
   ],
   "source": [
    "!pip install xgboost"
   ]
  },
  {
   "cell_type": "code",
   "execution_count": 54,
   "id": "b84c8f41-8c9f-4e9c-9969-e98541e822af",
   "metadata": {
    "id": "b84c8f41-8c9f-4e9c-9969-e98541e822af"
   },
   "outputs": [],
   "source": [
    "#Base & visualization\n",
    "import pandas as pd\n",
    "import random\n",
    "import os\n",
    "import numpy as np\n",
    "import warnings\n",
    "import matplotlib.pylab as plt\n",
    "import seaborn as sns\n",
    "\n",
    "#sklearn module & utils\n",
    "from tqdm.notebook import tqdm\n",
    "from sklearn.feature_selection import SelectPercentile\n",
    "from sklearn.model_selection import StratifiedKFold , KFold, train_test_split, cross_val_score, cross_validate\n",
    "from sklearn.feature_selection import SelectPercentile\n",
    "warnings.filterwarnings('ignore') \n",
    "\n",
    "#Scaling\n",
    "from sklearn.preprocessing import StandardScaler, LabelEncoder\n",
    "\n",
    "# Encoding\n",
    "import category_encoders as ce\n",
    "\n",
    "#Sampling\n",
    "from imblearn.over_sampling import BorderlineSMOTE\n",
    "\n",
    "#Modeling\n",
    "from sklearn.ensemble import BaggingClassifier, GradientBoostingClassifier, VotingClassifier,RandomForestClassifier\n",
    "from sklearn.tree import DecisionTreeClassifier\n",
    "from sklearn.linear_model import RidgeClassifier, RidgeClassifierCV\n",
    "from sklearn.svm import SVC\n",
    "from xgboost import XGBClassifier \n"
   ]
  },
  {
   "cell_type": "markdown",
   "id": "afoA2WbvCo5L",
   "metadata": {
    "id": "afoA2WbvCo5L"
   },
   "source": [
    "## Fix Seed"
   ]
  },
  {
   "cell_type": "code",
   "execution_count": 12,
   "id": "824a7f14-b0f5-49c8-b030-1fe9873c46f9",
   "metadata": {
    "id": "824a7f14-b0f5-49c8-b030-1fe9873c46f9"
   },
   "outputs": [],
   "source": [
    "#Seed 고정\n",
    "class CFG:\n",
    "    SEED = 26\n",
    "\n",
    "def seed_everything(seed):\n",
    "    random.seed(seed)\n",
    "    os.environ['PYTHONHASHSEED'] = str(seed)\n",
    "    np.random.seed(seed)\n",
    "seed_everything(CFG.SEED) # Seed 고정"
   ]
  },
  {
   "cell_type": "markdown",
   "id": "b9e7de47-f4b8-4589-b9d3-e353a975e939",
   "metadata": {
    "id": "b9e7de47-f4b8-4589-b9d3-e353a975e939"
   },
   "source": [
    "## Data Load"
   ]
  },
  {
   "cell_type": "code",
   "execution_count": 15,
   "id": "34f899fd-fbb4-48bc-9ec5-3eb5a68564cb",
   "metadata": {
    "id": "34f899fd-fbb4-48bc-9ec5-3eb5a68564cb"
   },
   "outputs": [],
   "source": [
    "train = pd.read_csv(DATA_PATH + 'train.csv')\n",
    "test = pd.read_csv(DATA_PATH + 'test.csv')\n",
    "snp = pd.read_csv(DATA_PATH + 'snp_info.csv')"
   ]
  },
  {
   "cell_type": "code",
   "execution_count": 18,
   "id": "7c7215f4",
   "metadata": {},
   "outputs": [
    {
     "data": {
      "text/html": [
       "<div>\n",
       "<style scoped>\n",
       "    .dataframe tbody tr th:only-of-type {\n",
       "        vertical-align: middle;\n",
       "    }\n",
       "\n",
       "    .dataframe tbody tr th {\n",
       "        vertical-align: top;\n",
       "    }\n",
       "\n",
       "    .dataframe thead th {\n",
       "        text-align: right;\n",
       "    }\n",
       "</style>\n",
       "<table border=\"1\" class=\"dataframe\">\n",
       "  <thead>\n",
       "    <tr style=\"text-align: right;\">\n",
       "      <th></th>\n",
       "      <th>id</th>\n",
       "      <th>father</th>\n",
       "      <th>mother</th>\n",
       "      <th>gender</th>\n",
       "      <th>trait</th>\n",
       "      <th>SNP_01</th>\n",
       "      <th>SNP_02</th>\n",
       "      <th>SNP_03</th>\n",
       "      <th>SNP_04</th>\n",
       "      <th>SNP_05</th>\n",
       "      <th>...</th>\n",
       "      <th>SNP_07</th>\n",
       "      <th>SNP_08</th>\n",
       "      <th>SNP_09</th>\n",
       "      <th>SNP_10</th>\n",
       "      <th>SNP_11</th>\n",
       "      <th>SNP_12</th>\n",
       "      <th>SNP_13</th>\n",
       "      <th>SNP_14</th>\n",
       "      <th>SNP_15</th>\n",
       "      <th>class</th>\n",
       "    </tr>\n",
       "  </thead>\n",
       "  <tbody>\n",
       "    <tr>\n",
       "      <th>0</th>\n",
       "      <td>TRAIN_000</td>\n",
       "      <td>0</td>\n",
       "      <td>0</td>\n",
       "      <td>0</td>\n",
       "      <td>2</td>\n",
       "      <td>G G</td>\n",
       "      <td>A G</td>\n",
       "      <td>A A</td>\n",
       "      <td>G A</td>\n",
       "      <td>C A</td>\n",
       "      <td>...</td>\n",
       "      <td>A A</td>\n",
       "      <td>G G</td>\n",
       "      <td>A A</td>\n",
       "      <td>G G</td>\n",
       "      <td>A G</td>\n",
       "      <td>A A</td>\n",
       "      <td>A A</td>\n",
       "      <td>A A</td>\n",
       "      <td>A A</td>\n",
       "      <td>B</td>\n",
       "    </tr>\n",
       "    <tr>\n",
       "      <th>1</th>\n",
       "      <td>TRAIN_001</td>\n",
       "      <td>0</td>\n",
       "      <td>0</td>\n",
       "      <td>0</td>\n",
       "      <td>2</td>\n",
       "      <td>A G</td>\n",
       "      <td>A G</td>\n",
       "      <td>C A</td>\n",
       "      <td>A A</td>\n",
       "      <td>A A</td>\n",
       "      <td>...</td>\n",
       "      <td>A A</td>\n",
       "      <td>G A</td>\n",
       "      <td>A A</td>\n",
       "      <td>A G</td>\n",
       "      <td>A A</td>\n",
       "      <td>G A</td>\n",
       "      <td>G G</td>\n",
       "      <td>A A</td>\n",
       "      <td>A A</td>\n",
       "      <td>C</td>\n",
       "    </tr>\n",
       "    <tr>\n",
       "      <th>2</th>\n",
       "      <td>TRAIN_002</td>\n",
       "      <td>0</td>\n",
       "      <td>0</td>\n",
       "      <td>0</td>\n",
       "      <td>2</td>\n",
       "      <td>G G</td>\n",
       "      <td>G G</td>\n",
       "      <td>A A</td>\n",
       "      <td>G A</td>\n",
       "      <td>C C</td>\n",
       "      <td>...</td>\n",
       "      <td>A A</td>\n",
       "      <td>G A</td>\n",
       "      <td>G A</td>\n",
       "      <td>A G</td>\n",
       "      <td>A A</td>\n",
       "      <td>A A</td>\n",
       "      <td>A A</td>\n",
       "      <td>A A</td>\n",
       "      <td>A A</td>\n",
       "      <td>B</td>\n",
       "    </tr>\n",
       "    <tr>\n",
       "      <th>3</th>\n",
       "      <td>TRAIN_003</td>\n",
       "      <td>0</td>\n",
       "      <td>0</td>\n",
       "      <td>0</td>\n",
       "      <td>1</td>\n",
       "      <td>A A</td>\n",
       "      <td>G G</td>\n",
       "      <td>A A</td>\n",
       "      <td>G A</td>\n",
       "      <td>A A</td>\n",
       "      <td>...</td>\n",
       "      <td>G G</td>\n",
       "      <td>A A</td>\n",
       "      <td>G G</td>\n",
       "      <td>A G</td>\n",
       "      <td>G G</td>\n",
       "      <td>G G</td>\n",
       "      <td>G G</td>\n",
       "      <td>A A</td>\n",
       "      <td>G G</td>\n",
       "      <td>A</td>\n",
       "    </tr>\n",
       "    <tr>\n",
       "      <th>4</th>\n",
       "      <td>TRAIN_004</td>\n",
       "      <td>0</td>\n",
       "      <td>0</td>\n",
       "      <td>0</td>\n",
       "      <td>2</td>\n",
       "      <td>G G</td>\n",
       "      <td>G G</td>\n",
       "      <td>C C</td>\n",
       "      <td>A A</td>\n",
       "      <td>C C</td>\n",
       "      <td>...</td>\n",
       "      <td>A A</td>\n",
       "      <td>A A</td>\n",
       "      <td>A A</td>\n",
       "      <td>G G</td>\n",
       "      <td>A A</td>\n",
       "      <td>A A</td>\n",
       "      <td>A G</td>\n",
       "      <td>A A</td>\n",
       "      <td>G A</td>\n",
       "      <td>C</td>\n",
       "    </tr>\n",
       "  </tbody>\n",
       "</table>\n",
       "<p>5 rows × 21 columns</p>\n",
       "</div>"
      ],
      "text/plain": [
       "          id  father  mother  gender  trait SNP_01 SNP_02 SNP_03 SNP_04  \\\n",
       "0  TRAIN_000       0       0       0      2    G G    A G    A A    G A   \n",
       "1  TRAIN_001       0       0       0      2    A G    A G    C A    A A   \n",
       "2  TRAIN_002       0       0       0      2    G G    G G    A A    G A   \n",
       "3  TRAIN_003       0       0       0      1    A A    G G    A A    G A   \n",
       "4  TRAIN_004       0       0       0      2    G G    G G    C C    A A   \n",
       "\n",
       "  SNP_05  ... SNP_07 SNP_08 SNP_09 SNP_10 SNP_11 SNP_12 SNP_13 SNP_14 SNP_15  \\\n",
       "0    C A  ...    A A    G G    A A    G G    A G    A A    A A    A A    A A   \n",
       "1    A A  ...    A A    G A    A A    A G    A A    G A    G G    A A    A A   \n",
       "2    C C  ...    A A    G A    G A    A G    A A    A A    A A    A A    A A   \n",
       "3    A A  ...    G G    A A    G G    A G    G G    G G    G G    A A    G G   \n",
       "4    C C  ...    A A    A A    A A    G G    A A    A A    A G    A A    G A   \n",
       "\n",
       "  class  \n",
       "0     B  \n",
       "1     C  \n",
       "2     B  \n",
       "3     A  \n",
       "4     C  \n",
       "\n",
       "[5 rows x 21 columns]"
      ]
     },
     "execution_count": 18,
     "metadata": {},
     "output_type": "execute_result"
    }
   ],
   "source": [
    "train.head()"
   ]
  },
  {
   "cell_type": "code",
   "execution_count": 19,
   "id": "9af4f8f8",
   "metadata": {},
   "outputs": [
    {
     "data": {
      "text/html": [
       "<div>\n",
       "<style scoped>\n",
       "    .dataframe tbody tr th:only-of-type {\n",
       "        vertical-align: middle;\n",
       "    }\n",
       "\n",
       "    .dataframe tbody tr th {\n",
       "        vertical-align: top;\n",
       "    }\n",
       "\n",
       "    .dataframe thead th {\n",
       "        text-align: right;\n",
       "    }\n",
       "</style>\n",
       "<table border=\"1\" class=\"dataframe\">\n",
       "  <thead>\n",
       "    <tr style=\"text-align: right;\">\n",
       "      <th></th>\n",
       "      <th>id</th>\n",
       "      <th>father</th>\n",
       "      <th>mother</th>\n",
       "      <th>gender</th>\n",
       "      <th>trait</th>\n",
       "      <th>SNP_01</th>\n",
       "      <th>SNP_02</th>\n",
       "      <th>SNP_03</th>\n",
       "      <th>SNP_04</th>\n",
       "      <th>SNP_05</th>\n",
       "      <th>SNP_06</th>\n",
       "      <th>SNP_07</th>\n",
       "      <th>SNP_08</th>\n",
       "      <th>SNP_09</th>\n",
       "      <th>SNP_10</th>\n",
       "      <th>SNP_11</th>\n",
       "      <th>SNP_12</th>\n",
       "      <th>SNP_13</th>\n",
       "      <th>SNP_14</th>\n",
       "      <th>SNP_15</th>\n",
       "    </tr>\n",
       "  </thead>\n",
       "  <tbody>\n",
       "    <tr>\n",
       "      <th>0</th>\n",
       "      <td>TEST_000</td>\n",
       "      <td>0</td>\n",
       "      <td>0</td>\n",
       "      <td>0</td>\n",
       "      <td>1</td>\n",
       "      <td>A G</td>\n",
       "      <td>G G</td>\n",
       "      <td>A A</td>\n",
       "      <td>G A</td>\n",
       "      <td>A A</td>\n",
       "      <td>A G</td>\n",
       "      <td>G G</td>\n",
       "      <td>G A</td>\n",
       "      <td>G A</td>\n",
       "      <td>A G</td>\n",
       "      <td>A G</td>\n",
       "      <td>G A</td>\n",
       "      <td>G G</td>\n",
       "      <td>C A</td>\n",
       "      <td>G A</td>\n",
       "    </tr>\n",
       "    <tr>\n",
       "      <th>1</th>\n",
       "      <td>TEST_001</td>\n",
       "      <td>0</td>\n",
       "      <td>0</td>\n",
       "      <td>0</td>\n",
       "      <td>2</td>\n",
       "      <td>G G</td>\n",
       "      <td>A G</td>\n",
       "      <td>C C</td>\n",
       "      <td>G G</td>\n",
       "      <td>C C</td>\n",
       "      <td>A A</td>\n",
       "      <td>A A</td>\n",
       "      <td>A A</td>\n",
       "      <td>A A</td>\n",
       "      <td>G G</td>\n",
       "      <td>A G</td>\n",
       "      <td>A A</td>\n",
       "      <td>A A</td>\n",
       "      <td>A A</td>\n",
       "      <td>A A</td>\n",
       "    </tr>\n",
       "    <tr>\n",
       "      <th>2</th>\n",
       "      <td>TEST_002</td>\n",
       "      <td>0</td>\n",
       "      <td>0</td>\n",
       "      <td>0</td>\n",
       "      <td>2</td>\n",
       "      <td>G G</td>\n",
       "      <td>A G</td>\n",
       "      <td>A A</td>\n",
       "      <td>A A</td>\n",
       "      <td>C A</td>\n",
       "      <td>A G</td>\n",
       "      <td>A A</td>\n",
       "      <td>A A</td>\n",
       "      <td>A A</td>\n",
       "      <td>A G</td>\n",
       "      <td>A A</td>\n",
       "      <td>G A</td>\n",
       "      <td>G G</td>\n",
       "      <td>A A</td>\n",
       "      <td>G G</td>\n",
       "    </tr>\n",
       "    <tr>\n",
       "      <th>3</th>\n",
       "      <td>TEST_003</td>\n",
       "      <td>0</td>\n",
       "      <td>0</td>\n",
       "      <td>0</td>\n",
       "      <td>2</td>\n",
       "      <td>G G</td>\n",
       "      <td>A G</td>\n",
       "      <td>C A</td>\n",
       "      <td>A A</td>\n",
       "      <td>C C</td>\n",
       "      <td>A A</td>\n",
       "      <td>A A</td>\n",
       "      <td>A A</td>\n",
       "      <td>A A</td>\n",
       "      <td>G G</td>\n",
       "      <td>A A</td>\n",
       "      <td>G A</td>\n",
       "      <td>A G</td>\n",
       "      <td>A A</td>\n",
       "      <td>A A</td>\n",
       "    </tr>\n",
       "    <tr>\n",
       "      <th>4</th>\n",
       "      <td>TEST_004</td>\n",
       "      <td>0</td>\n",
       "      <td>0</td>\n",
       "      <td>0</td>\n",
       "      <td>1</td>\n",
       "      <td>A A</td>\n",
       "      <td>G G</td>\n",
       "      <td>A A</td>\n",
       "      <td>G G</td>\n",
       "      <td>A A</td>\n",
       "      <td>G G</td>\n",
       "      <td>G G</td>\n",
       "      <td>A A</td>\n",
       "      <td>G G</td>\n",
       "      <td>A G</td>\n",
       "      <td>G G</td>\n",
       "      <td>G A</td>\n",
       "      <td>G G</td>\n",
       "      <td>A A</td>\n",
       "      <td>G G</td>\n",
       "    </tr>\n",
       "  </tbody>\n",
       "</table>\n",
       "</div>"
      ],
      "text/plain": [
       "         id  father  mother  gender  trait SNP_01 SNP_02 SNP_03 SNP_04 SNP_05  \\\n",
       "0  TEST_000       0       0       0      1    A G    G G    A A    G A    A A   \n",
       "1  TEST_001       0       0       0      2    G G    A G    C C    G G    C C   \n",
       "2  TEST_002       0       0       0      2    G G    A G    A A    A A    C A   \n",
       "3  TEST_003       0       0       0      2    G G    A G    C A    A A    C C   \n",
       "4  TEST_004       0       0       0      1    A A    G G    A A    G G    A A   \n",
       "\n",
       "  SNP_06 SNP_07 SNP_08 SNP_09 SNP_10 SNP_11 SNP_12 SNP_13 SNP_14 SNP_15  \n",
       "0    A G    G G    G A    G A    A G    A G    G A    G G    C A    G A  \n",
       "1    A A    A A    A A    A A    G G    A G    A A    A A    A A    A A  \n",
       "2    A G    A A    A A    A A    A G    A A    G A    G G    A A    G G  \n",
       "3    A A    A A    A A    A A    G G    A A    G A    A G    A A    A A  \n",
       "4    G G    G G    A A    G G    A G    G G    G A    G G    A A    G G  "
      ]
     },
     "execution_count": 19,
     "metadata": {},
     "output_type": "execute_result"
    }
   ],
   "source": [
    "test.head()"
   ]
  },
  {
   "cell_type": "code",
   "execution_count": 20,
   "id": "0c445318",
   "metadata": {},
   "outputs": [
    {
     "data": {
      "text/html": [
       "<div>\n",
       "<style scoped>\n",
       "    .dataframe tbody tr th:only-of-type {\n",
       "        vertical-align: middle;\n",
       "    }\n",
       "\n",
       "    .dataframe tbody tr th {\n",
       "        vertical-align: top;\n",
       "    }\n",
       "\n",
       "    .dataframe thead th {\n",
       "        text-align: right;\n",
       "    }\n",
       "</style>\n",
       "<table border=\"1\" class=\"dataframe\">\n",
       "  <thead>\n",
       "    <tr style=\"text-align: right;\">\n",
       "      <th></th>\n",
       "      <th>SNP_id</th>\n",
       "      <th>name</th>\n",
       "      <th>chrom</th>\n",
       "      <th>cm</th>\n",
       "      <th>pos</th>\n",
       "    </tr>\n",
       "  </thead>\n",
       "  <tbody>\n",
       "    <tr>\n",
       "      <th>0</th>\n",
       "      <td>SNP_01</td>\n",
       "      <td>BTA-19852-no-rs</td>\n",
       "      <td>2</td>\n",
       "      <td>67.0546</td>\n",
       "      <td>42986890</td>\n",
       "    </tr>\n",
       "    <tr>\n",
       "      <th>1</th>\n",
       "      <td>SNP_02</td>\n",
       "      <td>ARS-USMARC-Parent-DQ647190-rs29013632</td>\n",
       "      <td>6</td>\n",
       "      <td>31.1567</td>\n",
       "      <td>13897068</td>\n",
       "    </tr>\n",
       "    <tr>\n",
       "      <th>2</th>\n",
       "      <td>SNP_03</td>\n",
       "      <td>ARS-BFGL-NGS-117009</td>\n",
       "      <td>6</td>\n",
       "      <td>68.2892</td>\n",
       "      <td>44649549</td>\n",
       "    </tr>\n",
       "    <tr>\n",
       "      <th>3</th>\n",
       "      <td>SNP_04</td>\n",
       "      <td>ARS-BFGL-NGS-60567</td>\n",
       "      <td>6</td>\n",
       "      <td>77.8749</td>\n",
       "      <td>53826064</td>\n",
       "    </tr>\n",
       "    <tr>\n",
       "      <th>4</th>\n",
       "      <td>SNP_05</td>\n",
       "      <td>BovineHD0600017032</td>\n",
       "      <td>6</td>\n",
       "      <td>80.5015</td>\n",
       "      <td>61779512</td>\n",
       "    </tr>\n",
       "  </tbody>\n",
       "</table>\n",
       "</div>"
      ],
      "text/plain": [
       "   SNP_id                                   name  chrom       cm       pos\n",
       "0  SNP_01                        BTA-19852-no-rs      2  67.0546  42986890\n",
       "1  SNP_02  ARS-USMARC-Parent-DQ647190-rs29013632      6  31.1567  13897068\n",
       "2  SNP_03                    ARS-BFGL-NGS-117009      6  68.2892  44649549\n",
       "3  SNP_04                     ARS-BFGL-NGS-60567      6  77.8749  53826064\n",
       "4  SNP_05                     BovineHD0600017032      6  80.5015  61779512"
      ]
     },
     "execution_count": 20,
     "metadata": {},
     "output_type": "execute_result"
    }
   ],
   "source": [
    "snp.head()"
   ]
  },
  {
   "cell_type": "markdown",
   "id": "da5ac4fd",
   "metadata": {
    "id": "da5ac4fd"
   },
   "source": [
    "## EDA"
   ]
  },
  {
   "cell_type": "code",
   "execution_count": 16,
   "id": "72b37f7e-a9f2-4640-8a0c-80ecdc626740",
   "metadata": {
    "id": "72b37f7e-a9f2-4640-8a0c-80ecdc626740"
   },
   "outputs": [],
   "source": [
    "#X Y 데이터분리 및 id column drop\n",
    "def get_x_y(df):\n",
    "    if 'class' in df.columns:\n",
    "        df_x = df.drop(columns=['id', 'class'])\n",
    "        df_y = df['class']\n",
    "        return df_x, df_y\n",
    "    else:\n",
    "        df_x = df.drop(columns=['id'])\n",
    "        return df_x\n",
    "\n",
    "train_x, train_y = get_x_y(train)\n",
    "test_x = get_x_y(test)"
   ]
  },
  {
   "cell_type": "code",
   "execution_count": 21,
   "id": "1f3c3406",
   "metadata": {},
   "outputs": [
    {
     "data": {
      "text/plain": [
       "0      B\n",
       "1      C\n",
       "2      B\n",
       "3      A\n",
       "4      C\n",
       "      ..\n",
       "257    B\n",
       "258    C\n",
       "259    A\n",
       "260    A\n",
       "261    B\n",
       "Name: class, Length: 262, dtype: object"
      ]
     },
     "execution_count": 21,
     "metadata": {},
     "output_type": "execute_result"
    }
   ],
   "source": [
    "train_y"
   ]
  },
  {
   "cell_type": "code",
   "execution_count": 29,
   "id": "029bb1c8",
   "metadata": {},
   "outputs": [
    {
     "data": {
      "image/png": "[encoded data removed]",
      "text/plain": [
       "<Figure size 640x480 with 1 Axes>"
      ]
     },
     "metadata": {},
     "output_type": "display_data"
    }
   ],
   "source": [
    "#class imbalanced -> Oversampling 적용\n",
    "\n",
    "plt.hist(train_y)\n",
    "plt.xlabel('class')\n",
    "plt.ylabel('count')\n",
    "plt.show()"
   ]
  },
  {
   "cell_type": "markdown",
   "id": "8f79fbb3-bdd5-4bf7-bcc2-3776f1de653b",
   "metadata": {
    "id": "8f79fbb3-bdd5-4bf7-bcc2-3776f1de653b"
   },
   "source": [
    "## Data Pre-processing"
   ]
  },
  {
   "cell_type": "code",
   "execution_count": 30,
   "id": "62a50bdd",
   "metadata": {
    "id": "62a50bdd"
   },
   "outputs": [],
   "source": [
    "#train_x 데이터를 확인해본 결과, 동일한 값을 가지는 columns 제거 -> 모델링에 좋지 않은 영향을 줄 것으로 판단 \n",
    "train_x = train_x.drop(columns=['father','mother','gender'])\n",
    "test_x = test_x.drop(columns=['father','mother','gender'])"
   ]
  },
  {
   "cell_type": "markdown",
   "id": "e54b9d45",
   "metadata": {
    "id": "e54b9d45"
   },
   "source": [
    "## Feature Engineering"
   ]
  },
  {
   "cell_type": "code",
   "execution_count": 31,
   "id": "zU1iaI06RVb4",
   "metadata": {
    "colab": {
     "base_uri": "https://localhost:8080/",
     "height": 519
    },
    "executionInfo": {
     "elapsed": 31,
     "status": "ok",
     "timestamp": 1673964974212,
     "user": {
      "displayName": "강민수",
      "userId": "02270149204876897928"
     },
     "user_tz": -540
    },
    "id": "zU1iaI06RVb4",
    "outputId": "c8e1e5db-656c-4d4b-e1d1-9c92bed0ecc5"
   },
   "outputs": [
    {
     "data": {
      "text/html": [
       "<div>\n",
       "<style scoped>\n",
       "    .dataframe tbody tr th:only-of-type {\n",
       "        vertical-align: middle;\n",
       "    }\n",
       "\n",
       "    .dataframe tbody tr th {\n",
       "        vertical-align: top;\n",
       "    }\n",
       "\n",
       "    .dataframe thead th {\n",
       "        text-align: right;\n",
       "    }\n",
       "</style>\n",
       "<table border=\"1\" class=\"dataframe\">\n",
       "  <thead>\n",
       "    <tr style=\"text-align: right;\">\n",
       "      <th></th>\n",
       "      <th>SNP_id</th>\n",
       "      <th>name</th>\n",
       "      <th>chrom</th>\n",
       "      <th>cm</th>\n",
       "      <th>pos</th>\n",
       "    </tr>\n",
       "  </thead>\n",
       "  <tbody>\n",
       "    <tr>\n",
       "      <th>0</th>\n",
       "      <td>SNP_01</td>\n",
       "      <td>BTA-19852-no-rs</td>\n",
       "      <td>2</td>\n",
       "      <td>67.05460</td>\n",
       "      <td>42986890</td>\n",
       "    </tr>\n",
       "    <tr>\n",
       "      <th>1</th>\n",
       "      <td>SNP_02</td>\n",
       "      <td>ARS-USMARC-Parent-DQ647190-rs29013632</td>\n",
       "      <td>6</td>\n",
       "      <td>31.15670</td>\n",
       "      <td>13897068</td>\n",
       "    </tr>\n",
       "    <tr>\n",
       "      <th>2</th>\n",
       "      <td>SNP_03</td>\n",
       "      <td>ARS-BFGL-NGS-117009</td>\n",
       "      <td>6</td>\n",
       "      <td>68.28920</td>\n",
       "      <td>44649549</td>\n",
       "    </tr>\n",
       "    <tr>\n",
       "      <th>3</th>\n",
       "      <td>SNP_04</td>\n",
       "      <td>ARS-BFGL-NGS-60567</td>\n",
       "      <td>6</td>\n",
       "      <td>77.87490</td>\n",
       "      <td>53826064</td>\n",
       "    </tr>\n",
       "    <tr>\n",
       "      <th>4</th>\n",
       "      <td>SNP_05</td>\n",
       "      <td>BovineHD0600017032</td>\n",
       "      <td>6</td>\n",
       "      <td>80.50150</td>\n",
       "      <td>61779512</td>\n",
       "    </tr>\n",
       "    <tr>\n",
       "      <th>5</th>\n",
       "      <td>SNP_06</td>\n",
       "      <td>BovineHD0600017424</td>\n",
       "      <td>6</td>\n",
       "      <td>80.59540</td>\n",
       "      <td>63048481</td>\n",
       "    </tr>\n",
       "    <tr>\n",
       "      <th>6</th>\n",
       "      <td>SNP_07</td>\n",
       "      <td>Hapmap49442-BTA-111073</td>\n",
       "      <td>6</td>\n",
       "      <td>80.78000</td>\n",
       "      <td>64037334</td>\n",
       "    </tr>\n",
       "    <tr>\n",
       "      <th>7</th>\n",
       "      <td>SNP_08</td>\n",
       "      <td>BovineHD0600018638</td>\n",
       "      <td>6</td>\n",
       "      <td>82.68560</td>\n",
       "      <td>67510588</td>\n",
       "    </tr>\n",
       "    <tr>\n",
       "      <th>8</th>\n",
       "      <td>SNP_09</td>\n",
       "      <td>ARS-BFGL-NGS-37727</td>\n",
       "      <td>6</td>\n",
       "      <td>86.87400</td>\n",
       "      <td>73092782</td>\n",
       "    </tr>\n",
       "    <tr>\n",
       "      <th>9</th>\n",
       "      <td>SNP_10</td>\n",
       "      <td>BTB-01558306</td>\n",
       "      <td>7</td>\n",
       "      <td>62.06920</td>\n",
       "      <td>40827112</td>\n",
       "    </tr>\n",
       "    <tr>\n",
       "      <th>10</th>\n",
       "      <td>SNP_11</td>\n",
       "      <td>ARS-BFGL-NGS-44247</td>\n",
       "      <td>8</td>\n",
       "      <td>97.17310</td>\n",
       "      <td>92485682</td>\n",
       "    </tr>\n",
       "    <tr>\n",
       "      <th>11</th>\n",
       "      <td>SNP_12</td>\n",
       "      <td>Hapmap32827-BTA-146530</td>\n",
       "      <td>9</td>\n",
       "      <td>62.74630</td>\n",
       "      <td>55007839</td>\n",
       "    </tr>\n",
       "    <tr>\n",
       "      <th>12</th>\n",
       "      <td>SNP_13</td>\n",
       "      <td>BTB-00395482</td>\n",
       "      <td>9</td>\n",
       "      <td>63.41810</td>\n",
       "      <td>59692848</td>\n",
       "    </tr>\n",
       "    <tr>\n",
       "      <th>13</th>\n",
       "      <td>SNP_14</td>\n",
       "      <td>Hapmap40256-BTA-84189</td>\n",
       "      <td>9</td>\n",
       "      <td>66.81970</td>\n",
       "      <td>72822507</td>\n",
       "    </tr>\n",
       "    <tr>\n",
       "      <th>14</th>\n",
       "      <td>SNP_15</td>\n",
       "      <td>BovineHD1000000224</td>\n",
       "      <td>10</td>\n",
       "      <td>1.78774</td>\n",
       "      <td>814291</td>\n",
       "    </tr>\n",
       "  </tbody>\n",
       "</table>\n",
       "</div>"
      ],
      "text/plain": [
       "    SNP_id                                   name  chrom        cm       pos\n",
       "0   SNP_01                        BTA-19852-no-rs      2  67.05460  42986890\n",
       "1   SNP_02  ARS-USMARC-Parent-DQ647190-rs29013632      6  31.15670  13897068\n",
       "2   SNP_03                    ARS-BFGL-NGS-117009      6  68.28920  44649549\n",
       "3   SNP_04                     ARS-BFGL-NGS-60567      6  77.87490  53826064\n",
       "4   SNP_05                     BovineHD0600017032      6  80.50150  61779512\n",
       "5   SNP_06                     BovineHD0600017424      6  80.59540  63048481\n",
       "6   SNP_07                 Hapmap49442-BTA-111073      6  80.78000  64037334\n",
       "7   SNP_08                     BovineHD0600018638      6  82.68560  67510588\n",
       "8   SNP_09                     ARS-BFGL-NGS-37727      6  86.87400  73092782\n",
       "9   SNP_10                           BTB-01558306      7  62.06920  40827112\n",
       "10  SNP_11                     ARS-BFGL-NGS-44247      8  97.17310  92485682\n",
       "11  SNP_12                 Hapmap32827-BTA-146530      9  62.74630  55007839\n",
       "12  SNP_13                           BTB-00395482      9  63.41810  59692848\n",
       "13  SNP_14                  Hapmap40256-BTA-84189      9  66.81970  72822507\n",
       "14  SNP_15                     BovineHD1000000224     10   1.78774    814291"
      ]
     },
     "execution_count": 31,
     "metadata": {},
     "output_type": "execute_result"
    }
   ],
   "source": [
    "snp"
   ]
  },
  {
   "cell_type": "markdown",
   "id": "YSP4KgOqRdTX",
   "metadata": {
    "id": "YSP4KgOqRdTX"
   },
   "source": [
    "*SNP 정보(name, chrom, cm, pos)를 활용하여 Feature Engineering을 진행하였습니다\n",
    "\n",
    "1. name(SNP 명) & chrom(염색체 정보)\n",
    "2. chrom(염색체 정보)\n",
    "3. SNP Total combination\n",
    "4. cm(Genetic distance)\n",
    "5. SNP G,C,A mathematical feature"
   ]
  },
  {
   "cell_type": "markdown",
   "id": "Y7wNClFCDB8e",
   "metadata": {
    "id": "Y7wNClFCDB8e"
   },
   "source": [
    "#### SNP 합"
   ]
  },
  {
   "cell_type": "code",
   "execution_count": 32,
   "id": "47235e42",
   "metadata": {
    "id": "47235e42"
   },
   "outputs": [],
   "source": [
    "train_x['2_BTA'] = train_x['SNP_01']\n",
    "train_x['chrom_6'] = train_x['SNP_02'] + '-'+ train_x['SNP_03'] + '-' + train_x['SNP_04'] + '-' + train_x['SNP_05'] + '-' + train_x['SNP_06'] + '-' + train_x['SNP_07'] + '-' + train_x['SNP_08'] + '-' + train_x['SNP_09']\n",
    "train_x['6_ARS_Parent'] = train_x['SNP_02']\n",
    "train_x['6_ARS_BFGL'] = train_x['SNP_03'] + '-' + train_x['SNP_04'] + '-' + train_x['SNP_09']\n",
    "train_x['6_BOVINE'] = train_x['SNP_05'] + '-' + train_x['SNP_06'] + '-' + train_x['SNP_08']\n",
    "train_x['6_HAPMAP'] = train_x['SNP_07']\n",
    "train_x['7_BTB'] = train_x['SNP_10']\n",
    "train_x['8_ARS'] = train_x['SNP_11']\n",
    "train_x['chrom_9'] = train_x['SNP_12'] + '-' + train_x['SNP_13'] + '-' + train_x['SNP_14']\n",
    "train_x['9_HAPMAP'] = train_x['SNP_12'] + '-' + train_x['SNP_14']\n",
    "train_x['9_BTB'] = train_x['SNP_13']\n",
    "train_x['10_BOVINE'] = train_x['SNP_15']\n",
    "train_x['SNP_total'] = train_x['SNP_01'] + '-' + train_x['SNP_02'] + '-' + train_x['SNP_03'] + '-' + train_x['SNP_04'] + '-' + train_x['SNP_05'] + '-' + train_x['SNP_06'] + '-' + train_x['SNP_07'] + '-' + train_x['SNP_08'] + '-' + train_x['SNP_09'] + '-' + train_x['SNP_10'] + '-' + train_x['SNP_11'] + '-' + train_x['SNP_12'] + '-' + train_x['SNP_13'] + '-' + train_x['SNP_14'] + '-' + train_x['SNP_15']  "
   ]
  },
  {
   "cell_type": "code",
   "execution_count": 33,
   "id": "3e521639",
   "metadata": {
    "id": "3e521639"
   },
   "outputs": [],
   "source": [
    "test_x['2_BTA'] = test_x['SNP_01']\n",
    "test_x['chrom_6'] = test_x['SNP_02'] + '-'+ test_x['SNP_03'] + '-' + test_x['SNP_04'] + '-' + test_x['SNP_05'] + '-' + test_x['SNP_06'] + '-' + test_x['SNP_07'] + '-' + test_x['SNP_08'] + '-' + test_x['SNP_09']\n",
    "test_x['6_ARS_Parent'] = test_x['SNP_02']\n",
    "test_x['6_ARS_BFGL'] = test_x['SNP_03'] + '-' + test_x['SNP_04'] + '-' + test_x['SNP_09']\n",
    "test_x['6_BOVINE'] = test_x['SNP_05'] + '-' + test_x['SNP_06'] + '-' + test_x['SNP_08']\n",
    "test_x['6_HAPMAP'] = test_x['SNP_07']\n",
    "test_x['7_BTB'] = test_x['SNP_10']\n",
    "test_x['8_ARS'] = test_x['SNP_11']\n",
    "test_x['chrom_9'] = test_x['SNP_12'] + '-' + test_x['SNP_13'] + '-' + test_x['SNP_14']\n",
    "test_x['9_HAPMAP'] = test_x['SNP_12'] + '-' + test_x['SNP_14']\n",
    "test_x['9_BTB'] = test_x['SNP_13']\n",
    "test_x['10_BOVINE'] = test_x['SNP_15']\n",
    "test_x['SNP_total'] = test_x['SNP_01'] + '-' + test_x['SNP_02'] + '-' + test_x['SNP_03'] + '-' + test_x['SNP_04'] + '-' + test_x['SNP_05'] + '-' + test_x['SNP_06'] + '-' + test_x['SNP_07'] + '-' + test_x['SNP_08'] + '-' + test_x['SNP_09'] + '-' + test_x['SNP_10'] + '-' + test_x['SNP_11'] + '-' + test_x['SNP_12'] + '-' + test_x['SNP_13'] + '-' + test_x['SNP_14'] + '-' + test_x['SNP_15'] "
   ]
  },
  {
   "cell_type": "markdown",
   "id": "s1cZc5GsDIXE",
   "metadata": {
    "id": "s1cZc5GsDIXE"
   },
   "source": [
    "#### 공백제거"
   ]
  },
  {
   "cell_type": "code",
   "execution_count": 34,
   "id": "-FclTj6UU0Ny",
   "metadata": {
    "id": "-FclTj6UU0Ny"
   },
   "outputs": [],
   "source": [
    "def blank(data_tr, data_te, columns):\n",
    "    for i in columns :\n",
    "        data_tr[i] = data_tr[i].apply(lambda x : x.replace(\" \",\"\"))\n",
    "        data_te[i] = data_te[i].apply(lambda x : x.replace(\" \",\"\"))\n",
    "        \n",
    "    return data_tr, data_te\n",
    "\n",
    "target_columns = train_x.iloc[:,16:].columns.to_list()\n",
    "train_x.iloc[:,16:], test_x.iloc[:,16:] = blank(train_x.iloc[:,16:], test_x.iloc[:,16:], target_columns)"
   ]
  },
  {
   "cell_type": "markdown",
   "id": "lhxLKsQ2DLr4",
   "metadata": {
    "id": "lhxLKsQ2DLr4"
   },
   "source": [
    "#### SNP A,C,G 값 개수"
   ]
  },
  {
   "cell_type": "code",
   "execution_count": 35,
   "id": "ace7e962",
   "metadata": {
    "id": "ace7e962"
   },
   "outputs": [],
   "source": [
    "train_x['concat'] = train_x.iloc[:,1:16].sum(axis=1).apply(lambda x : x.replace(\" \",\"\"))\n",
    "train_x['numGC'] = train_x['concat'].apply(lambda x : x.count('C')+x.count('G'))\n",
    "train_x['numA'] = train_x['concat'].apply(lambda x : x.count('A'))\n",
    "train_x['numGC^2'] = train_x['numGC']**2\n",
    "train_x['sub'] = train_x['numGC'] - train_x['numA']\n",
    "train_x['H'] = train_x['numGC']*3 + train_x['numA']*2"
   ]
  },
  {
   "cell_type": "code",
   "execution_count": 36,
   "id": "2f6c5093",
   "metadata": {
    "id": "2f6c5093"
   },
   "outputs": [],
   "source": [
    "test_x['concat'] = test_x.iloc[:,1:16].sum(axis=1).apply(lambda x : x.replace(\" \",\"\"))\n",
    "test_x['numGC'] = test_x['concat'].apply(lambda x : x.count('C')+x.count('G'))\n",
    "test_x['numA'] = test_x['concat'].apply(lambda x : x.count('A'))\n",
    "test_x['numGC^2'] = test_x['numGC']**2\n",
    "test_x['sub'] = test_x['numGC'] - test_x['numA']\n",
    "test_x['H'] = test_x['numGC']*3 + test_x['numA']*2"
   ]
  },
  {
   "cell_type": "markdown",
   "id": "1yEVOgueDQ-U",
   "metadata": {
    "id": "1yEVOgueDQ-U"
   },
   "source": [
    "#### trait 변수 type 변환"
   ]
  },
  {
   "cell_type": "code",
   "execution_count": 37,
   "id": "e2c8731b",
   "metadata": {
    "id": "e2c8731b"
   },
   "outputs": [],
   "source": [
    "train_x['trait'] = train_x['trait'].astype('object')\n",
    "test_x['trait'] = test_x['trait'].astype('object')"
   ]
  },
  {
   "cell_type": "markdown",
   "id": "bcu-7Hh-DT5i",
   "metadata": {
    "id": "bcu-7Hh-DT5i"
   },
   "source": [
    "#### 범주형, 수치형 피처 구분"
   ]
  },
  {
   "cell_type": "code",
   "execution_count": 38,
   "id": "12320e51",
   "metadata": {
    "id": "12320e51"
   },
   "outputs": [],
   "source": [
    "cat_features = train_x.select_dtypes(include=['object']).columns.to_list()\n",
    "num_features = train_x.select_dtypes(exclude=['object']).columns.to_list()"
   ]
  },
  {
   "cell_type": "markdown",
   "id": "J_AsDwi6DZJ5",
   "metadata": {
    "id": "J_AsDwi6DZJ5"
   },
   "source": [
    "## Scaling"
   ]
  },
  {
   "cell_type": "code",
   "execution_count": 39,
   "id": "ffb6c4e6",
   "metadata": {
    "id": "ffb6c4e6"
   },
   "outputs": [],
   "source": [
    "scaler = StandardScaler()\n",
    "train_x[num_features] = scaler.fit_transform(train_x[num_features])\n",
    "test_x[num_features] = scaler.transform(test_x[num_features])"
   ]
  },
  {
   "cell_type": "markdown",
   "id": "-wi3bOCcDbfF",
   "metadata": {
    "id": "-wi3bOCcDbfF"
   },
   "source": [
    "## Encoding"
   ]
  },
  {
   "cell_type": "code",
   "execution_count": 40,
   "id": "6d439bd6",
   "metadata": {
    "id": "6d439bd6"
   },
   "outputs": [],
   "source": [
    "def catboost_encoder_multiclass(X,X_t,y):\n",
    "    y = y.astype(str)\n",
    "    enc = ce.OneHotEncoder().fit(y) # onehotencoding\n",
    "    y_onehot = enc.transform(y)\n",
    "    class_names = y_onehot.columns\n",
    "    X_obj = X.select_dtypes('object')\n",
    "    X_t_obj = X_t.select_dtypes('object')\n",
    "    X = X.select_dtypes(exclude='object')\n",
    "    X_t = X_t.select_dtypes(exclude='object') \n",
    "    for class_ in class_names:\n",
    "        enc = ce.CatBoostEncoder() # catboost란? \n",
    "        enc.fit(X_obj,y_onehot[class_])\n",
    "        temp = enc.transform(X_obj)\n",
    "        temp_t = enc.transform(X_t_obj)\n",
    "        temp.columns = [str(x)+'_'+str(class_) for x in temp.columns]\n",
    "        temp_t.columns = [str(x)+'_'+str(class_) for x in temp_t.columns]\n",
    "        X = pd.concat([X,temp],axis=1)\n",
    "        X_t = pd.concat([X_t,temp_t],axis=1)\n",
    "      \n",
    "    return X, X_t\n",
    "\n",
    "train_x, test_x = catboost_encoder_multiclass(train_x,test_x,train_y)"
   ]
  },
  {
   "cell_type": "markdown",
   "id": "16f52ebf",
   "metadata": {},
   "source": [
    "# Catboost\n",
    "1. 기존 부스팅 모델의 문제\n",
    "    - 느린 학습 속도: 배깅과 비교했을 때 훨씬 느린 속도를 보인다. 배깅의 경우 여러 트리들이 병렬적으로 모델을 학습하고, 부스팅의 경우 순차적으로 학습을 하기 때문이다.\n",
    "    - 오버피팅의 문제: 부스팅 자체의 목적이 잔차를 줄여나가기 위해 학습하기 때문에, variance가 높은 모델이라는 문제가 있다. \n",
    "\n",
    "2. Catboost의 특징\n",
    "    - level-wise-tree: XGBoost와 더불어 level-wise하게 트리를 만들어나간다. Level-wise는 BFS같이 트리를 만들어가는 형태이다. \n",
    "    - Ordered Boostiong: 기존의 부스팅 모델이 일괄적으로 모든 훈련 데이터를 대상으로 잔차 계산을 했다면, Catboost는 일부를 이용하여 잔차계산을 한 뒤, 이후 데이터의 잔차는 이 모델로 예측한 값을 사용한다. \n",
    "    - Random Permutation: Ordered Boosting을 할 때의 순서도 랜덤으로 뽑아 반복한다. \n",
    "    - Ordered Target Encoding: Target Encoding = Mean Encoding =Responce Encoding을 사용한다. 이때 현재 데이터의 타겟 값을 사용하지 않고, 이전 데이터의 타겟 값만을 사용하므로 데이터의 누출이 일어나지 않는다. 범주형 범수를 숫자로 인코딩 할 때 오버피팅을 방지하고 수치값의 다양성을 만들어준다. \n",
    "    - One-hot encoding: 낮은 cardinality를 가지는 범주형 변수에 한해서 원핫인코딩을 시행한다. \n",
    "\n",
    "3. Catboost의 한계\n",
    "    - sparse한 Matrix는 처리하지 못한다\n",
    "    \n",
    "    "
   ]
  },
  {
   "cell_type": "markdown",
   "id": "_FBIaCAVDfSw",
   "metadata": {
    "id": "_FBIaCAVDfSw"
   },
   "source": [
    "## SMOTE"
   ]
  },
  {
   "cell_type": "code",
   "execution_count": 41,
   "id": "SgJbOecgDfSw",
   "metadata": {
    "id": "SgJbOecgDfSw"
   },
   "outputs": [],
   "source": [
    "# Class 불균형 문제 해결\n",
    "train_x,train_y = BorderlineSMOTE(random_state=CFG.SEED).fit_resample(train_x,train_y)"
   ]
  },
  {
   "cell_type": "markdown",
   "id": "1f251ca8",
   "metadata": {
    "id": "1f251ca8"
   },
   "source": [
    "## Target Label-Encoding"
   ]
  },
  {
   "cell_type": "code",
   "execution_count": 42,
   "id": "85b62745",
   "metadata": {
    "id": "85b62745"
   },
   "outputs": [],
   "source": [
    "class_le = LabelEncoder()\n",
    "train_y = class_le.fit_transform(train_y)"
   ]
  },
  {
   "cell_type": "markdown",
   "id": "5ba4d960-9c02-4cf2-8af0-0d678dfd2882",
   "metadata": {
    "id": "5ba4d960-9c02-4cf2-8af0-0d678dfd2882"
   },
   "source": [
    "## Modeling & Ensemble"
   ]
  },
  {
   "cell_type": "code",
   "execution_count": 43,
   "id": "uDvj9nOW_EwK",
   "metadata": {
    "id": "uDvj9nOW_EwK"
   },
   "outputs": [],
   "source": [
    "#Submission file 준비\n",
    "submit = pd.read_csv(DATA_PATH  + 'sample_submission.csv')"
   ]
  },
  {
   "cell_type": "code",
   "execution_count": 56,
   "id": "mmPLXOJaAYYd",
   "metadata": {
    "id": "mmPLXOJaAYYd"
   },
   "outputs": [],
   "source": [
    "#Model Selection -> 여러 모델링 실험결과 종류가 다른 모델 여러개를 앙상블 하는 것이 좋다 판단함\n",
    "models = [\n",
    "    ('bag', BaggingClassifier(random_state=CFG.SEED)), \n",
    "    ('dt', DecisionTreeClassifier(random_state=CFG.SEED)),\n",
    "    ('rc', RidgeClassifier(random_state=CFG.SEED)),\n",
    "    ('xgb', XGBClassifier(random_state=CFG.SEED)),\n",
    "    ('gb', GradientBoostingClassifier(random_state=CFG.SEED)),\n",
    "    ('svc', SVC(random_state=CFG.SEED)),\n",
    "    ('rcc', RidgeClassifierCV()),\n",
    "    ('rf', RandomForestClassifier(random_state=CFG.SEED))\n",
    "]"
   ]
  },
  {
   "cell_type": "code",
   "execution_count": 58,
   "id": "AL4oIdXb_-Va",
   "metadata": {
    "colab": {
     "base_uri": "https://localhost:8080/"
    },
    "executionInfo": {
     "elapsed": 2019,
     "status": "ok",
     "timestamp": 1673964977412,
     "user": {
      "displayName": "강민수",
      "userId": "02270149204876897928"
     },
     "user_tz": -540
    },
    "id": "AL4oIdXb_-Va",
    "outputId": "d51eb2c3-ce21-46fd-fdda-86029ad9395e"
   },
   "outputs": [
    {
     "data": {
      "text/plain": [
       "VotingClassifier(estimators=[('bag', BaggingClassifier(random_state=26)),\n",
       "                             ('dt', DecisionTreeClassifier(random_state=26)),\n",
       "                             ('rc', RidgeClassifier(random_state=26)),\n",
       "                             ('xgb',\n",
       "                              XGBClassifier(base_score=None, booster=None,\n",
       "                                            callbacks=None,\n",
       "                                            colsample_bylevel=None,\n",
       "                                            colsample_bynode=None,\n",
       "                                            colsample_bytree=None,\n",
       "                                            early_stopping_rounds=None,\n",
       "                                            enable_categorical=False,\n",
       "                                            eval_me...\n",
       "                                            min_child_weight=None, missing=nan,\n",
       "                                            monotone_constraints=None,\n",
       "                                            n_estimators=100, n_jobs=None,\n",
       "                                            num_parallel_tree=None,\n",
       "                                            predictor=None, random_state=26, ...)),\n",
       "                             ('gb',\n",
       "                              GradientBoostingClassifier(random_state=26)),\n",
       "                             ('svc', SVC(random_state=26)),\n",
       "                             ('rcc',\n",
       "                              RidgeClassifierCV(alphas=array([ 0.1,  1. , 10. ]))),\n",
       "                             ('rf', RandomForestClassifier(random_state=26))],\n",
       "                 weights=[1, 1, 1, 2, 1, 1, 1, 2])"
      ]
     },
     "execution_count": 58,
     "metadata": {},
     "output_type": "execute_result"
    }
   ],
   "source": [
    "#최종모델은 Votingclassifier 사용하여 ensemble -> 제출결과 public score기준 XGBClassifier와 RandomForestClassifier 성능이 좋아 가중치를 주었음\n",
    "best_model  = VotingClassifier(models, voting='hard', weights=[1,1,1,2,1,1,1,2])\n",
    "best_model.fit(train_x,train_y)"
   ]
  },
  {
   "cell_type": "markdown",
   "id": "32ce0725",
   "metadata": {},
   "source": [
    "## RandomForestClassifier\n",
    "1. 결정트리의 단점 : 훈련 데이터에 오버피팅 될 수 있다.\n",
    "\n",
    "2. 랜덤포레스트의 특징\n",
    "- 과적합 방지: 랜덤포레스트는 여러 결정트리의 묶음이다. 각 트리의 결과를 평균냄으로써 트리 모델의 예측 성능은 유지하면서 과대적합을 줄일 수 있다.\n",
    "- 결정 트리: 결정트리의 수는 많고, 각각의 트리는 구별되어야 한다. 트리를 생성할 때 무작위성을 제공한다. 트리를 무작위로 만드는 방법은 두 가지이다.\n",
    "    - 트리를 만들 때 사용하는 데이터 포인트를 무작위로 선택\n",
    "    - 분할 테스트에서 특성을 무작위로 선택\n",
    "\n",
    "3. 랜덤 포레스트 구축\n",
    "- 생성할 트리의 개수 선택\n",
    "- 트리를 만들기 위해 부트스트랩 샘플 (데이터 샘플)생성. 각각의 트리가 다른 데이터셋을 이용해 만들어진다.\n",
    "- 각 노드에서 최선의 분리를 찾는것이 아니고, 알고리즘을 통해 각 노드에서 후보 특성을 랜덤하게 선택한 후에 후보들 중에서 최선의 테스트를 찾는다.\n",
    "- 핵심 매개변수는 max_features로, 후보의 특성 개수를 선택하는 것이다. \n",
    "- 후보의 특성을 고르는 것은 매 노드마다 반복된다."
   ]
  },
  {
   "cell_type": "markdown",
   "id": "bc20d2c2",
   "metadata": {},
   "source": [
    "## Voting Classifier (Hard)\n",
    "- 여러 모델을 생성하고 그 성과를 비교한다. 이때, classifier의 결과들을 집계하여 가장 많은 표를 얻는 클래스를 최종 예측값으로 정한다. \n"
   ]
  },
  {
   "cell_type": "markdown",
   "id": "0Z9a7QzVD663",
   "metadata": {
    "id": "0Z9a7QzVD663"
   },
   "source": [
    "## Submit"
   ]
  },
  {
   "cell_type": "code",
   "execution_count": 59,
   "id": "1rlaDfy9DK-l",
   "metadata": {
    "id": "1rlaDfy9DK-l"
   },
   "outputs": [],
   "source": [
    "#test predict\n",
    "pred = class_le.inverse_transform(best_model.predict(test_x))\n",
    "submit['class'] = pred"
   ]
  },
  {
   "cell_type": "code",
   "execution_count": 60,
   "id": "TZdV0uMP_E-J",
   "metadata": {
    "colab": {
     "base_uri": "https://localhost:8080/",
     "height": 423
    },
    "executionInfo": {
     "elapsed": 15,
     "status": "ok",
     "timestamp": 1673964977418,
     "user": {
      "displayName": "강민수",
      "userId": "02270149204876897928"
     },
     "user_tz": -540
    },
    "id": "TZdV0uMP_E-J",
    "outputId": "e014704a-7918-41ef-dcaa-d596e5ed64b5"
   },
   "outputs": [
    {
     "data": {
      "text/html": [
       "<div>\n",
       "<style scoped>\n",
       "    .dataframe tbody tr th:only-of-type {\n",
       "        vertical-align: middle;\n",
       "    }\n",
       "\n",
       "    .dataframe tbody tr th {\n",
       "        vertical-align: top;\n",
       "    }\n",
       "\n",
       "    .dataframe thead th {\n",
       "        text-align: right;\n",
       "    }\n",
       "</style>\n",
       "<table border=\"1\" class=\"dataframe\">\n",
       "  <thead>\n",
       "    <tr style=\"text-align: right;\">\n",
       "      <th></th>\n",
       "      <th>id</th>\n",
       "      <th>class</th>\n",
       "    </tr>\n",
       "  </thead>\n",
       "  <tbody>\n",
       "    <tr>\n",
       "      <th>0</th>\n",
       "      <td>TEST_000</td>\n",
       "      <td>A</td>\n",
       "    </tr>\n",
       "    <tr>\n",
       "      <th>1</th>\n",
       "      <td>TEST_001</td>\n",
       "      <td>B</td>\n",
       "    </tr>\n",
       "    <tr>\n",
       "      <th>2</th>\n",
       "      <td>TEST_002</td>\n",
       "      <td>C</td>\n",
       "    </tr>\n",
       "    <tr>\n",
       "      <th>3</th>\n",
       "      <td>TEST_003</td>\n",
       "      <td>C</td>\n",
       "    </tr>\n",
       "    <tr>\n",
       "      <th>4</th>\n",
       "      <td>TEST_004</td>\n",
       "      <td>A</td>\n",
       "    </tr>\n",
       "    <tr>\n",
       "      <th>...</th>\n",
       "      <td>...</td>\n",
       "      <td>...</td>\n",
       "    </tr>\n",
       "    <tr>\n",
       "      <th>170</th>\n",
       "      <td>TEST_170</td>\n",
       "      <td>B</td>\n",
       "    </tr>\n",
       "    <tr>\n",
       "      <th>171</th>\n",
       "      <td>TEST_171</td>\n",
       "      <td>C</td>\n",
       "    </tr>\n",
       "    <tr>\n",
       "      <th>172</th>\n",
       "      <td>TEST_172</td>\n",
       "      <td>C</td>\n",
       "    </tr>\n",
       "    <tr>\n",
       "      <th>173</th>\n",
       "      <td>TEST_173</td>\n",
       "      <td>B</td>\n",
       "    </tr>\n",
       "    <tr>\n",
       "      <th>174</th>\n",
       "      <td>TEST_174</td>\n",
       "      <td>B</td>\n",
       "    </tr>\n",
       "  </tbody>\n",
       "</table>\n",
       "<p>175 rows × 2 columns</p>\n",
       "</div>"
      ],
      "text/plain": [
       "           id class\n",
       "0    TEST_000     A\n",
       "1    TEST_001     B\n",
       "2    TEST_002     C\n",
       "3    TEST_003     C\n",
       "4    TEST_004     A\n",
       "..        ...   ...\n",
       "170  TEST_170     B\n",
       "171  TEST_171     C\n",
       "172  TEST_172     C\n",
       "173  TEST_173     B\n",
       "174  TEST_174     B\n",
       "\n",
       "[175 rows x 2 columns]"
      ]
     },
     "execution_count": 60,
     "metadata": {},
     "output_type": "execute_result"
    }
   ],
   "source": [
    "submit"
   ]
  },
  {
   "cell_type": "code",
   "execution_count": 61,
   "id": "7r6_bBk-Fqzw",
   "metadata": {
    "id": "7r6_bBk-Fqzw"
   },
   "outputs": [],
   "source": [
    "submit.to_csv('Fine_20.csv',index=False)"
   ]
  },
  {
   "cell_type": "code",
   "execution_count": null,
   "id": "d1c4012b",
   "metadata": {},
   "outputs": [],
   "source": []
  }
 ],
 "metadata": {
  "accelerator": "GPU",
  "colab": {
   "machine_shape": "hm",
   "provenance": []
  },
  "gpuClass": "standard",
  "kernelspec": {
   "display_name": "Python 3 (ipykernel)",
   "language": "python",
   "name": "python3"
  },
  "language_info": {
   "codemirror_mode": {
    "name": "ipython",
    "version": 3
   },
   "file_extension": ".py",
   "mimetype": "text/x-python",
   "name": "python",
   "nbconvert_exporter": "python",
   "pygments_lexer": "ipython3",
   "version": "3.10.4"
  }
 },
 "nbformat": 4,
 "nbformat_minor": 5
}
